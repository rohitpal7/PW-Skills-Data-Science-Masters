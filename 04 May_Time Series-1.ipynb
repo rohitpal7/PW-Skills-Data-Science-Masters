{
 "cells": [
  {
   "cell_type": "code",
   "execution_count": null,
   "id": "cc9fe445-d43c-4ee5-8235-3b9fe51954bc",
   "metadata": {},
   "outputs": [],
   "source": [
    "#Q1. What is a time series, and what are some common applications of time series analysis?\n",
    "#Ans.\n",
    "#A time series is a sequence of data points collected over time, where each data point corresponds to a specific time interval. \n",
    "#Time series data can be collected at regular intervals (e.g., hourly, daily, monthly) or irregular intervals. \n",
    "#Some common applications of time series analysis include: Finance and Stock Market Analysis, Economic Forecasting, Demand Forecasting, Weather and Climate Analysis, Sales and Marketing Analysis"
   ]
  },
  {
   "cell_type": "code",
   "execution_count": null,
   "id": "abf07742-5fe7-4932-aeef-1165433c0403",
   "metadata": {},
   "outputs": [],
   "source": [
    "#Q2. What are some common time series patterns, and how can they be identified and interpreted?\n",
    "#Ans.\n",
    "#Time series data often exhibit several common patterns or characteristics, which can provide valuable insights when identified and interpreted. \n",
    "#Here are some common time series patterns: Trend, Seasonality, Cyclical, Irregular/Random, Autocorrelation\n",
    "#recognizing and interpreting these patterns in time series data can provide valuable insights for decision-making, forecasting, and understanding the underlying dynamics of the analyzed phenomenon."
   ]
  },
  {
   "cell_type": "code",
   "execution_count": null,
   "id": "1daca75c-d563-4363-9386-b5e8a21140ac",
   "metadata": {},
   "outputs": [],
   "source": [
    "#Q3. How can time series data be preprocessed before applying analysis techniques?\n",
    "#Ans.\n",
    "#Preprocessing time series data is an important step to ensure data quality, handle missing values, remove noise, and prepare the data for analysis. \n",
    "#Here are some common preprocessing techniques for time series data: Handling Missing Values, Resampling, Removing Outliers, Detrending, Smoothing, Normalization, Feature Engineering"
   ]
  },
  {
   "cell_type": "code",
   "execution_count": null,
   "id": "68819193-11b0-42ec-ad2f-3b60fdba2875",
   "metadata": {},
   "outputs": [],
   "source": [
    "#Q4. How can time series forecasting be used in business decision-making, and what are some common challenges and limitations?\n",
    "#Ans.\n",
    "#Time series forecasting plays a crucial role in business decision-making by providing insights into future trends, demand, and behavior of various business metrics. \n",
    "#Here are some ways in which time series forecasting can be used in business decision-making: Demand Forecasting, Financial Planning, Sales and Marketing Strategy, Capacity Planning, Risk Management"
   ]
  },
  {
   "cell_type": "code",
   "execution_count": null,
   "id": "070fe1ea-1f9e-452a-8566-f5bdbee290f6",
   "metadata": {},
   "outputs": [],
   "source": [
    "#Q5. What is ARIMA modelling, and how can it be used to forecast time series data?\n",
    "#Ans.\n",
    "#ARIMA (AutoRegressive Integrated Moving Average) modeling is a popular and widely used time series forecasting method. \n",
    "#It combines three components—autoregressive (AR), differencing (I), and moving average (MA)—to capture the patterns and dependencies in the data. \n",
    "#ARIMA models are capable of handling stationary and non-stationary time series data.\n",
    "#The components of an ARIMA model are as follows: Autoregressive (AR) Component, Differencing (I) Component, Moving Average (MA) Component"
   ]
  }
 ],
 "metadata": {
  "kernelspec": {
   "display_name": "Python 3 (ipykernel)",
   "language": "python",
   "name": "python3"
  },
  "language_info": {
   "codemirror_mode": {
    "name": "ipython",
    "version": 3
   },
   "file_extension": ".py",
   "mimetype": "text/x-python",
   "name": "python",
   "nbconvert_exporter": "python",
   "pygments_lexer": "ipython3",
   "version": "3.10.8"
  }
 },
 "nbformat": 4,
 "nbformat_minor": 5
}
