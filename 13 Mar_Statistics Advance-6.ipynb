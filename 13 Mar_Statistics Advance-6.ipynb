{
 "cells": [
  {
   "cell_type": "code",
   "execution_count": null,
   "id": "c70b572f-d6dc-4120-b427-af69009ef07a",
   "metadata": {},
   "outputs": [],
   "source": [
    "#Q1. Explain the assumptions required to use ANOVA and provide examples of violations that could impact the validity of the results.\n",
    "#Ans.\n",
    "#ANOVA (Analysis of Variance) is a statistical test used to compare the means of two or more groups.\n",
    "#These assumptions are: Normality, Homogeneity of variances, Independence\n",
    "\n",
    "#Examples of violations that could impact the validity of ANOVA results are:\n",
    "#Non-normality, Unequal variances, Correlated observations, Outliers."
   ]
  },
  {
   "cell_type": "code",
   "execution_count": null,
   "id": "67afb659-4ba1-47d1-ae4a-a5564bcb404f",
   "metadata": {},
   "outputs": [],
   "source": [
    "#Q2. What are the three types of ANOVA, and in what situations would each be used?\n",
    "#Ans.\n",
    "#The three types of ANOVA are:\n",
    "#One-way ANOVA: This type of ANOVA is used when there is only one independent variable or factor. \n",
    "#Two-way ANOVA: This type of ANOVA is used when there are two independent variables or factors.\n",
    "#MANOVA (Multivariate ANOVA): This type of ANOVA is used when there are two or more dependent variables."
   ]
  },
  {
   "cell_type": "code",
   "execution_count": null,
   "id": "b4dea698-e540-4c4f-8cd3-9f4143f121b7",
   "metadata": {},
   "outputs": [],
   "source": [
    "#Q3. What is the partitioning of variance in ANOVA, and why is it important to understand this concept?\n",
    "#Ans.\n",
    "#Partitioning of variance in ANOVA refers to the process of breaking down the total variance in a dependent variable into separate components that can be attributed to different sources of variation.\n",
    "#Understanding the partitioning of variance is important because it allows us to identify the sources of variation in our data and determine which sources are contributing the most to the differences in the dependent variable. "
   ]
  },
  {
   "cell_type": "code",
   "execution_count": 1,
   "id": "4c53d90a-94fe-4ca8-915a-55138bb5d848",
   "metadata": {},
   "outputs": [
    {
     "name": "stdout",
     "output_type": "stream",
     "text": [
      "SST: 24.888888888888896\n",
      "SSE: 17.333333333333336\n",
      "SSR: 7.555555555555561\n"
     ]
    }
   ],
   "source": [
    "#Q4. How would you calculate the total sum of squares (SST), explained sum of squares (SSE), and residual sum of squares (SSR) in a one-way ANOVA using Python?\n",
    "#Ans.\n",
    "#In a one-way ANOVA, the total sum of squares (SST) represents the total amount of variation in the dependent variable, the explained sum of squares (SSE) represents the variation that can be attributed to the treatment or group differences, and the residual sum of squares (SSR) represents the variation that cannot be explained by the treatment or group differences.\n",
    "import pandas as pd\n",
    "import statsmodels.api as sm\n",
    "from statsmodels.formula.api import ols\n",
    "\n",
    "# Create a pandas DataFrame with the data\n",
    "data = pd.DataFrame({\n",
    "    'Group': ['A', 'A', 'A', 'B', 'B', 'B', 'C', 'C', 'C'],\n",
    "    'Value': [5, 8, 7, 9, 11, 12, 6, 8, 10]\n",
    "})\n",
    "\n",
    "# Fit a one-way ANOVA model\n",
    "model = ols('Value ~ Group', data=data).fit()\n",
    "\n",
    "# Calculate the total sum of squares (SST)\n",
    "sst = sm.stats.anova_lm(model, typ=1)['sum_sq'][0]\n",
    "\n",
    "# Calculate the explained sum of squares (SSE)\n",
    "sse = sm.stats.anova_lm(model, typ=1)['sum_sq'][1]\n",
    "\n",
    "# Calculate the residual sum of squares (SSR)\n",
    "ssr = sst - sse\n",
    "\n",
    "print('SST:', sst)\n",
    "print('SSE:', sse)\n",
    "print('SSR:', ssr)\n"
   ]
  },
  {
   "cell_type": "code",
   "execution_count": null,
   "id": "0b8bc786-9168-471d-a476-7971ea4c6d23",
   "metadata": {},
   "outputs": [],
   "source": [
    "#Q5. In a two-way ANOVA, how would you calculate the main effects and interaction effects using Python?\n",
    "#Ans.\n",
    "import pandas as pd\n",
    "import statsmodels.api as sm\n",
    "from statsmodels.formula.api import ols\n",
    "\n",
    "# Load the data into a DataFrame\n",
    "data = pd.read_csv('data.csv')\n",
    "\n",
    "# Define the formula for the model\n",
    "formula = 'y ~ C(factor1) + C(factor2) + C(factor1):C(factor2)'\n",
    "\n",
    "# Fit the model\n",
    "model = ols(formula, data).fit()\n",
    "\n",
    "# Calculate the main effects\n",
    "main_effects = sm.stats.anova_lm(model, typ=1)\n",
    "\n",
    "# Calculate the interaction effect\n",
    "interaction_effect = sm.stats.anova_lm(model, typ=2)\n",
    "\n",
    "# Print the results\n",
    "print(\"Main Effects:\\n\", main_effects)\n",
    "print(\"\\nInteraction Effect:\\n\", interaction_effect)\n"
   ]
  },
  {
   "cell_type": "code",
   "execution_count": null,
   "id": "877d2926-1e5a-4475-8c01-f699fc7fb58c",
   "metadata": {},
   "outputs": [],
   "source": [
    "#Q6. Suppose you conducted a one-way ANOVA and obtained an F-statistic of 5.23 and a p-value of 0.02.What can you conclude about the differences between the groups, and how would you interpret theseresults?\n",
    "#Ans.\n",
    "#If we conducted a one-way ANOVA and obtained an F-statistic of 5.23 and a p-value of 0.02, we can conclude that there is a statistically significant difference between the groups. \n",
    "#The F-statistic indicates the ratio of the variance between groups to the variance within groups. \n",
    "#In this case, the F-statistic is greater than 1, which means that the variance between groups is larger than the variance within groups.\n",
    "\n",
    "#The p-value of 0.02 indicates that the probability of observing an F-statistic as extreme as 5.23 is only 2%, assuming that the null hypothesis is true. \n",
    "#Since the p-value is less than the significance level of 0.05, we reject the null hypothesis and conclude that there is a statistically significant difference between the groups."
   ]
  },
  {
   "cell_type": "code",
   "execution_count": null,
   "id": "d2fe39ea-0462-481b-9abe-a1aab208dc39",
   "metadata": {},
   "outputs": [],
   "source": [
    "#Q7. In a repeated measures ANOVA, how would you handle missing data, and what are the potential consequences of using different methods to handle missing data?\n",
    "#Ans.\n",
    "#Handling missing data in a repeated measures ANOVA can be challenging since the observations for each subject are not independent. \n",
    "#One approach to handling missing data is to use a method called imputation, which involves replacing missing values with estimates based on other available data.\n",
    "#The consequences of using different methods to handle missing data can be significant. \n",
    "#Pairwise deletion, which involves using all available data for each analysis, can also result in biased results if the missing data is related to the outcome or predictor variables. "
   ]
  },
  {
   "cell_type": "code",
   "execution_count": null,
   "id": "9ffba71f-7ff7-4e31-a74a-95103b78f05d",
   "metadata": {},
   "outputs": [],
   "source": [
    "#Q8. What are some common post-hoc tests used after ANOVA, and when would you use each one? Provide an example of a situation where a post-hoc test might be necessary.\n",
    "#Ans.\n",
    "#Post-hoc tests are used after ANOVA to determine which specific group means differ significantly from each other when an overall significant difference has been found. \n",
    "#There are several common post-hoc tests, including:\n",
    "#Tukey's Honestly Significant Difference (HSD) test\n",
    "#Bonferroni correction\n",
    "#Scheffe's test\n",
    "#Dunnett's test"
   ]
  },
  {
   "cell_type": "code",
   "execution_count": 4,
   "id": "a73b4569-d504-43df-8d87-1ba724bd7d0d",
   "metadata": {},
   "outputs": [
    {
     "name": "stdout",
     "output_type": "stream",
     "text": [
      "F-statistic: 16.00233357897323\n",
      "p-value: 5.155776167236295e-07\n"
     ]
    }
   ],
   "source": [
    "#Q9. A researcher wants to compare the mean weight loss of three diets: A, B, and C. They collect data from 50 participants who were randomly assigned to one of the diets. Conduct a one-way ANOVA using Pythonto determine if there are any significant differences between the mean weight loss of the three diets.Report the F-statistic and p-value, and interpret the results.\n",
    "#Ans.\n",
    "import numpy as np\n",
    "from scipy.stats import f_oneway\n",
    "\n",
    "# Data for the three diets\n",
    "diet_a = np.array([2, 1, 3, 4, 2, 3, 1, 4, 3, 2, 1, 2, 4, 2, 3, 1, 2, 3, 1, 4, \n",
    "                   3, 2, 3, 4, 1, 2, 3, 2, 4, 3, 1, 2, 3, 4, 1, 2, 3, 4, 2, 1, \n",
    "                   4, 2, 3, 1, 4, 2, 3, 1, 2, 3])\n",
    "diet_b = np.array([1, 0, 2, 3, 1, 2, 0, 3, 2, 1, 0, 1, 3, 1, 2, 0, 1, 2, 0, 3, \n",
    "                   2, 1, 2, 3, 0, 1, 2, 1, 3, 2, 0, 1, 2, 3, 0, 1, 2, 3, 1, 0, \n",
    "                   3, 1, 2, 0, 3, 1, 2, 0, 1, 2])\n",
    "diet_c = np.array([0, 1, 1, 2, 0, 2, 1, 3, 2, 0, 1, 2, 3, 0, 2, 1, 0, 2, 1, 3, \n",
    "                   2, 0, 2, 3, 1, 0, 2, 1, 3, 1, 0, 2, 1, 3, 0, 2, 1, 3, 0, 1, \n",
    "                   3, 1, 2, 0, 3, 1, 2, 0, 1, 2])\n",
    "\n",
    "# Perform one-way ANOVA\n",
    "f_stat, p_value = f_oneway(diet_a, diet_b, diet_c)\n",
    "\n",
    "print(\"F-statistic:\", f_stat)\n",
    "print(\"p-value:\", p_value)\n"
   ]
  },
  {
   "cell_type": "code",
   "execution_count": 5,
   "id": "d4565de5-a07b-4190-b131-bce013e9e153",
   "metadata": {},
   "outputs": [
    {
     "name": "stdout",
     "output_type": "stream",
     "text": [
      "                          sum_sq   df         F    PR(>F)\n",
      "C(Program)                  8.45  2.0  1.207143  0.412449\n",
      "C(Experience)               0.50  1.0  0.142857  0.730615\n",
      "C(Program):C(Experience)    1.00  2.0  0.142857  0.872443\n",
      "Residual                   10.50  3.0       NaN       NaN\n"
     ]
    }
   ],
   "source": [
    "#Q10. A company wants to know if there are any significant differences in the average time it takes tocomplete a task using three different software programs: Program A, Program B, and Program C. Theyrandomly assign 30 employees to one of the programs and record the time it takes each employee tocomplete the task. Conduct a two-way ANOVA using Python to determine if there are any main effects orinteraction effects between the software programs and employee experience level (novice vs.experienced). Report the F-statistics and p-values, and interpret the results.\n",
    "#Ans.\n",
    "import pandas as pd\n",
    "import statsmodels.api as sm\n",
    "from statsmodels.formula.api import ols\n",
    "\n",
    "# Create a pandas dataframe with the data\n",
    "data = {'Program': ['A', 'A', 'A', 'B', 'B', 'B', 'C', 'C', 'C'],\n",
    "        'Experience': ['Novice', 'Experienced', 'Novice', 'Experienced', 'Novice', 'Experienced', 'Novice', 'Experienced', 'Novice'],\n",
    "        'Time': [10, 12, 14, 11, 13, 12, 9, 10, 11]}\n",
    "df = pd.DataFrame(data)\n",
    "\n",
    "# Fit a two-way ANOVA model\n",
    "model = ols('Time ~ C(Program) + C(Experience) + C(Program):C(Experience)', data=df).fit()\n",
    "anova_table = sm.stats.anova_lm(model, typ=2)\n",
    "\n",
    "# Print the ANOVA table\n",
    "print(anova_table)\n"
   ]
  },
  {
   "cell_type": "code",
   "execution_count": null,
   "id": "fd2d3b26-42dd-4796-a008-1ee513539095",
   "metadata": {},
   "outputs": [],
   "source": [
    "#Q11. An educational researcher is interested in whether a new teaching method improves student testscores. They randomly assign 100 students to either the control group (traditional teaching method) or theexperimental group (new teaching method) and administer a test at the end of the semester. Conduct atwo-sample t-test using Python to determine if there are any significant differences in test scoresbetween the two groups. If the results are significant, follow up with a post-hoc test to determine whichgroup(s) differ significantly from each other.\n",
    "#Ans.\n",
    "import pandas as pd\n",
    "from scipy.stats import ttest_ind\n",
    "from statsmodels.stats.multicomp import pairwise_tukeyhsd\n",
    "\n",
    "# load the data into a pandas dataframe\n",
    "data = pd.read_csv('test_scores.csv')\n",
    "\n",
    "# separate the control and experimental groups into separate dataframes\n",
    "control = data[data['group'] == 'control']\n",
    "experimental = data[data['group'] == 'experimental']\n",
    "\n",
    "# conduct the two-sample t-test\n",
    "t_stat, p_value = ttest_ind(control['score'], experimental['score'])\n",
    "\n",
    "print(\"Two-sample t-test results:\")\n",
    "print(\"t-statistic:\", t_stat)\n",
    "print(\"p-value:\", p_value)\n",
    "\n",
    "# conduct the post-hoc test using Tukey's HSD\n",
    "tukey_results = pairwise_tukeyhsd(data['score'], data['group'])\n",
    "print(\"Post-hoc test results:\")\n",
    "print(tukey_results)\n"
   ]
  },
  {
   "cell_type": "code",
   "execution_count": 2,
   "id": "45d2e89c-f86b-47c6-91da-4b556dfeb2e1",
   "metadata": {},
   "outputs": [
    {
     "data": {
      "text/html": [
       "<div>\n",
       "<style scoped>\n",
       "    .dataframe tbody tr th:only-of-type {\n",
       "        vertical-align: middle;\n",
       "    }\n",
       "\n",
       "    .dataframe tbody tr th {\n",
       "        vertical-align: top;\n",
       "    }\n",
       "\n",
       "    .dataframe thead th {\n",
       "        text-align: right;\n",
       "    }\n",
       "</style>\n",
       "<table border=\"1\" class=\"dataframe\">\n",
       "  <thead>\n",
       "    <tr style=\"text-align: right;\">\n",
       "      <th></th>\n",
       "      <th>Source</th>\n",
       "      <th>ddof1</th>\n",
       "      <th>ddof2</th>\n",
       "      <th>F</th>\n",
       "      <th>p-unc</th>\n",
       "      <th>p-GG-corr</th>\n",
       "      <th>ng2</th>\n",
       "      <th>eps</th>\n",
       "      <th>sphericity</th>\n",
       "      <th>W-spher</th>\n",
       "      <th>p-spher</th>\n",
       "    </tr>\n",
       "  </thead>\n",
       "  <tbody>\n",
       "    <tr>\n",
       "      <th>0</th>\n",
       "      <td>Store</td>\n",
       "      <td>2</td>\n",
       "      <td>58</td>\n",
       "      <td>8.91187</td>\n",
       "      <td>0.000422</td>\n",
       "      <td>0.001006</td>\n",
       "      <td>0.171948</td>\n",
       "      <td>0.832033</td>\n",
       "      <td>False</td>\n",
       "      <td>0.798125</td>\n",
       "      <td>0.042559</td>\n",
       "    </tr>\n",
       "  </tbody>\n",
       "</table>\n",
       "</div>"
      ],
      "text/plain": [
       "  Source  ddof1  ddof2        F     p-unc  p-GG-corr       ng2       eps  \\\n",
       "0  Store      2     58  8.91187  0.000422   0.001006  0.171948  0.832033   \n",
       "\n",
       "   sphericity   W-spher   p-spher  \n",
       "0       False  0.798125  0.042559  "
      ]
     },
     "execution_count": 2,
     "metadata": {},
     "output_type": "execute_result"
    }
   ],
   "source": [
    "#Q12. A researcher wants to know if there are any significant differences in the average daily sales of threeretail stores: Store A, Store B, and Store C. They randomly select 30 days and record the sales for each storeon those days. Conduct a repeated measures ANOVA using Python to determine if there are anysignificant differences in sales between the three stores. If the results are significant, follow up with a post-hoc test to determine which store(s) differ significantly from each other.\n",
    "#Ans.\n",
    "import pandas as pd\n",
    "import pingouin as pg\n",
    "\n",
    "# create a dataframe with the sales data\n",
    "data = {'Day': ['Day 1', 'Day 2', 'Day 3', 'Day 4', 'Day 5', 'Day 6', 'Day 7', 'Day 8', 'Day 9', 'Day 10',\n",
    "                'Day 11', 'Day 12', 'Day 13', 'Day 14', 'Day 15', 'Day 16', 'Day 17', 'Day 18', 'Day 19', 'Day 20',\n",
    "                'Day 21', 'Day 22', 'Day 23', 'Day 24', 'Day 25', 'Day 26', 'Day 27', 'Day 28', 'Day 29', 'Day 30'],\n",
    "        'Store A': [45, 47, 50, 52, 53, 48, 51, 49, 46, 48,\n",
    "                    50, 52, 53, 54, 55, 56, 55, 54, 52, 51,\n",
    "                    49, 48, 50, 53, 54, 55, 56, 55, 54, 52],\n",
    "        'Store B': [42, 44, 46, 48, 50, 52, 53, 55, 53, 52,\n",
    "                    50, 48, 46, 44, 43, 42, 41, 43, 44, 46,\n",
    "                    47, 49, 51, 52, 54, 53, 52, 50, 48, 46],\n",
    "        'Store C': [50, 53, 55, 58, 60, 62, 64, 66, 65, 63,\n",
    "                    61, 59, 57, 55, 53, 52, 51, 50, 49, 47,\n",
    "                    45, 44, 43, 44, 45, 47, 49, 50, 52, 54]}\n",
    "df = pd.DataFrame(data)\n",
    "\n",
    "# reshape the dataframe to long format\n",
    "df_long = pd.melt(df, id_vars=['Day'], value_vars=['Store A', 'Store B', 'Store C'], var_name='Store', value_name='Sales')\n",
    "\n",
    "# run the repeated measures ANOVA\n",
    "pg.rm_anova(dv='Sales', within='Store', subject='Day', data=df_long)\n"
   ]
  }
 ],
 "metadata": {
  "kernelspec": {
   "display_name": "Python 3 (ipykernel)",
   "language": "python",
   "name": "python3"
  },
  "language_info": {
   "codemirror_mode": {
    "name": "ipython",
    "version": 3
   },
   "file_extension": ".py",
   "mimetype": "text/x-python",
   "name": "python",
   "nbconvert_exporter": "python",
   "pygments_lexer": "ipython3",
   "version": "3.10.8"
  }
 },
 "nbformat": 4,
 "nbformat_minor": 5
}
