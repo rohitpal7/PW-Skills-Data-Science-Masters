{
 "cells": [
  {
   "cell_type": "code",
   "execution_count": null,
   "id": "91a79e27-e613-437e-a691-1b44c7af525d",
   "metadata": {},
   "outputs": [],
   "source": [
    "#Q1. What is multiprocessing in python? Why is it useful?\n",
    "#Ans.\n",
    "#Multiprocessing in Python is a technique that allows a program to utilize multiple CPU cores to execute tasks in parallel.\n",
    "#Multiprocessing is useful for a number of reasons, including:Increased performance, Improved responsiveness, Improved scalability and Easier debugging.\n"
   ]
  },
  {
   "cell_type": "code",
   "execution_count": 11,
   "id": "c222197a-e53e-4ad6-918a-59879774aa89",
   "metadata": {},
   "outputs": [],
   "source": [
    "#Q2. What are the differences between multiprocessing and multithreading?\n",
    "#Ans.\n",
    "#The primary difference between multiprocessing and multithreading in Python is that multiprocessing runs multiple processes simultaneously within a single thread, \n",
    "#while multithreading runs multiple threads simultaneously within a single process."
   ]
  },
  {
   "cell_type": "code",
   "execution_count": 12,
   "id": "035ca32d-c31e-477a-b1cd-6cde4811d59e",
   "metadata": {},
   "outputs": [
    {
     "name": "stdout",
     "output_type": "stream",
     "text": [
      "Data Science\n",
      "Hello world\n"
     ]
    }
   ],
   "source": [
    "#Q3. Write a python code to create a process using the multiprocessing module.\n",
    "#Ans.\n",
    "import multiprocessing\n",
    "\n",
    "def test():\n",
    "    print(\"Hello world\")\n",
    "    \n",
    "if __name__==\"__main__\":\n",
    "    a=multiprocessing.Process(target=test)\n",
    "    print(\"Data Science\")\n",
    "    a.start()  \n",
    "    a.join()\n"
   ]
  },
  {
   "cell_type": "code",
   "execution_count": 1,
   "id": "90525ad4-7b92-4c16-b356-e52516b34b0e",
   "metadata": {},
   "outputs": [
    {
     "name": "stdout",
     "output_type": "stream",
     "text": [
      "[0, 1, 4, 9, 16, 25, 36, 49, 64, 81]\n"
     ]
    }
   ],
   "source": [
    "#Q4. What is a multiprocessing pool in python? Why is it used?\n",
    "#Ans.\n",
    "#A multiprocessing pool in Python is a collection of worker processes that are used to execute tasks in parallel.\n",
    "#A multiprocessing pool is useful for several reasons:Increased performance, Ease of use and Automatic resource management.\n",
    "import multiprocessing\n",
    "\n",
    "def my_function(x):\n",
    "    \"\"\"A simple function to return the square of a number\"\"\"\n",
    "    return x**2\n",
    "\n",
    "if __name__ == '__main__':\n",
    "    # Create a pool of 4 worker processes\n",
    "    pool = multiprocessing.Pool(4)\n",
    "    \n",
    "    # Apply the function to a range of numbers from 0 to 9\n",
    "    results = pool.map(my_function, range(10))\n",
    "    \n",
    "    # Print the results\n",
    "    print(results)\n",
    "    \n",
    "    # Close the pool\n",
    "    pool.close()\n",
    "    pool.join()\n"
   ]
  },
  {
   "cell_type": "code",
   "execution_count": 2,
   "id": "e9d17b9f-b79b-41b8-ba6b-9e3beb016d5e",
   "metadata": {},
   "outputs": [
    {
     "name": "stdout",
     "output_type": "stream",
     "text": [
      "[1, 4, 9, 16, 25, 36, 49, 64, 81, 100]\n"
     ]
    }
   ],
   "source": [
    "#Q5. How can we create a pool of worker processes in python using the multiprocessing module?\n",
    "#Ans.\n",
    "#We can create a pool of worker processes in Python using the multiprocessing.\n",
    "#Pool() constructor, which takes an optional argument to specify the number of worker processes in the pool.\n",
    "import multiprocessing\n",
    "\n",
    "def my_function(x):\n",
    "    \"\"\"A simple function to return the square of a number\"\"\"\n",
    "    return x**2\n",
    "\n",
    "if __name__ == '__main__':\n",
    "    # Create a pool of 4 worker processes\n",
    "    pool = multiprocessing.Pool(4)\n",
    "    \n",
    "    # Apply the function to a list of numbers\n",
    "    results = pool.map(my_function, [1, 2, 3, 4, 5, 6, 7, 8, 9, 10])\n",
    "    \n",
    "    # Print the results\n",
    "    print(results)\n",
    "    \n",
    "    # Close the pool\n",
    "    pool.close()\n",
    "    pool.join()\n"
   ]
  },
  {
   "cell_type": "code",
   "execution_count": 6,
   "id": "e00865a3-0f7f-4bfc-99db-8be3a36a4ca0",
   "metadata": {},
   "outputs": [
    {
     "name": "stdout",
     "output_type": "stream",
     "text": [
      "Process Process-21 prints: 1\n",
      "Process Process-22 prints: 2\n",
      "Process Process-23 prints: 3\n",
      "Process Process-24 prints: 4\n"
     ]
    }
   ],
   "source": [
    "#Q6. Write a python program to create 4 processes, each process should print a different number using the multiprocessing module in python.\n",
    "#Ans.\n",
    "import multiprocessing\n",
    "\n",
    "def print_number(n):\n",
    "    print(f\"Process {multiprocessing.current_process().name} prints: {n}\")\n",
    "\n",
    "if __name__ == '__main__':\n",
    "    # Create a list of numbers\n",
    "    numbers = [1, 2, 3, 4]\n",
    "    \n",
    "    # Create a process for each number in the list\n",
    "    processes = []\n",
    "    for n in numbers:\n",
    "        p = multiprocessing.Process(target=print_number, args=(n,))\n",
    "        processes.append(p)\n",
    "    \n",
    "    # Start all the processes\n",
    "    for p in processes:\n",
    "        p.start()\n",
    "    \n",
    "    # Wait for all the processes to finish\n",
    "    for p in processes:\n",
    "        p.join()\n"
   ]
  }
 ],
 "metadata": {
  "kernelspec": {
   "display_name": "Python 3 (ipykernel)",
   "language": "python",
   "name": "python3"
  },
  "language_info": {
   "codemirror_mode": {
    "name": "ipython",
    "version": 3
   },
   "file_extension": ".py",
   "mimetype": "text/x-python",
   "name": "python",
   "nbconvert_exporter": "python",
   "pygments_lexer": "ipython3",
   "version": "3.10.8"
  }
 },
 "nbformat": 4,
 "nbformat_minor": 5
}
