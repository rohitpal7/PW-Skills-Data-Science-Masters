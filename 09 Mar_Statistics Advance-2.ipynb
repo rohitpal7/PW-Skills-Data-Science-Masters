{
 "cells": [
  {
   "cell_type": "code",
   "execution_count": null,
   "id": "2f74e3dc-a362-4caa-9db9-9d3c91a5609a",
   "metadata": {},
   "outputs": [],
   "source": [
    "#Q1: What are the Probability Mass Function (PMF) and Probability Density Function (PDF)? Explain with an example.\n",
    "#Ans.\n",
    "#PMF and PDF are both mathematical functions used to describe the probability distribution of random variables. \n",
    "#PMF is used for discrete random variables and gives the probability that a random variable takes a specific value, while PDF is used for continuous random variables and gives the probability density of a random variable taking a specific value."
   ]
  },
  {
   "cell_type": "code",
   "execution_count": null,
   "id": "aea6effb-4d57-4ac3-b654-c13587412108",
   "metadata": {},
   "outputs": [],
   "source": [
    "#Q2: What is Cumulative Density Function (CDF)? Explain with an example. Why CDF is used?\n",
    "#Ans.\n",
    "#The Cumulative Density Function (CDF) is a mathematical function that gives the probability that a random variable takes on a value less than or equal to a specific value. \n",
    "#It is useful for calculating probabilities, determining percentiles and quartiles, and testing hypotheses about the distribution of a random variable."
   ]
  },
  {
   "cell_type": "code",
   "execution_count": null,
   "id": "7c9f8ec8-4007-488a-9ef3-679fa19d997e",
   "metadata": {},
   "outputs": [],
   "source": [
    "#Q3: What are some examples of situations where the normal distribution might be used as a model? Explain how the parameters of the normal distribution relate to the shape of the distribution.\n",
    "#Ans.\n",
    "#The normal distribution is a widely used probability distribution in statistics, and is often used to model real-world phenomena in various fields. \n",
    "#Some examples of situations where the normal distribution might be used as a model include:\n",
    "\n",
    "#Heights and weights of people in a population.\n",
    "#Test scores and IQ scores.\n",
    "#Errors in measurements and experimental data.\n",
    "#Economic and financial data, such as stock prices and interest rates."
   ]
  },
  {
   "cell_type": "code",
   "execution_count": null,
   "id": "9a839596-5949-40f1-b11b-5a7e2e215c2a",
   "metadata": {},
   "outputs": [],
   "source": [
    "#Q4: Explain the importance of Normal Distribution. Give a few real-life examples of Normal Distribution.\n",
    "#Ans.\n",
    "#The normal distribution is an important statistical tool because it has many mathematical properties that make it easier to work with compared to other distributions. \n",
    "#These properties include its symmetry, its well-defined mean and standard deviation, and its well-known mathematical formula.\n",
    "\n",
    "#Some real-life examples of normal distribution include:\n",
    "#Heights and weights of people in a population.\n",
    "#Test scores and IQ scores.\n",
    "#Errors in measurements and experimental data.\n",
    "#Economic and financial data, such as stock prices and interest rates."
   ]
  },
  {
   "cell_type": "code",
   "execution_count": null,
   "id": "3a03dafc-a26f-4b80-8a79-f6ed94967a31",
   "metadata": {},
   "outputs": [],
   "source": [
    "#Q5: What is Bernaulli Distribution? Give an Example. What is the difference between Bernoulli Distribution and Binomial Distribution?\n",
    "#Ans.\n",
    "#The Bernoulli distribution is a discrete probability distribution that models the probability of a single binary event, where the outcome is either success (with probability p) or failure (with probability 1-p).\n",
    "#An example of Bernoulli distribution is the probability of flipping a fair coin and getting heads (assuming heads is defined as success). \n",
    "#In this case, the probability of success (getting heads) is p=0.5, and the probability of failure (getting tails) is 1-p=0.5.\n",
    "#The main difference between Bernoulli distribution and binomial distribution is that Bernoulli distribution models a single binary event, while the binomial distribution models the probability of a certain number of successes in a fixed number of independent binary events."
   ]
  },
  {
   "cell_type": "code",
   "execution_count": null,
   "id": "5c36cd00-6896-4307-b1ad-af1f609f69ad",
   "metadata": {},
   "outputs": [],
   "source": [
    "#Q6. Consider a dataset with a mean of 50 and a standard deviation of 10. If we assume that the dataset is normally distributed, what is the probability that a randomly selected observation will be greater than 60? Use the appropriate formula and show your calculations.\n",
    "#Ans.\n",
    "#To find the probability that a randomly selected observation from a normal distribution with mean 50 and standard deviation 10 will be greater than 60, we can use the standard normal distribution and the Z-score formula.\n",
    "The Z-score formula is:\n",
    "Z = (X - μ) / σ\n",
    "In this case, we want to find the Z-score for X = 60:\n",
    "Z = (60 - 50) / 10\n",
    "Z = 1\n",
    "\n",
    "#We can look up the probability of a Z-score of 1 in a standard normal distribution table or use a calculator to find that the probability is approximately 0.8413.\n",
    "#Therefore, the probability that a randomly selected observation from this normal distribution will be greater than 60 is 0.8413."
   ]
  },
  {
   "cell_type": "code",
   "execution_count": null,
   "id": "023f2c0e-b848-4fd3-9737-d916164dae45",
   "metadata": {},
   "outputs": [],
   "source": [
    "#Q7: Explain uniform Distribution with an example.\n",
    "#Ans.\n",
    "#The uniform distribution is a continuous probability distribution that describes a situation where every value within a specific range is equally likely to occur.\n",
    "#For example, imagine you are rolling a fair six-sided die. Each outcome (1, 2, 3, 4, 5, or 6) is equally likely to occur, \n",
    "#so we can model this situation using a uniform distribution with a range from 1 to 6. \n",
    "#The probability of any specific outcome, such as rolling a 3, is 1/6 or approximately 0.1667."
   ]
  },
  {
   "cell_type": "code",
   "execution_count": null,
   "id": "c3ef7b33-59aa-4f8c-b09a-4c51acf8ced2",
   "metadata": {},
   "outputs": [],
   "source": [
    "#Q8: What is the z score? State the importance of the z score.\n",
    "#Ans.\n",
    "#The z-score (also known as standard score or normal deviate) is a measure of the distance between an observation and the mean of a distribution in terms of the number of standard deviations.\n",
    "#The formula for calculating the z-score is: z = (X - µ) / σ\n",
    "#where X is the value of the observation, µ is the mean of the distribution, and σ is the standard deviation of the distribution.\n",
    "\n",
    "#The z-score is important because it allows us to compare observations from different distributions that have different scales and units of measurement. \n",
    "#A positive z-score indicates that the observation is above the mean of the distribution, while a negative z-score indicates that the observation is below the mean of the distribution."
   ]
  },
  {
   "cell_type": "code",
   "execution_count": null,
   "id": "3d3812d1-29d8-41ea-a1a0-9bc30b0fa0c9",
   "metadata": {},
   "outputs": [],
   "source": [
    "#Q9: What is Central Limit Theorem? State the significance of the Central Limit Theorem.\n",
    "#Ans.\n",
    "#The Central Limit Theorem (CLT) is a fundamental concept in probability theory and statistics that states that, under certain conditions, the sample means from a population will be normally distributed, regardless of the underlying distribution of the population.\n",
    "#The Central Limit Theorem (CLT) is a fundamental concept in probability theory and statistics that states that, under certain conditions, the sample means from a population will be normally distributed, regardless of the underlying distribution of the population.\n",
    "#The significance of the CLT is that it allows us to use statistical inference and hypothesis testing techniques that assume normality, even when the original population is not normally distributed. \n",
    "#This is because, as the sample size increases, the distribution of the sample means becomes closer and closer to a normal distribution, making it more appropriate to use techniques that assume normality."
   ]
  },
  {
   "cell_type": "code",
   "execution_count": null,
   "id": "5a0208c8-9aa4-41ab-a264-ff42365981f6",
   "metadata": {},
   "outputs": [],
   "source": [
    "#Q10: State the assumptions of the Central Limit Theorem.\n",
    "#Ans.\n",
    "#The Central Limit Theorem (CLT) has several assumptions, which are:\n",
    "#Random Sampling: The samples used to compute the means must be randomly selected from the population.\n",
    "#Independent Sampling: The samples must be independent of each other.\n",
    "#Sample Size: The sample size should be sufficiently large. Although there is no fixed rule on how large the sample size should be, a sample size of 30 or greater is considered sufficient for most applications.\n",
    "#Finite Variance: The population from which the samples are taken should have a finite variance. This means that the population should not have extreme values that would make the variance infinite.\n",
    "#Identical Distribution: The samples should be taken from a population with the same distribution. This means that the mean and variance of the population should be constant across all samples."
   ]
  }
 ],
 "metadata": {
  "kernelspec": {
   "display_name": "Python 3 (ipykernel)",
   "language": "python",
   "name": "python3"
  },
  "language_info": {
   "codemirror_mode": {
    "name": "ipython",
    "version": 3
   },
   "file_extension": ".py",
   "mimetype": "text/x-python",
   "name": "python",
   "nbconvert_exporter": "python",
   "pygments_lexer": "ipython3",
   "version": "3.10.8"
  }
 },
 "nbformat": 4,
 "nbformat_minor": 5
}
