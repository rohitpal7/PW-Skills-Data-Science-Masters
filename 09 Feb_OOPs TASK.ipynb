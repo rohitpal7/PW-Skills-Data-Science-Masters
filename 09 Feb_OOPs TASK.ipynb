{
 "cells": [
  {
   "cell_type": "code",
   "execution_count": 7,
   "id": "985e2ea4-e8e1-4097-a48d-3049956909e7",
   "metadata": {},
   "outputs": [
    {
     "name": "stdout",
     "output_type": "stream",
     "text": [
      "BMW\n"
     ]
    }
   ],
   "source": [
    "#Q1. Create a vehicle class with an init method having instance variables as name_of_vehicle, max_speed and average_of_vehicle.\n",
    "#Ans.\n",
    "class vehical():\n",
    "    def __init__(self, name_of_vehicle, max_speed, average_of_vehicle):\n",
    "            self.name_of_vehicle = name_of_vehicle\n",
    "            self.max_speed = max_speed\n",
    "            self.average_of_vehicle = average_of_vehicle\n",
    "\n",
    "            \n",
    "vehical=vehical(\"BMW\",123,45)\n",
    "print(vehical.name_of_vehicle)"
   ]
  },
  {
   "cell_type": "code",
   "execution_count": null,
   "id": "2a2ab460-7472-42c0-84b9-45e032062468",
   "metadata": {},
   "outputs": [],
   "source": [
    "#Q2. Create a child class car from the vehicle class created in Que 1, which will inherit the vehicle class.\n",
    "#Create a method named seating_capacity which takes capacity as an argument and returns the name of the vehicle and its seating capacity.\n",
    "#Ans.\n",
    "class Car(vehicle):\n",
    "    def seating_capacity(self, capacity):\n",
    "        return f\"{self.name_of_vehicle} with seating capacity of {capacity}\""
   ]
  },
  {
   "cell_type": "code",
   "execution_count": 3,
   "id": "7df6914b-8de6-4293-993a-64fe3eeaa7b1",
   "metadata": {},
   "outputs": [
    {
     "name": "stdout",
     "output_type": "stream",
     "text": [
      "Parent1 method1\n",
      "Parent2 method2\n",
      "Child method3\n"
     ]
    }
   ],
   "source": [
    "#Q3. What is multiple inheritance? Write a python code to demonstrate multiple inheritance.\n",
    "#Ans.\n",
    "#Multiple inheritance is a feature of object-oriented programming where a class can inherit from more than one parent class. \n",
    "#This allows a class to inherit the attributes and behaviors of multiple classes, leading to more complex and reusable code\n",
    "class Parent1:\n",
    "    def method1(self):\n",
    "        print(\"Parent1 method1\")\n",
    "\n",
    "class Parent2:\n",
    "    def method2(self):\n",
    "        print(\"Parent2 method2\")\n",
    "\n",
    "class Child(Parent1, Parent2):\n",
    "    def method3(self):\n",
    "        print(\"Child method3\")\n",
    "\n",
    "c = Child()\n",
    "c.method1() \n",
    "c.method2()\n",
    "c.method3()\n"
   ]
  },
  {
   "cell_type": "code",
   "execution_count": 2,
   "id": "c98327f8-6efd-422b-98a4-344c154e09c3",
   "metadata": {},
   "outputs": [],
   "source": [
    "#Q4. What are getter and setter in python? Create a class and create a getter and a setter method in this class.\n",
    "#Ans.\n",
    "#Getters are used to retrieve the value of an object's attribute, and setters are used to set the value of an object's attribute.\n",
    "class Person:\n",
    "    def __init__(self, name):\n",
    "        self._name = name\n",
    "\n",
    "    @property\n",
    "    def name(self):\n",
    "        return self._name\n",
    "\n",
    "    @name.setter\n",
    "    def name(self, value):\n",
    "        if not isinstance(value, str):\n",
    "            raise TypeError(\"Name must be a string\")\n",
    "        self._name = value"
   ]
  },
  {
   "cell_type": "code",
   "execution_count": 1,
   "id": "5595f9e6-6c09-4295-919a-b6daacc41fd0",
   "metadata": {},
   "outputs": [
    {
     "name": "stdout",
     "output_type": "stream",
     "text": [
      "Some generic animal sound\n",
      "Meoow\n"
     ]
    }
   ],
   "source": [
    "#Q5.What is method overriding in python? Write a python code to demonstrate method overriding.\n",
    "#Ans.\n",
    "#Method overriding is a feature of object-oriented programming that allows a subclass to provide a new implementation for a method that is already defined in its parent class. \n",
    "#The new implementation in the subclass \"overrides\" the original implementation in the parent class.\n",
    "class Animal:\n",
    "    def make_sound(self):\n",
    "        return \"Some generic animal sound\"\n",
    "\n",
    "class Cat(Animal):\n",
    "    def make_sound(self):\n",
    "        return \"Meoow\"\n",
    "\n",
    "animal = Animal()\n",
    "print(animal.make_sound())\n",
    "\n",
    "cat = Cat()\n",
    "print(cat.make_sound())"
   ]
  },
  {
   "cell_type": "code",
   "execution_count": null,
   "id": "3cc2f41c-5fe1-47d1-9888-f6c787895e22",
   "metadata": {},
   "outputs": [],
   "source": []
  }
 ],
 "metadata": {
  "kernelspec": {
   "display_name": "Python 3 (ipykernel)",
   "language": "python",
   "name": "python3"
  },
  "language_info": {
   "codemirror_mode": {
    "name": "ipython",
    "version": 3
   },
   "file_extension": ".py",
   "mimetype": "text/x-python",
   "name": "python",
   "nbconvert_exporter": "python",
   "pygments_lexer": "ipython3",
   "version": "3.10.8"
  }
 },
 "nbformat": 4,
 "nbformat_minor": 5
}
