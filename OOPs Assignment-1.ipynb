{
 "cells": [
  {
   "cell_type": "code",
   "execution_count": 1,
   "id": "a4b9cae3-bd2f-44bc-bec0-8a2ce3de8464",
   "metadata": {},
   "outputs": [],
   "source": [
    "#Q1. Explain Class and Object with respect to Object-Oriented Programming. Give a suitable example.\n",
    "#Ans.\n",
    "#A Class is a blueprint of an object. It defines the attributes and behaviors that an object of that class will have. \n",
    "#For example, we can define a class called \"TV\" that defines the attributes like model, color, and type, and behaviors like start and stop.\n",
    "\n",
    "#An Object is an instance of a Class. It is a unique occurrence of a Class and has its own attributes and behaviors. \n",
    "#For example, we can create an object of the TV class called \"myTV\" with a specific model, color, and type. we can also call the behaviors like start and stop the \"myTV\" object."
   ]
  },
  {
   "cell_type": "code",
   "execution_count": null,
   "id": "e8dfd1ec-26b1-4e9f-8671-ffc6cce0b20b",
   "metadata": {},
   "outputs": [],
   "source": [
    "#Q2. Name the four pillars of OOPs.\n",
    "#Ans.\n",
    "#The four pillars of Object-Oriented Programming (OOP) are: Abstraction, Encapsulation, Inheritance and Polymorphism."
   ]
  },
  {
   "cell_type": "code",
   "execution_count": null,
   "id": "710dc9df-5401-4ae8-9ba9-16f9e1fbed58",
   "metadata": {},
   "outputs": [],
   "source": [
    "#Q3. Explain why the __init__() function is used. Give a suitable example.\n",
    "#Ans.\n",
    "#The __init__() function is a special method in Python, also known as a constructor. \n",
    "#It's called automatically when an object of a class is created, and it's used to initialize the attributes of the class.\n",
    "class Car:\n",
    "    def __init__(self, name, model):\n",
    "        self.name = name\n",
    "        self.model = model"
   ]
  },
  {
   "cell_type": "code",
   "execution_count": null,
   "id": "7eda5156-ce79-4df0-8ca0-9df41430ab05",
   "metadata": {},
   "outputs": [],
   "source": [
    "#Q4. Why self is used in OOPs?\n",
    "#Ans.\n",
    "#In Object-Oriented Programming, the self keyword is used to refer to the instance of the class being manipulated within a method.\n",
    "#It acts as a placeholder for the instance, allowing methods to access and modify the instance's attributes and other properties."
   ]
  },
  {
   "cell_type": "code",
   "execution_count": null,
   "id": "89117f5c-573f-4c39-9e9e-c4254c3fc517",
   "metadata": {},
   "outputs": [],
   "source": [
    "#Q5. What is inheritance? Give an example for each type of inheritance.\n",
    "#Ans.\n",
    "#Inheritance is a mechanism in Object-Oriented Programming that allows a new class to inherit properties and methods from an existing class, called the parent or base class. \n",
    "#The new class is known as the derived or child class.\n",
    "\"\"\"\n",
    "Single Inheritance: When a subclass inherits properties and methods from a single base class.\n",
    "Example: A class \"Vehicle\" could be the base class and a class \"Car\" could be the derived class that inherits from the \"Vehicle\" class.\n",
    "\n",
    "Multi-level Inheritance: When a subclass inherits from a base class, which in turn inherits from another base class.\n",
    "Example: A class \"Animal\" could be the base class, a class \"Mammal\" could be the derived class that inherits from \"Animal\", and a class \"Human\" could be a derived class of \"Mammal\".\n",
    "\n",
    "Multiple Inheritance: When a subclass inherits properties and methods from multiple base classes.\n",
    "Example: A class \"Vehicle\" and a class \"Engine\" could be the base classes and a class \"Car\" could be the derived class that inherits from both \"Vehicle\" and \"Engine\".\n",
    "\n",
    "Hierarchical Inheritance: When multiple subclasses inherit from a single base class.\n",
    "Example: A class \"Animal\" could be the base class and classes \"Dog\", \"Cat\", and \"Horse\" could be derived classes that inherit from the \"Animal\" class.\n",
    "\n",
    "Hybrid Inheritance: When a combination of multiple inheritance types is used.\n",
    "Example: A class \"Vehicle\" could be the base class, a class \"Engine\" could be another base class, and a class \"Car\" could be a derived class that inherits from both \"Vehicle\" and \"Engine\".\n",
    "\"\"\""
   ]
  },
  {
   "cell_type": "code",
   "execution_count": null,
   "id": "7bfa3078-003f-45d5-b37b-91d8d09b739b",
   "metadata": {},
   "outputs": [],
   "source": []
  }
 ],
 "metadata": {
  "kernelspec": {
   "display_name": "Python 3 (ipykernel)",
   "language": "python",
   "name": "python3"
  },
  "language_info": {
   "codemirror_mode": {
    "name": "ipython",
    "version": 3
   },
   "file_extension": ".py",
   "mimetype": "text/x-python",
   "name": "python",
   "nbconvert_exporter": "python",
   "pygments_lexer": "ipython3",
   "version": "3.10.8"
  }
 },
 "nbformat": 4,
 "nbformat_minor": 5
}
