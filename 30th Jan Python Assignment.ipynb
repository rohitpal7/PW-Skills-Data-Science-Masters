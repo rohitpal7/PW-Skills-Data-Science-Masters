{
 "cells": [
  {
   "cell_type": "code",
   "execution_count": 1,
   "id": "7ca925eb-f3d3-485c-ba62-a062700d4d69",
   "metadata": {},
   "outputs": [
    {
     "name": "stdin",
     "output_type": "stream",
     "text": [
      "Please enter your percentage: 95\n"
     ]
    },
    {
     "name": "stdout",
     "output_type": "stream",
     "text": [
      "Grade A\n"
     ]
    }
   ],
   "source": [
    "#1. Acceppt percentage from user and display the grade\n",
    "user=int(input(\"Please enter your percentage:\"))\n",
    "if user>90:\n",
    "    print(\"Grade A\")\n",
    "elif user>80 and user<=90:\n",
    "     print(\"Grade B\")\n",
    "elif user>=60 and user<=80:\n",
    "     print(\"Grade C\")\n",
    "else:\n",
    "     print(\"Grade D\")"
   ]
  },
  {
   "cell_type": "code",
   "execution_count": 2,
   "id": "15cb9bdf-8827-4943-aade-0e1060944545",
   "metadata": {},
   "outputs": [
    {
     "name": "stdin",
     "output_type": "stream",
     "text": [
      "Please enter your price of bike 110000\n"
     ]
    },
    {
     "name": "stdout",
     "output_type": "stream",
     "text": [
      "Road tax to be paid 15%\n"
     ]
    }
   ],
   "source": [
    "#2. Accept the cost price of bike and display road tax\n",
    "cost=int(input(\"Please enter your price of bike\"))\n",
    "if cost>100000:\n",
    "    print(\"Road tax to be paid 15%\")\n",
    "elif cost>50000 and cost<=100000:\n",
    "    print(\"Road tax to be paid 10%\")\n",
    "else:\n",
    "    print(\"Road tax to be paid 5%\")"
   ]
  },
  {
   "cell_type": "code",
   "execution_count": 4,
   "id": "4ea8d934-4c62-44d5-b728-bb9bd1816662",
   "metadata": {},
   "outputs": [
    {
     "name": "stdin",
     "output_type": "stream",
     "text": [
      "Please enter your city Jaipur\n"
     ]
    },
    {
     "name": "stdout",
     "output_type": "stream",
     "text": [
      "Monuments of the city is Jalmahal\n"
     ]
    }
   ],
   "source": [
    "#3. Accept the city and display monuments\n",
    "city=str(input(\"Please enter your city\"))\n",
    "if city==\"Delhi\":\n",
    "    print(\"Monuments of the city is Red Fort\")\n",
    "elif city==\"Agra\":\n",
    "    print(\"Monuments of the city is Tajmahal\")\n",
    "elif city==\"Jaipur\":\n",
    "    print(\"Monuments of the city is Jalmahal\")\n",
    "else:\n",
    "    print(\"Please enter correct city\")"
   ]
  },
  {
   "cell_type": "code",
   "execution_count": 5,
   "id": "cc258f3b-9574-4931-a056-a18441eeff08",
   "metadata": {},
   "outputs": [
    {
     "name": "stdout",
     "output_type": "stream",
     "text": [
      "1\n"
     ]
    }
   ],
   "source": [
    "# 4.Check how many times a given number can be divide by 3 before it is less then or equal to 10\n",
    "number = 20\n",
    "count = 0\n",
    "\n",
    "while number > 10:\n",
    "    number = number / 3\n",
    "    count += 1\n",
    "\n",
    "print(count)"
   ]
  },
  {
   "cell_type": "code",
   "execution_count": 6,
   "id": "16be4bdd-e2b8-48c3-939d-a1ebc2a53cbc",
   "metadata": {},
   "outputs": [
    {
     "name": "stdout",
     "output_type": "stream",
     "text": [
      "55\n"
     ]
    }
   ],
   "source": [
    "# 5.Why and when to use while loop in python with example?\n",
    "#The \"while\" loop in Python is used to repeatedly execute a block of code as long as a given condition is true.\n",
    "sum = 0\n",
    "i = 1\n",
    "\n",
    "while i <= 10:\n",
    "    sum = sum + i\n",
    "    i = i + 1\n",
    "\n",
    "print(sum)"
   ]
  },
  {
   "cell_type": "code",
   "execution_count": 7,
   "id": "df686440-01f2-4a47-9697-847d328ef1f3",
   "metadata": {},
   "outputs": [
    {
     "name": "stdout",
     "output_type": "stream",
     "text": [
      "* \n",
      "* * \n",
      "* * * \n",
      "* * * * \n",
      "* * * * * \n",
      "    *\n",
      "   ***\n",
      "  *****\n",
      " *******\n",
      "*********\n",
      "    *\n",
      "   ***\n",
      "  *****\n",
      " *******\n",
      "*********\n",
      " *******\n",
      "  *****\n",
      "   ***\n",
      "    *\n"
     ]
    }
   ],
   "source": [
    "# 6.Use nested while loop to print 3 different pattern\n",
    "#Triangle pattern:\n",
    "rows = 5\n",
    "for i in range(1, rows + 1):\n",
    "    for j in range(1, i + 1):\n",
    "        print(\"*\", end=\" \")\n",
    "    print(\"\")\n",
    "    \n",
    "#Pyramid pattern:\n",
    "rows = 5\n",
    "for i in range(1, rows + 1):\n",
    "    for j in range(rows - i):\n",
    "        print(\" \", end=\"\")\n",
    "    for k in range(1, 2 * i):\n",
    "        print(\"*\", end=\"\")\n",
    "    print(\"\")\n",
    "    \n",
    "#Diamond pattern:\n",
    "rows = 5\n",
    "for i in range(1, rows + 1):\n",
    "    for j in range(rows - i):\n",
    "        print(\" \", end=\"\")\n",
    "    for k in range(1, 2 * i):\n",
    "        print(\"*\", end=\"\")\n",
    "    print(\"\")\n",
    "\n",
    "for i in range(rows - 1, 0, -1):\n",
    "    for j in range(rows - i):\n",
    "        print(\" \", end=\"\")\n",
    "    for k in range(1, 2 * i):\n",
    "        print(\"*\", end=\"\")\n",
    "    print(\"\")"
   ]
  },
  {
   "cell_type": "code",
   "execution_count": 13,
   "id": "ca1aa851-8968-4956-acb6-96da9605037a",
   "metadata": {},
   "outputs": [
    {
     "name": "stdout",
     "output_type": "stream",
     "text": [
      "10\n",
      "9\n",
      "8\n",
      "7\n",
      "6\n",
      "5\n",
      "4\n",
      "3\n",
      "2\n",
      "1\n"
     ]
    }
   ],
   "source": [
    "# 7.Reverse while loop to display numbers from 10 to 1\n",
    "number = 10\n",
    "while number >= 1:\n",
    "    print(number)\n",
    "    number = number - 1"
   ]
  },
  {
   "cell_type": "code",
   "execution_count": 14,
   "id": "6157338c-d41f-4090-9288-1cd3e4916383",
   "metadata": {},
   "outputs": [
    {
     "name": "stdout",
     "output_type": "stream",
     "text": [
      "10\n",
      "9\n",
      "8\n",
      "7\n",
      "6\n",
      "5\n",
      "4\n",
      "3\n",
      "2\n",
      "1\n"
     ]
    }
   ],
   "source": [
    "# 8.Reverse while loop to display numbers from 10 to 1\n",
    "number = 10\n",
    "while number >= 1:\n",
    "    print(number)\n",
    "    number = number - 1"
   ]
  },
  {
   "cell_type": "code",
   "execution_count": 16,
   "id": "efbbeba2-a3f8-4b20-8272-333529ba2f6d",
   "metadata": {},
   "outputs": [],
   "source": [
    "\n",
    "    "
   ]
  }
 ],
 "metadata": {
  "kernelspec": {
   "display_name": "Python 3 (ipykernel)",
   "language": "python",
   "name": "python3"
  },
  "language_info": {
   "codemirror_mode": {
    "name": "ipython",
    "version": 3
   },
   "file_extension": ".py",
   "mimetype": "text/x-python",
   "name": "python",
   "nbconvert_exporter": "python",
   "pygments_lexer": "ipython3",
   "version": "3.10.8"
  }
 },
 "nbformat": 4,
 "nbformat_minor": 5
}
