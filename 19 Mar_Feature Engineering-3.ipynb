{
 "cells": [
  {
   "cell_type": "code",
   "execution_count": null,
   "id": "1f9ad988-3c61-4a23-8b1a-1e91922958eb",
   "metadata": {},
   "outputs": [],
   "source": [
    "#Q1. What is Min-Max scaling, and how is it used in data preprocessing? Provide an example to illustrate its application.\n",
    "#Ans.\n",
    "#Min-Max scaling is a data preprocessing technique that rescales the features of a dataset so that they have a new range between 0 and 1. \n",
    "#This is achieved by subtracting the minimum value of each feature from all its values and then dividing by the range of the feature, which is the difference between the maximum and minimum values.\n",
    "X_scaled = (X - X_min) / (X_max - X_min)"
   ]
  },
  {
   "cell_type": "code",
   "execution_count": null,
   "id": "06f90fa6-a9e1-4980-9c91-e51fc5a81afd",
   "metadata": {},
   "outputs": [],
   "source": [
    "#Q2. What is the Unit Vector technique in feature scaling, and how does it differ from Min-Max scaling? Provide an example to illustrate its application.\n",
    "#Ans.\n",
    "#The Unit Vector technique in feature scaling, also known as normalization, is a preprocessing technique that rescales the features of a dataset so that each feature has a unit norm. \n",
    "#This means that the magnitude of each feature vector is 1. It is achieved by dividing each feature value by the Euclidean norm of the feature vector, which is the square root of the sum of the squares of all the feature values. \n",
    "#The formula for Unit Vector scaling is:\n",
    "X_norm = X / ||X||"
   ]
  },
  {
   "cell_type": "code",
   "execution_count": null,
   "id": "17ece95b-c718-45bb-a223-7ce653d54b02",
   "metadata": {},
   "outputs": [],
   "source": [
    "#Q3. What is PCA (Principle Component Analysis), and how is it used in dimensionality reduction? Provide an example to illustrate its application.\n",
    "#Ans.\n",
    "#PCA, or Principal Component Analysis, is a statistical method used for reducing the dimensionality of a dataset while retaining most of the important information.\n",
    "#PCA is commonly used in data analysis and machine learning for reducing the dimensionality of large datasets, as it can help to simplify complex data by identifying underlying patterns and relationships among variables. \n",
    "#An example of the application of PCA would be in analyzing a dataset of images, where each image contains a large number of pixels. \n",
    "#Using PCA, we could reduce the number of variables by identifying the principal components that capture the most important patterns in the data. "
   ]
  },
  {
   "cell_type": "code",
   "execution_count": null,
   "id": "cbd64010-3ed8-481e-a3a5-984880d6aab6",
   "metadata": {},
   "outputs": [],
   "source": [
    "#Q4. What is the relationship between PCA and Feature Extraction, and how can PCA be used for Feature Extraction? Provide an example to illustrate this concept.\n",
    "#Ans.\n",
    "#PCA and feature extraction are related in that PCA can be used as a feature extraction technique. \n",
    "#Feature extraction is the process of identifying important features or patterns in a dataset and representing them as a smaller set of variables or features. \n",
    "#This can help to reduce the dimensionality of the dataset, making it easier to analyze and process.\n",
    "\n",
    "#For example, consider a dataset of images where each image contains a large number of pixels. \n",
    "#We can use PCA to extract the most important features from the images, such as edges, shapes, and textures, and represent each image using a smaller set of principal components. \n",
    "#These principal components can then be used as new features for image classification or clustering tasks."
   ]
  },
  {
   "cell_type": "code",
   "execution_count": null,
   "id": "25a9358e-4f02-4807-8cfc-298c311ebb1d",
   "metadata": {},
   "outputs": [],
   "source": [
    "#Q5. You are working on a project to build a recommendation system for a food delivery service. The dataset contains features such as price, rating, and delivery time. Explain how you would use Min-Max scaling to preprocess the data.\n",
    "#Ans.\n",
    "#Min-Max scaling is a commonly used normalization technique in data preprocessing, which scales the values of a numerical variable to a fixed range, typically between 0 and 1. \n",
    "#To apply Min-Max scaling to a variable, we first find the minimum and maximum values of that variable in the dataset. \n",
    "#Then, we transform the values of the variable using the following formula:\n",
    "scaled_value = (value - min_value) / (max_value - min_value)"
   ]
  },
  {
   "cell_type": "code",
   "execution_count": null,
   "id": "9f1f4600-8d96-4a95-9900-a7d7b168bb1b",
   "metadata": {},
   "outputs": [],
   "source": [
    "#Q6. You are working on a project to build a model to predict stock prices. The dataset contains many features, such as company financial data and market trends. Explain how you would use PCA to reduce the dimensionality of the dataset.\n",
    "#Ans.\n",
    "#When working on a project to predict stock prices, it is common to have a dataset with many features, including company financial data, market trends, and other relevant information. \n",
    "#However, having too many features can lead to overfitting and can make it difficult to train a model that generalizes well to new data. \n",
    "#To address this issue, we can use PCA to reduce the dimensionality of the dataset."
   ]
  },
  {
   "cell_type": "code",
   "execution_count": null,
   "id": "bceb74c7-90c0-4155-b390-e9ca948ffd27",
   "metadata": {},
   "outputs": [],
   "source": [
    "#Q7. For a dataset containing the following values: [1, 5, 10, 15, 20], perform Min-Max scaling to transform the values to a range of -1 to 1.\n",
    "#Ans.\n",
    "#To perform Min-Max scaling on the dataset [1, 5, 10, 15, 20] and transform the values to a range of -1 to 1, we need to use the following formula:\n",
    "scaled_value = 2 * (value - min_value) / (max_value - min_value) - 1\n",
    "\n",
    "#In this case, the minimum value is 1 and the maximum value is 20. So we can apply the formula to each value in the dataset as follows:\n",
    "For the value 1: scaled_value = 2 * (1 - 1) / (20 - 1) - 1 = -1\n",
    "For the value 5: scaled_value = 2 * (5 - 1) / (20 - 1) - 1 = -0.6\n",
    "For the value 10: scaled_value = 2 * (10 - 1) / (20 - 1) - 1 = -0.2\n",
    "For the value 15: scaled_value = 2 * (15 - 1) / (20 - 1) - 1 = 0.2\n",
    "For the value 20: scaled_value = 2 * (20 - 1) / (20 - 1) - 1 = 1\n",
    "#Therefore, the Min-Max scaled dataset with values transformed to the range of -1 to 1 is [-1, -0.6, -0.2, 0.2, 1]."
   ]
  },
  {
   "cell_type": "code",
   "execution_count": 2,
   "id": "6796edf7-7abc-436c-aa6d-d1fa53917a2e",
   "metadata": {},
   "outputs": [],
   "source": [
    "#Q8. For a dataset containing the following features: [height, weight, age, gender, blood pressure], perform Feature Extraction using PCA. How many principal components would you choose to retain, and why?\n",
    "#Ans.\n",
    "#Performing feature extraction using PCA involves reducing the number of features in a dataset by identifying a smaller number of principal components that capture most of the variance in the original features.\n",
    "\n",
    "from sklearn.decomposition import PCA\n",
    "\n",
    "# create PCA object and fit to data\n",
    "pca = PCA()\n",
    "pca.fit(data)\n",
    "\n",
    "# plot explained variance ratios\n",
    "import matplotlib.pyplot as plt\n",
    "plt.plot(range(1, len(pca.explained_variance_ratio_)+1), pca.explained_variance_ratio_)\n",
    "plt.xlabel('Principal Component')\n",
    "plt.ylabel('Explained Variance Ratio')\n",
    "plt.show()"
   ]
  }
 ],
 "metadata": {
  "kernelspec": {
   "display_name": "Python 3 (ipykernel)",
   "language": "python",
   "name": "python3"
  },
  "language_info": {
   "codemirror_mode": {
    "name": "ipython",
    "version": 3
   },
   "file_extension": ".py",
   "mimetype": "text/x-python",
   "name": "python",
   "nbconvert_exporter": "python",
   "pygments_lexer": "ipython3",
   "version": "3.10.8"
  }
 },
 "nbformat": 4,
 "nbformat_minor": 5
}
