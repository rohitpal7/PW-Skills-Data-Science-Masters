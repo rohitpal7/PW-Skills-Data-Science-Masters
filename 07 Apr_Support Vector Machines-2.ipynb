{
 "cells": [
  {
   "cell_type": "code",
   "execution_count": null,
   "id": "e541b04b-6c71-4ff0-84f1-844444a52161",
   "metadata": {},
   "outputs": [],
   "source": [
    "#Q1. What is the relationship between polynomial functions and kernel functions in machine learning algorithms?\n",
    "#Ans.\n",
    "#Polynomial functions and kernel functions are closely related in machine learning algorithms, particularly in support vector machines (SVMs). \n",
    "#A polynomial kernel is a type of kernel function that allows SVMs to efficiently perform nonlinear classification. \n",
    "#It maps the input features to a higher dimensional space where the data becomes linearly separable. \n",
    "#The polynomial kernel is defined as K(x, y) = (x.y + c)^d, where x and y are the input feature vectors, d is the degree of the polynomial, and c is a constant."
   ]
  },
  {
   "cell_type": "code",
   "execution_count": 1,
   "id": "cf396c26-985f-4b07-9116-0299f8bc3b8c",
   "metadata": {},
   "outputs": [
    {
     "name": "stdout",
     "output_type": "stream",
     "text": [
      "Accuracy: 0.9777777777777777\n"
     ]
    }
   ],
   "source": [
    "#Q2. How can we implement an SVM with a polynomial kernel in Python using Scikit-learn?\n",
    "#Ans.\n",
    "from sklearn.datasets import load_iris\n",
    "from sklearn.model_selection import train_test_split\n",
    "\n",
    "X, y = load_iris(return_X_y=True)\n",
    "X_train, X_test, y_train, y_test = train_test_split(X, y, test_size=0.3, random_state=42)\n",
    "\n",
    "from sklearn import svm\n",
    "\n",
    "degree = 3 # degree of the polynomial kernel\n",
    "C = 1.0 # regularization parameter\n",
    "\n",
    "clf = svm.SVC(kernel='poly', degree=degree, C=C)\n",
    "\n",
    "clf.fit(X_train, y_train)\n",
    "y_pred = clf.predict(X_test)\n",
    "from sklearn.metrics import accuracy_score\n",
    "\n",
    "accuracy = accuracy_score(y_test, y_pred)\n",
    "print(\"Accuracy:\", accuracy)"
   ]
  },
  {
   "cell_type": "code",
   "execution_count": null,
   "id": "b6c4f619-c5a9-4a14-9532-449068ff2656",
   "metadata": {},
   "outputs": [],
   "source": [
    "#Q3. How does increasing the value of epsilon affect the number of support vectors in SVR?\n",
    "#Ans.\n",
    "#In Support Vector Regression (SVR), epsilon is a hyperparameter that controls the width of the margin around the predicted values. \n",
    "#It is used to specify the maximum distance from the predicted value that a data point can be and still be considered as correctly predicted.\n",
    "#Increasing the value of epsilon in SVR increases the width of the margin around the predicted values, which means that more data points will be allowed to lie within the margin. "
   ]
  },
  {
   "cell_type": "code",
   "execution_count": null,
   "id": "dc825827-8ebb-4a69-a596-b169e400557e",
   "metadata": {},
   "outputs": [],
   "source": [
    "#Q4. How does the choice of kernel function, C parameter, epsilon parameter, and gamma parameter affect the performance of Support Vector Regression (SVR)? Can you explain how each parameter works and provide examples of when you might want to increase or decrease its value?\n",
    "#Ans.\n",
    "#In Support Vector Regression (SVR), the choice of kernel function, C parameter, epsilon parameter, and gamma parameter can all affect the performance of the model. \n",
    "#Here is a brief explanation of each parameter and how it affects the performance of SVR: Kernel function, C parameter, Epsilon parameter, Gamma parameter\n",
    "#the choice of kernel function, C parameter, epsilon parameter, and gamma parameter can all affect the performance of Support Vector Regression."
   ]
  },
  {
   "cell_type": "code",
   "execution_count": 4,
   "id": "cf26a941-791f-4c9f-ba09-7fc8f3a1c485",
   "metadata": {},
   "outputs": [
    {
     "name": "stdout",
     "output_type": "stream",
     "text": [
      "Accuracy: 1.0\n",
      "Best parameters: {'C': 1, 'gamma': 'scale', 'kernel': 'rbf'}\n"
     ]
    },
    {
     "ename": "NameError",
     "evalue": "name 'X_scaled' is not defined",
     "output_type": "error",
     "traceback": [
      "\u001b[0;31m---------------------------------------------------------------------------\u001b[0m",
      "\u001b[0;31mNameError\u001b[0m                                 Traceback (most recent call last)",
      "Cell \u001b[0;32mIn[4], line 32\u001b[0m\n\u001b[1;32m     29\u001b[0m \u001b[38;5;28mprint\u001b[39m(\u001b[38;5;124m\"\u001b[39m\u001b[38;5;124mBest parameters:\u001b[39m\u001b[38;5;124m\"\u001b[39m, grid_search\u001b[38;5;241m.\u001b[39mbest_params_)\n\u001b[1;32m     31\u001b[0m tuned_svc \u001b[38;5;241m=\u001b[39m SVC(\u001b[38;5;241m*\u001b[39m\u001b[38;5;241m*\u001b[39mgrid_search\u001b[38;5;241m.\u001b[39mbest_params_)\n\u001b[0;32m---> 32\u001b[0m tuned_svc\u001b[38;5;241m.\u001b[39mfit(\u001b[43mX_scaled\u001b[49m, y)\n\u001b[1;32m     34\u001b[0m \u001b[38;5;28;01mimport\u001b[39;00m \u001b[38;5;21;01mjoblib\u001b[39;00m\n\u001b[1;32m     35\u001b[0m joblib\u001b[38;5;241m.\u001b[39mdump(tuned_svc, \u001b[38;5;124m'\u001b[39m\u001b[38;5;124msvm_classifier.pkl\u001b[39m\u001b[38;5;124m'\u001b[39m)\n",
      "\u001b[0;31mNameError\u001b[0m: name 'X_scaled' is not defined"
     ]
    }
   ],
   "source": [
    "#Q5. Assignment:\n",
    "#Ans.\n",
    "from sklearn.datasets import load_iris\n",
    "from sklearn.model_selection import train_test_split\n",
    "from sklearn.svm import SVC\n",
    "from sklearn.metrics import accuracy_score\n",
    "iris = load_iris()\n",
    "X, y = iris.data, iris.target\n",
    "\n",
    "X_train, X_test, y_train, y_test = train_test_split(X, y, test_size=0.2, random_state=42)\n",
    "\n",
    "from sklearn.preprocessing import StandardScaler\n",
    "scaler = StandardScaler()\n",
    "X_train_scaled = scaler.fit_transform(X_train)\n",
    "X_test_scaled = scaler.transform(X_test)\n",
    "\n",
    "svc = SVC(kernel='rbf', C=1, gamma='scale')\n",
    "svc.fit(X_train_scaled, y_train)\n",
    "\n",
    "y_pred = svc.predict(X_test_scaled)\n",
    "\n",
    "accuracy = accuracy_score(y_test, y_pred)\n",
    "print(\"Accuracy:\", accuracy)\n",
    "\n",
    "from sklearn.model_selection import GridSearchCV\n",
    "params = {'C': [0.1, 1, 10], 'gamma': ['scale', 'auto'], 'kernel': ['rbf', 'poly']}\n",
    "grid_search = GridSearchCV(SVC(), param_grid=params, cv=5)\n",
    "grid_search.fit(X_train_scaled, y_train)\n",
    "print(\"Best parameters:\", grid_search.best_params_)\n",
    "\n",
    "tuned_svc = SVC(**grid_search.best_params_)\n",
    "tuned_svc.fit(X_scaled, y)\n",
    "\n",
    "import joblib\n",
    "joblib.dump(tuned_svc, 'svm_classifier.pkl')\n"
   ]
  }
 ],
 "metadata": {
  "kernelspec": {
   "display_name": "Python 3 (ipykernel)",
   "language": "python",
   "name": "python3"
  },
  "language_info": {
   "codemirror_mode": {
    "name": "ipython",
    "version": 3
   },
   "file_extension": ".py",
   "mimetype": "text/x-python",
   "name": "python",
   "nbconvert_exporter": "python",
   "pygments_lexer": "ipython3",
   "version": "3.10.8"
  }
 },
 "nbformat": 4,
 "nbformat_minor": 5
}
