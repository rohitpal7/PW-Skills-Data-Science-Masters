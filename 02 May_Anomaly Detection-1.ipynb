{
 "cells": [
  {
   "cell_type": "code",
   "execution_count": null,
   "id": "d2fb595c-1853-487b-9a97-683a066f2f79",
   "metadata": {},
   "outputs": [],
   "source": [
    "#Q1. What is anomaly detection and what is its purpose?\n",
    "#Ans.\n",
    "#Anomaly detection is a technique used in machine learning and data mining to identify unusual patterns or outliers in data. \n",
    "#The purpose of anomaly detection is to find instances in a dataset that deviate from the expected behavior or that are significantly different from the majority of the data. \n",
    "#These anomalies may be caused by errors in data collection or processing, system malfunctions, fraudulent activity, or other unusual events."
   ]
  },
  {
   "cell_type": "code",
   "execution_count": null,
   "id": "112ce3aa-7ea4-4b12-bd81-ce4a6d144dbc",
   "metadata": {},
   "outputs": [],
   "source": [
    "#Q2. What are the key challenges in anomaly detection?\n",
    "#Ans.\n",
    "#Anomaly detection is a challenging task in machine learning and data mining, and there are several key challenges that must be addressed to develop effective anomaly detection systems. \n",
    "#Some of these challenges include: Lack of labeled data, Class imbalance, Feature engineering, Scalability, Interpretability, Dynamic environments"
   ]
  },
  {
   "cell_type": "code",
   "execution_count": null,
   "id": "494d855b-27f6-46d7-a611-472aa8695deb",
   "metadata": {},
   "outputs": [],
   "source": [
    "#Q3. How does unsupervised anomaly detection differ from supervised anomaly detection?\n",
    "#Ans.\n",
    "#The main difference between unsupervised and supervised anomaly detection is the type of data used to train the model.\n",
    "#In unsupervised anomaly detection, the model is trained on a dataset that does not have any labeled anomalies. \n",
    "#supervised anomaly detection requires a dataset that is labeled with anomalies. The model is trained to recognize the specific anomalies in the data by learning from the labeled examples."
   ]
  },
  {
   "cell_type": "code",
   "execution_count": null,
   "id": "5521b08c-6ce1-4172-bbd1-5782bd1c2381",
   "metadata": {},
   "outputs": [],
   "source": [
    "#Q4. What are the main categories of anomaly detection algorithms?\n",
    "#Ans.\n",
    "#There are several categories of anomaly detection algorithms, each with their own strengths and weaknesses. \n",
    "#The main categories are: Statistical methods, Machine learning methods, Information-theoretic methods, Rule-based methods"
   ]
  },
  {
   "cell_type": "code",
   "execution_count": null,
   "id": "e290716c-879f-4abb-be80-9a213eba31af",
   "metadata": {},
   "outputs": [],
   "source": [
    "#Q5. What are the main assumptions made by distance-based anomaly detection methods?\n",
    "#Ans.\n",
    "#Distance-based anomaly detection methods assume that the normal data points are densely clustered together, while the anomalies are far away from the normal cluster. \n",
    "#Specifically, these methods make the following assumptions:\n",
    "#Normal data points are closer to each other than to anomalies.\n",
    "#Anomalies are relatively isolated and far away from the normal data points.\n",
    "#Anomalies are characterized by having a low density in the feature space compared to the normal data points.\n",
    "#The distance metric used to measure the distance between data points is appropriate for the specific dataset and anomaly detection task."
   ]
  },
  {
   "cell_type": "code",
   "execution_count": null,
   "id": "e950d35c-fe3f-47d2-8e43-50f7153a9829",
   "metadata": {},
   "outputs": [],
   "source": [
    "#Q6. How does the LOF algorithm compute anomaly scores?\n",
    "#Ans.\n",
    "#The LOF (Local Outlier Factor) algorithm computes anomaly scores by comparing the local density of a data point to the local densities of its k nearest neighbors. \n",
    "#The anomaly score of a data point is based on the degree to which it deviates from the expected density of its local neighborhood."
   ]
  },
  {
   "cell_type": "code",
   "execution_count": null,
   "id": "d038e295-ddd6-4819-8557-400c9b1d2714",
   "metadata": {},
   "outputs": [],
   "source": [
    "#Q7. What are the key parameters of the Isolation Forest algorithm?\n",
    "#Ans.\n",
    "#The Isolation Forest algorithm has two key parameters:\n",
    "#The number of trees to grow in the forest (n_estimators)\n",
    "#The maximum tree depth (max_depth)\n",
    "#In addition to these two key parameters, the Isolation Forest algorithm also has several other optional parameters that can be tuned for specific datasets and use cases. \n",
    "#These include the subsample size for each tree, the number of features to consider at each split, and the random seed used for initializing the algorithm."
   ]
  },
  {
   "cell_type": "code",
   "execution_count": null,
   "id": "188dd18f-8318-4c70-a9ab-3164823353c7",
   "metadata": {},
   "outputs": [],
   "source": [
    "#Q8. If a data point has only 2 neighbours of the same class within a radius of 0.5, what is its anomaly score using KNN with K=10?\n",
    "#Ans.\n",
    "#Assuming the distances to the 2 nearest neighbors are 0.2 and 0.3, the anomaly score of the data point would be (max(0.2, 0.5) + max(0.3, 0.5)) / 2 = 0.4."
   ]
  },
  {
   "cell_type": "code",
   "execution_count": null,
   "id": "54807f63-faa4-4c8f-997f-90ee9b54d52b",
   "metadata": {},
   "outputs": [],
   "source": [
    "#Q9. Using the Isolation Forest algorithm with 100 trees and a dataset of 3000 data points, what is the anomaly score for a data point that has an average path length of 5.0 compared to the average path length of the trees?\n",
    "#Ans.\n",
    "#Assuming the average path length of the data point in each of the 100 trees is 5.0, the anomaly score for that data point is given by:\n",
    "#anomaly score = 2^(-5.0/ c(n))\n",
    "#the anomaly score for the data point is 0.000435."
   ]
  }
 ],
 "metadata": {
  "kernelspec": {
   "display_name": "Python 3 (ipykernel)",
   "language": "python",
   "name": "python3"
  },
  "language_info": {
   "codemirror_mode": {
    "name": "ipython",
    "version": 3
   },
   "file_extension": ".py",
   "mimetype": "text/x-python",
   "name": "python",
   "nbconvert_exporter": "python",
   "pygments_lexer": "ipython3",
   "version": "3.10.8"
  }
 },
 "nbformat": 4,
 "nbformat_minor": 5
}
