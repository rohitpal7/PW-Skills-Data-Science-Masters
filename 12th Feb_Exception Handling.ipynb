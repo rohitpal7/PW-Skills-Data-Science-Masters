{
 "cells": [
  {
   "cell_type": "code",
   "execution_count": null,
   "id": "08e9b6ec-9a22-4b96-aedc-5d989ffc84db",
   "metadata": {},
   "outputs": [],
   "source": [
    "#Q1. What is an Exception in python? Write the difference between Exceptions and syntax errors.\n",
    "#Ans.\n",
    "#An exception in Python is an event that occurs during the execution of a program that disrupts the normal flow of the program's instructions. \n",
    "#The main difference between exceptions and syntax errors is that exceptions occur during the execution of a program, while syntax errors occur before the code is executed. "
   ]
  },
  {
   "cell_type": "code",
   "execution_count": 2,
   "id": "1889aa8b-0e5c-4384-a7f9-c8ad7a3a25d5",
   "metadata": {},
   "outputs": [
    {
     "ename": "ZeroDivisionError",
     "evalue": "division by zero",
     "output_type": "error",
     "traceback": [
      "\u001b[0;31m---------------------------------------------------------------------------\u001b[0m",
      "\u001b[0;31mZeroDivisionError\u001b[0m                         Traceback (most recent call last)",
      "Cell \u001b[0;32mIn[2], line 10\u001b[0m\n\u001b[1;32m      7\u001b[0m x \u001b[38;5;241m=\u001b[39m \u001b[38;5;241m10\u001b[39m\n\u001b[1;32m      8\u001b[0m y \u001b[38;5;241m=\u001b[39m \u001b[38;5;241m0\u001b[39m\n\u001b[0;32m---> 10\u001b[0m result \u001b[38;5;241m=\u001b[39m \u001b[43mdivide\u001b[49m\u001b[43m(\u001b[49m\u001b[43mx\u001b[49m\u001b[43m,\u001b[49m\u001b[43m \u001b[49m\u001b[43my\u001b[49m\u001b[43m)\u001b[49m\n\u001b[1;32m     11\u001b[0m \u001b[38;5;28mprint\u001b[39m(result)\n",
      "Cell \u001b[0;32mIn[2], line 5\u001b[0m, in \u001b[0;36mdivide\u001b[0;34m(a, b)\u001b[0m\n\u001b[1;32m      4\u001b[0m \u001b[38;5;28;01mdef\u001b[39;00m \u001b[38;5;21mdivide\u001b[39m(a, b):\n\u001b[0;32m----> 5\u001b[0m     \u001b[38;5;28;01mreturn\u001b[39;00m \u001b[43ma\u001b[49m\u001b[43m \u001b[49m\u001b[38;5;241;43m/\u001b[39;49m\u001b[43m \u001b[49m\u001b[43mb\u001b[49m\n",
      "\u001b[0;31mZeroDivisionError\u001b[0m: division by zero"
     ]
    }
   ],
   "source": [
    "#Q2. What happens when an exception is not handled? Explain with an example.\n",
    "#Ans.\n",
    "#When an exception is raised and not handled, the program terminates immediately and generates an unhandled exception error message.\n",
    "def divide(a, b):\n",
    "    return a / b\n",
    "\n",
    "x = 10\n",
    "y = 0\n",
    "\n",
    "result = divide(x, y)\n",
    "print(result)\n"
   ]
  },
  {
   "cell_type": "code",
   "execution_count": 3,
   "id": "3eecbb36-f716-4d8e-949e-5ee704be6483",
   "metadata": {},
   "outputs": [
    {
     "name": "stdout",
     "output_type": "stream",
     "text": [
      "Cannot divide by zero.\n"
     ]
    }
   ],
   "source": [
    "#Q3. Which Python statements are used to catch and handle exceptions? Explain with an example.\n",
    "#Ans.\n",
    "#The try and except statements are used in Python to catch and handle exceptions. \n",
    "#The try block contains the code that may raise an exception, and the except block contains the code that will be executed in case an exception is raised.\n",
    "def divide(a, b):\n",
    "    try:\n",
    "        return a / b\n",
    "    except ZeroDivisionError:\n",
    "        return \"Cannot divide by zero.\"\n",
    "\n",
    "x = 10\n",
    "y = 0\n",
    "\n",
    "result = divide(x, y)\n",
    "print(result)\n"
   ]
  },
  {
   "cell_type": "code",
   "execution_count": 4,
   "id": "543d5787-70d5-48e1-8082-a9fd313548ae",
   "metadata": {},
   "outputs": [
    {
     "name": "stdout",
     "output_type": "stream",
     "text": [
      "The division has finished.\n",
      "The result of 10 / 2 is 5.0.\n",
      "Cannot divide by zero.\n",
      "The division has finished.\n",
      "The result of 10 / 0 is None.\n"
     ]
    }
   ],
   "source": [
    "#Q4. Explain with an example:try and else, finally, raise.\n",
    "#Ans.\n",
    "#1.The try and else statements in Python are used to catch exceptions and to specify code that will be executed only if no exceptions were raised. \n",
    "#2.The finally statement is used to specify code that will be executed regardless of whether an exception was raised or not.\n",
    "#3.The raise statement is used to raise an exception.\n",
    "def divide(a, b):\n",
    "    try:\n",
    "        if b == 0:\n",
    "            raise ZeroDivisionError(\"Cannot divide by zero.\")\n",
    "        return a / b\n",
    "    except ZeroDivisionError as e:\n",
    "        print(e)\n",
    "    else:\n",
    "        print(\"No exceptions were raised.\")\n",
    "    finally:\n",
    "        print(\"The division has finished.\")\n",
    "\n",
    "x = 10\n",
    "y = 2\n",
    "\n",
    "result = divide(x, y)\n",
    "print(f\"The result of {x} / {y} is {result}.\")\n",
    "\n",
    "y = 0\n",
    "result = divide(x, y)\n",
    "print(f\"The result of {x} / {y} is {result}.\")\n"
   ]
  },
  {
   "cell_type": "code",
   "execution_count": 5,
   "id": "3470cbf6-ce8f-4fcf-b675-1c17baeeabb9",
   "metadata": {},
   "outputs": [
    {
     "name": "stdout",
     "output_type": "stream",
     "text": [
      "Cannot calculate the square root of a negative number.\n"
     ]
    }
   ],
   "source": [
    "#Q5. What are Custom Exceptions in python? Why do we need Custom Exceptions? Explain with an example.\n",
    "#Ans.\n",
    "#Custom exceptions are user-defined exceptions in Python that are created to handle specific error conditions that are not covered by built-in exceptions\n",
    "#They allow you to tailor error messages and handling to fit the needs of your specific application.\n",
    "class NegativeNumberException(Exception):\n",
    "    pass\n",
    "def square_root(x):\n",
    "    if x < 0:\n",
    "        raise NegativeNumberException(\"Cannot calculate the square root of a negative number.\")\n",
    "    return x ** 0.5\n",
    "x = -1\n",
    "try:\n",
    "    result = square_root(x)\n",
    "    print(f\"The square root of {x} is {result}.\")\n",
    "except NegativeNumberException as e:\n",
    "    print(e)\n"
   ]
  },
  {
   "cell_type": "code",
   "execution_count": 6,
   "id": "0a30a44f-3d23-431e-bb88-8f687f6d3e21",
   "metadata": {},
   "outputs": [
    {
     "name": "stdout",
     "output_type": "stream",
     "text": [
      "Error: division by zero\n"
     ]
    }
   ],
   "source": [
    "#Q6. Create custom exception class. Use this class to handle an exception.\n",
    "#Ans:\n",
    "class CustomException(Exception):\n",
    "    def __init__(self, message):\n",
    "        self.message = message\n",
    "\n",
    "def divide(a, b):\n",
    "    if b == 0:\n",
    "        raise CustomException(\"division by zero\")\n",
    "    return a / b\n",
    "\n",
    "try:\n",
    "    result = divide(10, 0)\n",
    "    print(result)\n",
    "except CustomException as e:\n",
    "    print(\"Error:\", e.message)\n"
   ]
  },
  {
   "cell_type": "code",
   "execution_count": null,
   "id": "dec994b5-dbcd-4388-9e36-49c3585cbe27",
   "metadata": {},
   "outputs": [],
   "source": []
  }
 ],
 "metadata": {
  "kernelspec": {
   "display_name": "Python 3 (ipykernel)",
   "language": "python",
   "name": "python3"
  },
  "language_info": {
   "codemirror_mode": {
    "name": "ipython",
    "version": 3
   },
   "file_extension": ".py",
   "mimetype": "text/x-python",
   "name": "python",
   "nbconvert_exporter": "python",
   "pygments_lexer": "ipython3",
   "version": "3.10.8"
  }
 },
 "nbformat": 4,
 "nbformat_minor": 5
}
