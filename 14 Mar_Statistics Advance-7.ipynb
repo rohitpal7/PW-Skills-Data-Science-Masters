{
 "cells": [
  {
   "cell_type": "code",
   "execution_count": 1,
   "id": "276d7854-37f7-4060-96d5-4082a91d73fe",
   "metadata": {},
   "outputs": [
    {
     "name": "stdout",
     "output_type": "stream",
     "text": [
      "F-value: 7.2\n",
      "p-value: 0.027784351010990103\n"
     ]
    }
   ],
   "source": [
    "#Q1. Write a Python function that takes in two arrays of data and calculates the F-value for a variance ratio test. The function should return the F-value and the corresponding p-value for the test.\n",
    "#Ans.\n",
    "from scipy.stats import f_oneway\n",
    "\n",
    "def variance_ratio_test(data1, data2):\n",
    "    \"\"\"\n",
    "    Perform a variance ratio test on two arrays of data.\n",
    "    \n",
    "    Parameters:\n",
    "    data1 (array-like): First array of data.\n",
    "    data2 (array-like): Second array of data.\n",
    "    \n",
    "    Returns:\n",
    "    F (float): F-value for the variance ratio test.\n",
    "    p_value (float): p-value for the variance ratio test.\n",
    "    \"\"\"\n",
    "    F, p_value = f_oneway(data1, data2)\n",
    "    return F, p_value\n",
    "\n",
    "data1 = [1, 2, 3, 4, 5]\n",
    "data2 = [3, 6, 9, 12, 15]\n",
    "F, p_value = variance_ratio_test(data1, data2)\n",
    "print(\"F-value:\", F)\n",
    "print(\"p-value:\", p_value)\n"
   ]
  },
  {
   "cell_type": "code",
   "execution_count": 5,
   "id": "092fd46a-c65a-4956-bf52-a2aec8610925",
   "metadata": {},
   "outputs": [
    {
     "data": {
      "text/plain": [
       "4.18206059099611"
      ]
     },
     "execution_count": 5,
     "metadata": {},
     "output_type": "execute_result"
    }
   ],
   "source": [
    "#Q2. Given a significance level of 0.05 and the degrees of freedom for the numerator and denominator of an F-distribution, write a Python function that returns the critical F-value for a two-tailed test.\n",
    "#Ans.\n",
    "import scipy.stats as stats\n",
    "\n",
    "def critical_f_value(num_df, denom_df, alpha=0.05):\n",
    "    \"\"\"\n",
    "    Calculate the critical F-value for a two-tailed test with given degrees of freedom and significance level.\n",
    "\n",
    "    Parameters:\n",
    "        num_df (int): Degrees of freedom for the numerator.\n",
    "        denom_df (int): Degrees of freedom for the denominator.\n",
    "        alpha (float): Significance level. Default is 0.05.\n",
    "\n",
    "    Returns:\n",
    "        float: The critical F-value for a two-tailed test.\n",
    "    \"\"\"\n",
    "    return stats.f.ppf(1 - alpha / 2, num_df, denom_df)\n",
    "\n",
    "critical_f_value(2, 30)\n"
   ]
  },
  {
   "cell_type": "code",
   "execution_count": 6,
   "id": "85226651-5860-44c1-8ab9-7ffc7f3c4d73",
   "metadata": {},
   "outputs": [
    {
     "name": "stdout",
     "output_type": "stream",
     "text": [
      "F-value:  0.23190334501317728\n",
      "Degrees of freedom:  29 29\n",
      "p-value:  8.94025723548389e-05\n"
     ]
    }
   ],
   "source": [
    "#Q3. Write a Python program that generates random samples from two normal distributions with knownvariances and uses an F-test to determine if the variances are equal. The program should output the F-value, degrees of freedom, and p-value for the test.\n",
    "#Ans.\n",
    "import numpy as np\n",
    "import scipy.stats as stats\n",
    "\n",
    "# set seed for reproducibility\n",
    "np.random.seed(123)\n",
    "\n",
    "# generate random samples from two normal distributions\n",
    "mu1, mu2 = 0, 0\n",
    "sigma1, sigma2 = 1, 2\n",
    "n1, n2 = 30, 30\n",
    "\n",
    "sample1 = np.random.normal(mu1, sigma1, n1)\n",
    "sample2 = np.random.normal(mu2, sigma2, n2)\n",
    "\n",
    "# calculate the F-test statistic and p-value\n",
    "F = np.var(sample1, ddof=1) / np.var(sample2, ddof=1)\n",
    "df1 = n1 - 1\n",
    "df2 = n2 - 1\n",
    "p_value = stats.f.cdf(F, df1, df2)\n",
    "\n",
    "# print the results\n",
    "print(\"F-value: \", F)\n",
    "print(\"Degrees of freedom: \", df1, df2)\n",
    "print(\"p-value: \", p_value)\n"
   ]
  },
  {
   "cell_type": "code",
   "execution_count": 9,
   "id": "8a49e8bb-1c04-49a0-a19e-80b464937705",
   "metadata": {},
   "outputs": [
    {
     "name": "stdout",
     "output_type": "stream",
     "text": [
      "3.473699051085809\n"
     ]
    }
   ],
   "source": [
    "#Q4.The variances of two populations are known to be 10 and 15. A sample of 12 observations is taken fromeach population. Conduct an F-test at the 5% significance level to determine if the variances aresignificantly different.\n",
    "#Ans.\n",
    "import scipy.stats as stats\n",
    "\n",
    "# Calculate the critical F-value\n",
    "alpha = 0.05\n",
    "num_df = 11\n",
    "denom_df = 11\n",
    "crit_F = stats.f.ppf(1 - alpha/2, num_df, denom_df)\n",
    "print(crit_F)"
   ]
  },
  {
   "cell_type": "code",
   "execution_count": 10,
   "id": "705b5a84-2e64-47e1-8723-f5231fdfede6",
   "metadata": {},
   "outputs": [
    {
     "name": "stdout",
     "output_type": "stream",
     "text": [
      "nan\n"
     ]
    }
   ],
   "source": [
    "#Q5. A manufacturer claims that the variance of the diameter of a certain product is 0.005. A sample of 25 products is taken, and the sample variance is found to be 0.006. Conduct an F-test at the 1% significancelevel to determine if the claim is justified.\n",
    "#Ans.\n",
    "import scipy.stats as stats\n",
    "\n",
    "# Calculate the p-value\n",
    "alpha = 0.01\n",
    "num_df = 24\n",
    "denom_df = 0\n",
    "p_value = stats.f.sf(1.2, num_df, denom_df) * 2\n",
    "print(p_value)"
   ]
  },
  {
   "cell_type": "code",
   "execution_count": 15,
   "id": "befa5a3c-c4dd-4cdd-a9c7-591045e9d4c3",
   "metadata": {},
   "outputs": [
    {
     "name": "stdout",
     "output_type": "stream",
     "text": [
      "Mean: 1.1111111111111112\n",
      "Variance: 0.0016975308641975309\n"
     ]
    }
   ],
   "source": [
    "#Q6. Write a Python function that takes in the degrees of freedom for the numerator and denominator of an F-distribution and calculates the mean and variance of the distribution. The function should return the mean and variance as a tuple.\n",
    "#Ans.\n",
    "def f_distribution_mean_and_variance(dfn, dfd):\n",
    "    \"\"\"\n",
    "    Calculates the mean and variance of an F-distribution with degrees of freedom for the numerator and denominator equal\n",
    "    to dfn and dfd, respectively.\n",
    "\n",
    "    Parameters:\n",
    "        dfn (int): Degrees of freedom for the numerator.\n",
    "        dfd (int): Degrees of freedom for the denominator.\n",
    "\n",
    "    Returns:\n",
    "        (tuple): A tuple containing the mean and variance of the F-distribution.\n",
    "    \"\"\"\n",
    "    mean = dfd / (dfd - 2)\n",
    "    variance = 2 * dfn * (dfd + dfn - 2) / (dfd * (dfd - 2)**2 * (dfd - 4))\n",
    "    return (mean, variance)\n",
    "\n",
    "# Example usage\n",
    "mean, variance = f_distribution_mean_and_variance(4, 20)\n",
    "print(\"Mean:\", mean)\n",
    "print(\"Variance:\", variance)\n"
   ]
  },
  {
   "cell_type": "code",
   "execution_count": 16,
   "id": "c4e88c55-fbcc-4af2-acb7-ce19eb795950",
   "metadata": {},
   "outputs": [
    {
     "name": "stdout",
     "output_type": "stream",
     "text": [
      "Test statistic: 1.25\n",
      "Degrees of freedom: 9 and 14\n",
      "p-value: 0.6832194382585954\n",
      "Critical F-value: 0.2632997660331528\n",
      "Reject the null hypothesis. The variances are significantly different.\n"
     ]
    }
   ],
   "source": [
    "#Q7. A random sample of 10 measurements is taken from a normal population with unknown variance. The sample variance is found to be 25. Another random sample of 15 measurements is taken from another normal population with unknown variance, and the sample variance is found to be 20. Conduct an F-test at the 10% significance level to determine if the variances are significantly different.\n",
    "#Ans.\n",
    "import scipy.stats as stats\n",
    "\n",
    "# Sample variances\n",
    "s1_squared = 25\n",
    "s2_squared = 20\n",
    "\n",
    "# Sample sizes\n",
    "n1 = 10\n",
    "n2 = 15\n",
    "\n",
    "# Calculate the test statistic\n",
    "F = s1_squared / s2_squared\n",
    "\n",
    "# Calculate the degrees of freedom\n",
    "df1 = n1 - 1\n",
    "df2 = n2 - 1\n",
    "\n",
    "# Calculate the p-value using the cumulative distribution function (CDF) of the F-distribution\n",
    "p_value = 2 * min(stats.f.cdf(F, df1, df2), 1 - stats.f.cdf(F, df1, df2))\n",
    "\n",
    "# Calculate the critical F-value at the 10% significance level\n",
    "critical_F = stats.f.ppf(0.05 / 2, df1, df2)\n",
    "\n",
    "# Print the results\n",
    "print(\"Test statistic:\", F)\n",
    "print(\"Degrees of freedom:\", df1, \"and\", df2)\n",
    "print(\"p-value:\", p_value)\n",
    "print(\"Critical F-value:\", critical_F)\n",
    "\n",
    "# Compare the test statistic to the critical value and draw a conclusion\n",
    "if F > critical_F:\n",
    "    print(\"Reject the null hypothesis. The variances are significantly different.\")\n",
    "else:\n",
    "    print(\"Fail to reject the null hypothesis. The variances are not significantly different.\")\n"
   ]
  },
  {
   "cell_type": "code",
   "execution_count": 17,
   "id": "9442ef80-de15-40a8-bed0-f2961e6dd72b",
   "metadata": {},
   "outputs": [
    {
     "name": "stdout",
     "output_type": "stream",
     "text": [
      "Test statistic: 1.4551907719609583\n",
      "Degrees of freedom: 6 and 5\n",
      "p-value: 0.6974815747937484\n",
      "Critical F-value: 0.16701279718024772\n",
      "Reject the null hypothesis. The variances are significantly different.\n"
     ]
    }
   ],
   "source": [
    "#Q8. The following data represent the waiting times in minutes at two different restaurants on a Saturdaynight: Restaurant A: 24, 25, 28, 23, 22, 20, 27; Restaurant B: 31, 33, 35, 30, 32, 36. Conduct an F-test at the 5%significance level to determine if the variances are significantly different.\n",
    "#Ans.\n",
    "import scipy.stats as stats\n",
    "import numpy as np\n",
    "\n",
    "# Sample data\n",
    "restaurant_A = [24, 25, 28, 23, 22, 20, 27]\n",
    "restaurant_B = [31, 33, 35, 30, 32, 36]\n",
    "\n",
    "# Sample variances\n",
    "s1_squared = np.var(restaurant_A, ddof=1)\n",
    "s2_squared = np.var(restaurant_B, ddof=1)\n",
    "\n",
    "# Sample sizes\n",
    "n1 = len(restaurant_A)\n",
    "n2 = len(restaurant_B)\n",
    "\n",
    "# Calculate the test statistic\n",
    "F = s1_squared / s2_squared\n",
    "\n",
    "# Calculate the degrees of freedom\n",
    "df1 = n1 - 1\n",
    "df2 = n2 - 1\n",
    "\n",
    "# Calculate the p-value using the cumulative distribution function (CDF) of the F-distribution\n",
    "p_value = 2 * min(stats.f.cdf(F, df1, df2), 1 - stats.f.cdf(F, df1, df2))\n",
    "\n",
    "# Calculate the critical F-value at the 5% significance level\n",
    "critical_F = stats.f.ppf(0.025, df1, df2)\n",
    "\n",
    "# Print the results\n",
    "print(\"Test statistic:\", F)\n",
    "print(\"Degrees of freedom:\", df1, \"and\", df2)\n",
    "print(\"p-value:\", p_value)\n",
    "print(\"Critical F-value:\", critical_F)\n",
    "\n",
    "# Compare the test statistic to the critical value and draw a conclusion\n",
    "if F > critical_F:\n",
    "    print(\"Reject the null hypothesis. The variances are significantly different.\")\n",
    "else:\n",
    "    print(\"Fail to reject the null hypothesis. The variances are not significantly different.\")\n"
   ]
  },
  {
   "cell_type": "code",
   "execution_count": 18,
   "id": "488288fd-97af-4dc3-a670-d4f473395ca4",
   "metadata": {},
   "outputs": [
    {
     "name": "stdout",
     "output_type": "stream",
     "text": [
      "The variances are not significantly different.\n"
     ]
    }
   ],
   "source": [
    "#Q9. The following data represent the test scores of two groups of students: Group A: 80, 85, 90, 92, 87, 83;Group B: 75, 78, 82, 79, 81, 84. Conduct an F-test at the 1% significance level to determine if the variances are significantly different.\n",
    "#Ans.\n",
    "import numpy as np\n",
    "from scipy.stats import f\n",
    "\n",
    "# define the data\n",
    "group_a = np.array([80, 85, 90, 92, 87, 83])\n",
    "group_b = np.array([75, 78, 82, 79, 81, 84])\n",
    "\n",
    "# calculate the variances\n",
    "var_a = np.var(group_a, ddof=1)\n",
    "var_b = np.var(group_b, ddof=1)\n",
    "\n",
    "# calculate the ratio of variances\n",
    "if var_a > var_b:\n",
    "    ratio = var_a / var_b\n",
    "else:\n",
    "    ratio = var_b / var_a\n",
    "\n",
    "# calculate the F-value\n",
    "f_value = ratio * (len(group_a) - 1) / (len(group_b) - 1)\n",
    "\n",
    "# find the critical F-value\n",
    "dfn = len(group_a) - 1\n",
    "dfd = len(group_b) - 1\n",
    "crit_f = f.ppf(0.995, dfn, dfd)\n",
    "\n",
    "# compare the calculated F-value to the critical F-value\n",
    "if f_value > crit_f:\n",
    "    print(\"The variances are significantly different.\")\n",
    "else:\n",
    "    print(\"The variances are not significantly different.\")\n"
   ]
  }
 ],
 "metadata": {
  "kernelspec": {
   "display_name": "Python 3 (ipykernel)",
   "language": "python",
   "name": "python3"
  },
  "language_info": {
   "codemirror_mode": {
    "name": "ipython",
    "version": 3
   },
   "file_extension": ".py",
   "mimetype": "text/x-python",
   "name": "python",
   "nbconvert_exporter": "python",
   "pygments_lexer": "ipython3",
   "version": "3.10.8"
  }
 },
 "nbformat": 4,
 "nbformat_minor": 5
}
