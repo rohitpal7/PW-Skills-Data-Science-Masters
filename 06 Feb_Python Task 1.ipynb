{
 "cells": [
  {
   "cell_type": "code",
   "execution_count": 1,
   "id": "5ec6a48c-b828-4091-b88b-a9b47d844739",
   "metadata": {},
   "outputs": [
    {
     "name": "stdout",
     "output_type": "stream",
     "text": [
      "Product of all numbers: 0\n"
     ]
    }
   ],
   "source": [
    "#Q1. Create a function which will take a list as an argument and return the product of all the numbers after creating a flat list. \n",
    "#Use the below-given list as an argument for your function.\n",
    "#Ans.\n",
    "from functools import reduce\n",
    "from operator import mul\n",
    "def flatten_and_multiply(nested_list):\n",
    "    def flatten(lst):\n",
    "        for item in lst:\n",
    "            if isinstance(item, (list, tuple, dict)):\n",
    "                yield from flatten(item)\n",
    "            else:\n",
    "                yield item\n",
    "\n",
    "    flattened_list = list(flatten(nested_list))\n",
    "    numbers = [x for x in flattened_list if isinstance(x, int) or isinstance(x, float)]\n",
    "    return reduce(mul, numbers) if numbers else 0\n",
    "\n",
    "list1 = [1, 2, 3, 4, [44, 55, 66, True], False, (34, 56, 78, 89, 34), {1, 2, 3, 3, 2, 1}, {1:34, \"key2\": [55, 67, 78, 89], 4: (45, 22, 61, 34)}, [56, 'data science'], 'Machine Learning']\n",
    "product = flatten_and_multiply(list1)\n",
    "print(\"Product of all numbers:\", product)"
   ]
  },
  {
   "cell_type": "code",
   "execution_count": 2,
   "id": "f374995f-08aa-4068-a6db-eeb4707971d2",
   "metadata": {},
   "outputs": [
    {
     "name": "stdout",
     "output_type": "stream",
     "text": [
      "Encrypted Sentence:  r$dzmg$gl$yvxlnv$z$wzgz$hxrvmgrhg.\n"
     ]
    }
   ],
   "source": [
    "\"\"\"\n",
    "Q2. Write a python program for encrypting a message sent to you by your friend. \n",
    "The logic of encryption should be such that, for a the output should be z. \n",
    "For b, the output should be y. For c, the output should be x respectively. \n",
    "Also, the whitespace should be replaced with a dollar sign. Keep the punctuation marks unchanged.\n",
    "Input Sentence: I want to become a Data Scientist. Encrypt the above input sentence using the program you just created.\n",
    "Note: Convert the given input sentence into lowercase before encrypting. The final output should be lowercase.\n",
    "\"\"\"\n",
    "#Ans.\n",
    "def encrypt_sentence(sentence):\n",
    "    sentence = sentence.lower()\n",
    "    encrypted_sentence = \"\"\n",
    "    for char in sentence:\n",
    "        if char == \" \":\n",
    "            encrypted_sentence += \"$\"\n",
    "        elif char.isalpha():\n",
    "            encrypted_sentence += chr(122 - ord(char) + 97)\n",
    "        else:\n",
    "            encrypted_sentence += char\n",
    "    return encrypted_sentence\n",
    "\n",
    "sentence = \"I want to become a Data Scientist.\"\n",
    "encrypted_sentence = encrypt_sentence(sentence)\n",
    "print(\"Encrypted Sentence: \", encrypted_sentence)"
   ]
  }
 ],
 "metadata": {
  "kernelspec": {
   "display_name": "Python 3 (ipykernel)",
   "language": "python",
   "name": "python3"
  },
  "language_info": {
   "codemirror_mode": {
    "name": "ipython",
    "version": 3
   },
   "file_extension": ".py",
   "mimetype": "text/x-python",
   "name": "python",
   "nbconvert_exporter": "python",
   "pygments_lexer": "ipython3",
   "version": "3.10.8"
  }
 },
 "nbformat": 4,
 "nbformat_minor": 5
}
