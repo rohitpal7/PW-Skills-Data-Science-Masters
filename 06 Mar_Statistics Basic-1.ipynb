{
 "cells": [
  {
   "cell_type": "code",
   "execution_count": null,
   "id": "c2cf1e69-683f-4d12-a653-34f4052a9a05",
   "metadata": {},
   "outputs": [],
   "source": [
    "#Q1. What is Statistics?\n",
    "#Ans.\n",
    "#Statistics is the branch of mathematics that deals with the collection, analysis, interpretation, presentation, and organization of data. \n",
    "#It involves the use of mathematical and statistical methods to summarize and analyze data, and to make decisions or draw conclusions based on the results."
   ]
  },
  {
   "cell_type": "code",
   "execution_count": null,
   "id": "f617c767-d5d9-438a-b22e-45af55f976fa",
   "metadata": {},
   "outputs": [],
   "source": [
    "#Q2. Define the different types of statistics and give an example of when each type might be used.\n",
    "#Ans.\n",
    "#There are two main types of statistics: descriptive statistics and inferential statistics.\n",
    "#1. Descriptive statistics: Descriptive statistics are used to describe and summarize data. \n",
    "#Common measures of descriptive statistics include measures of central tendency such as mean, median, and mode, as well as measures of variability such as range, standard deviation, and variance.\n",
    "#2. Inferential statistics: Inferential statistics are used to make inferences and predictions about a population based on a sample of data. \n",
    "#These statistics help to test hypotheses and make generalizations about a larger population based on a smaller sample. "
   ]
  },
  {
   "cell_type": "code",
   "execution_count": null,
   "id": "165e670b-9705-4211-837c-540c99f07908",
   "metadata": {},
   "outputs": [],
   "source": [
    "#Q3. What are the different types of data and how do they differ from each other? Provide an example of each type of data.\n",
    "#Ans.\n",
    "#There are several types of data, including:\n",
    "#Nominal data: Nominal data are categorical data that have no natural order or ranking. Examples include gender, race, and favorite color.\n",
    "#Ordinal data: Ordinal data are categorical data that have a natural order or ranking. Examples include education level and satisfaction rating.\n",
    "#Interval data: Interval data are numerical data that have a consistent unit of measurement and no true zero point. Examples include temperature measured in Celsius or Fahrenheit, and dates measured in calendar years.\n",
    "#Ratio data: Ratio data are numerical data that have a consistent unit of measurement and a true zero point. Examples include height, weight, and income.\n",
    "\n",
    "#The key differences between these types of data are the level of measurement, the presence or absence of a natural order or ranking, and the presence or absence of a true zero point."
   ]
  },
  {
   "cell_type": "code",
   "execution_count": null,
   "id": "018a84c8-bf64-4258-8405-c8ef43b293ed",
   "metadata": {},
   "outputs": [],
   "source": [
    "#Q4. Categorise the following datasets with respect to quantitative and qualitative data types:\n",
    "#Ans.\n",
    "#(i) qualitative data =  Grading in exam: A+, A, B+, B, C+, C, D, E\n",
    "#(ii) qualitative data = Colour of mangoes: yellow, green, orange, red\n",
    "#(iii) quantitative data = Height data of a class: [178.9, 179, 179.5, 176, 177.2, 178.3, 175.8,...]\n",
    "#(iv) quantitative data = Number of mangoes exported by a farm: [500, 600, 478, 672, ...]"
   ]
  },
  {
   "cell_type": "code",
   "execution_count": null,
   "id": "279c5062-d5f2-43fd-9773-abe4bbba1685",
   "metadata": {},
   "outputs": [],
   "source": [
    "#Q5. Explain the concept of levels of measurement and give an example of a variable for each level.\n",
    "#Ans.\n",
    "#Levels of measurement, also known as scales of measurement, refer to the different ways in which variables can be measured or classified. \n",
    "#There are four levels of measurement: nominal, ordinal, interval, and ratio.\n",
    "#1. Nominal level: This is the lowest level of measurement and refers to data that is categorical or qualitative, with no inherent order or ranking.\n",
    "#2. Ordinal level: This level of measurement refers to data that is categorical or qualitative, but with an inherent order or ranking. \n",
    "#3. Interval level: This level of measurement refers to data that is numerical or quantitative, with a consistent unit of measurement, but no true zero point. \n",
    "#4. Ratio level: This is the highest level of measurement and refers to data that is numerical or quantitative, with a consistent unit of measurement and a true zero point."
   ]
  },
  {
   "cell_type": "code",
   "execution_count": null,
   "id": "32cc4a77-99e3-41a9-9291-4c388e590029",
   "metadata": {},
   "outputs": [],
   "source": [
    "#Q6. Why is it important to understand the level of measurement when analyzing data? Provide an example to illustrate your answer.\n",
    "#Ans.\n",
    "#Understanding the level of measurement is important when analyzing data because it determines the types of statistical analysis that can be performed on a variable. \n",
    "#Different levels of measurement have different mathematical properties, and some statistical methods are only appropriate for certain types of data."
   ]
  },
  {
   "cell_type": "code",
   "execution_count": null,
   "id": "25170852-de9b-4247-a385-ded95a6fd0f5",
   "metadata": {},
   "outputs": [],
   "source": [
    "#Q7. How nominal data type is different from ordinal data type.\n",
    "#Ans.\n",
    "#Nominal and ordinal data types are both categorical or qualitative data types, but they differ in the level of measurement and the types of analysis that can be performed on them.\n",
    "#the main difference between nominal and ordinal data types is the presence or absence of an inherent order or ranking in the categories. Nominal data has no order or ranking, while ordinal data has a natural or logical order."
   ]
  },
  {
   "cell_type": "code",
   "execution_count": null,
   "id": "fc139f5f-6766-4ea4-ae1b-f42b855c2b07",
   "metadata": {},
   "outputs": [],
   "source": [
    "#Q8. Which type of plot can be used to display data in terms of range?\n",
    "#Ans.\n",
    "#A box plot is a type of plot that can be used to display data in terms of range. \n",
    "#The box in the plot represents the interquartile range (IQR), which includes the middle 50% of the data."
   ]
  },
  {
   "cell_type": "code",
   "execution_count": null,
   "id": "01cf6df7-a3b3-479e-aaef-ff048c8c3701",
   "metadata": {},
   "outputs": [],
   "source": [
    "#Q9. Describe the difference between descriptive and inferential statistics. Give an example of each type of statistics and explain how they are used.\n",
    "#Ans.\n",
    "#descriptive statistics is used to describe and summarize a data set, while inferential statistics is used to draw conclusions and make predictions about a population based on a sample. \n",
    "#Descriptive statistics are used to gain insight into the data, while inferential statistics are used to make generalizations and predictions about a larger population.\n",
    "\n",
    "#Descriptive statistics refers to the methods used to summarize and describe the characteristics of a data set. \n",
    "#It is used to provide a clear and concise summary of the data, such as measures of central tendency (mean, median, mode) and measures of variability (standard deviation, range). \n",
    "#For example, a researcher may use descriptive statistics to describe the demographic characteristics of a sample, such as age, gender, and income.\n",
    "\n",
    "#Inferential statistics, on the other hand, refers to the methods used to draw conclusions and make predictions about a population based on a sample of data. \n",
    "#It is used to make generalizations about the larger population based on the results obtained from the sample. \n",
    "#For example, a researcher may use inferential statistics to test whether a new drug is more effective than a placebo in reducing blood pressure."
   ]
  },
  {
   "cell_type": "code",
   "execution_count": null,
   "id": "39ad97ba-66a0-4c5c-865b-6a49adef17ba",
   "metadata": {},
   "outputs": [],
   "source": [
    "#Q10. What are some common measures of central tendency and variability used in statistics? Explain how each measure can be used to describe a dataset.\n",
    "#Ans.\n",
    "#The most common measures of central tendency are the mean, median, and mode, while the most common measures of variability are the range, variance, and standard deviation.\n",
    "#The mean is the arithmetic average of a dataset and is calculated by adding up all the values and dividing by the number of values.\n",
    "#The median is the middle value of a dataset, and is calculated by arranging the values in order and finding the middle value.\n",
    "#The mode is the most common value in a dataset, and is often used for categorical or nominal data. \n",
    "#The range is the difference between the maximum and minimum values in a dataset, and provides a measure of the spread of the data.\n",
    "#The variance is the average of the squared differences between each value and the mean, and provides a measure of how much the data deviates from the mean.\n",
    "#The standard deviation is the square root of the variance, and provides a measure of the spread of the data around the mean."
   ]
  }
 ],
 "metadata": {
  "kernelspec": {
   "display_name": "Python 3 (ipykernel)",
   "language": "python",
   "name": "python3"
  },
  "language_info": {
   "codemirror_mode": {
    "name": "ipython",
    "version": 3
   },
   "file_extension": ".py",
   "mimetype": "text/x-python",
   "name": "python",
   "nbconvert_exporter": "python",
   "pygments_lexer": "ipython3",
   "version": "3.10.8"
  }
 },
 "nbformat": 4,
 "nbformat_minor": 5
}
