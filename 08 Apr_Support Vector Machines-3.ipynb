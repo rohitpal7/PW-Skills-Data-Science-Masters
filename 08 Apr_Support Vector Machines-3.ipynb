{
 "cells": [
  {
   "cell_type": "code",
   "execution_count": null,
   "id": "70a8974a-d72e-43a3-9aa3-c584914d7bc9",
   "metadata": {},
   "outputs": [],
   "source": [
    "#Q1. In order to predict house price based on several characteristics, such as location, square footage, number of bedrooms, etc., you are developing an SVM regression model. Which regression metric in this situation would be the best to employ?\n",
    "#Ans.\n",
    "#For predicting house prices based on several characteristics using an SVM regression model, the most appropriate regression metrics to use would be mean squared error (MSE) and root mean squared error (RMSE). \n",
    "#These metrics measure the average squared difference between the predicted and actual values, which is a common measure of regression accuracy. \n",
    "#In this case, the lower the MSE or RMSE, the better the model is at predicting house prices accurately."
   ]
  },
  {
   "cell_type": "code",
   "execution_count": null,
   "id": "ba7cb479-ed16-4666-b795-47a326124786",
   "metadata": {},
   "outputs": [],
   "source": [
    "#Q2. You have built an SVM regression model and are trying to decide between using MSE or R-squared as your evaluation metric. Which metric would be more appropriate if your goal is to predict the actual price of a house as accurately as possible?\n",
    "#Ans.\n",
    "#If the goal is to predict the actual price of a house as accurately as possible, then MSE (Mean Squared Error) would be the more appropriate evaluation metric to use. \n",
    "#MSE measures the average squared difference between the predicted and actual values, which directly reflects the magnitude of the errors made by the model. \n",
    "#A lower MSE indicates that the model is making less errors in predicting the actual house prices. "
   ]
  },
  {
   "cell_type": "code",
   "execution_count": null,
   "id": "ba48cb7b-8fe3-4017-8706-48561a9c685c",
   "metadata": {},
   "outputs": [],
   "source": [
    "#Q3. You have a dataset with a significant number of outliers and are trying to select an appropriate regression metric to use with your SVM model. Which metric would be the most appropriate in this scenario?\n",
    "#Ans.\n",
    "#In the case of a dataset with a significant number of outliers, mean squared error (MSE) may not be an appropriate regression metric since it is sensitive to outliers. \n",
    "#Instead, a more robust metric such as mean absolute error (MAE) or median absolute error (MedAE) would be more appropriate as they are less sensitive to outliers. \n",
    "#These metrics can still provide a measure of the model's accuracy without being heavily influenced by extreme values."
   ]
  },
  {
   "cell_type": "code",
   "execution_count": null,
   "id": "c131058a-5c92-4d33-95ef-ed9be7d26d18",
   "metadata": {},
   "outputs": [],
   "source": [
    "#Q4. You have built an SVM regression model using a polynomial kernel and are trying to select the best metric to evaluate its performance. You have calculated both MSE and RMSE and found that both values are very close. Which metric should you choose to use in this case?\n",
    "#Ans.\n",
    "#In general, both MSE and RMSE are commonly used metrics to evaluate the performance of regression models, and they measure the same thing - the average squared difference between the predicted and actual values. \n",
    "#However, RMSE has the advantage of being in the same unit as the target variable, while MSE is in squared units. \n",
    "#Therefore, if the scale of the target variable is important in the context of the problem, it may be more appropriate to use RMSE."
   ]
  },
  {
   "cell_type": "code",
   "execution_count": null,
   "id": "9da38ddf-60f9-4c19-8ee4-607a044eb5a0",
   "metadata": {},
   "outputs": [],
   "source": [
    "#Q5. You are comparing the performance of different SVM regression models using different kernels (linear, polynomial, and RBF) and are trying to select the best evaluation metric. Which metric would be most appropriate if your goal is to measure how well the model explains the variance in the target variable?\n",
    "#Ans.\n",
    "#If the goal is to measure how well the model explains the variance in the target variable, the most appropriate metric to use would be the coefficient of determination or R-squared.\n",
    "#R-squared measures the proportion of variance in the target variable that can be explained by the independent variables in the model. \n",
    "#A higher R-squared value indicates that a larger proportion of the variance in the target variable is explained by the model.\n",
    "#Therefore, when comparing the performance of different SVM regression models with different kernels, the one with the highest R-squared value would be the best choice."
   ]
  }
 ],
 "metadata": {
  "kernelspec": {
   "display_name": "Python 3 (ipykernel)",
   "language": "python",
   "name": "python3"
  },
  "language_info": {
   "codemirror_mode": {
    "name": "ipython",
    "version": 3
   },
   "file_extension": ".py",
   "mimetype": "text/x-python",
   "name": "python",
   "nbconvert_exporter": "python",
   "pygments_lexer": "ipython3",
   "version": "3.10.8"
  }
 },
 "nbformat": 4,
 "nbformat_minor": 5
}
