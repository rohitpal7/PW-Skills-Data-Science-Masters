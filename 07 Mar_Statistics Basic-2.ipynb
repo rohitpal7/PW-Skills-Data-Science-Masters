{
 "cells": [
  {
   "cell_type": "code",
   "execution_count": null,
   "id": "ed0f3fd7-da3b-47ec-b0d4-afcfae50be0e",
   "metadata": {},
   "outputs": [],
   "source": [
    "#Q1. What are the three measures of central tendency?\n",
    "#Ans. \n",
    "#The three measures of central tendency are: \n",
    "#Mean: The mean is the arithmetic average of all the values in a dataset. \n",
    "#Median: The median is the middle value in a dataset when the values are arranged in order.\n",
    "#Mode: The mode is the most frequently occurring value in a dataset."
   ]
  },
  {
   "cell_type": "code",
   "execution_count": null,
   "id": "eb674f58-e8d9-4a94-88d8-8f0244f583b4",
   "metadata": {},
   "outputs": [],
   "source": [
    "#Q2. What is the difference between the mean, median, and mode? How are they used to measure the central tendency of a dataset?\n",
    "#Ans.\n",
    "#The mean, median, and mode are all measures of central tendency, which describe where the center or middle of a dataset is located.\n",
    "#The mean is the most common measure of central tendency and is calculated by adding up all the values in a dataset and dividing by the total number of values.\n",
    "#The median is the middle value in a dataset when the values are arranged in order.\n",
    "#The mode is the value in a dataset that occurs most frequently."
   ]
  },
  {
   "cell_type": "code",
   "execution_count": 8,
   "id": "660fb286-ee14-4d23-8ef6-9fc90ac4dd06",
   "metadata": {},
   "outputs": [
    {
     "name": "stdout",
     "output_type": "stream",
     "text": [
      "The mean of the height is: 177.01875\n",
      "The median of the height is: 177.0\n",
      "The mode of the height is: ModeResult(mode=array([177.]), count=array([3]))\n"
     ]
    },
    {
     "name": "stderr",
     "output_type": "stream",
     "text": [
      "/tmp/ipykernel_77/3111366750.py:8: FutureWarning: Unlike other reduction functions (e.g. `skew`, `kurtosis`), the default behavior of `mode` typically preserves the axis it acts along. In SciPy 1.11.0, this behavior will change: the default value of `keepdims` will become False, the `axis` over which the statistic is taken will be eliminated, and the value None will no longer be accepted. Set `keepdims` to True or False to avoid this warning.\n",
      "  mode=stats.mode(data)\n"
     ]
    }
   ],
   "source": [
    "#Q3. Measure the three measures of central tendency for the given height data:\n",
    "#Ans.\n",
    "import numpy as np\n",
    "from scipy import stats\n",
    "data=[178,177,176,177,178.2,178,175,179,180,175,178.9,176.2,177,172.5,178,176.5]\n",
    "mean=np.mean(data)\n",
    "median=np.median(data)\n",
    "mode=stats.mode(data)\n",
    "print(\"The mean of the height is:\", mean)\n",
    "print(\"The median of the height is:\", median)\n",
    "print(\"The mode of the height is:\", mode)"
   ]
  },
  {
   "cell_type": "code",
   "execution_count": 10,
   "id": "ea7c9d3e-e2e3-4bb1-b5f7-bb2c422fe305",
   "metadata": {},
   "outputs": [
    {
     "name": "stdout",
     "output_type": "stream",
     "text": [
      "The standard deviation is: 1.7885814036548633\n"
     ]
    }
   ],
   "source": [
    "#Q4. Find the standard deviation for the given data:\n",
    "#Ans.\n",
    "import numpy as np\n",
    "data=[178,177,176,177,178.2,178,175,179,180,175,178.9,176.2,177,172.5,178,176.5]\n",
    "std=np.std(data)\n",
    "print(\"The standard deviation is:\", std)"
   ]
  },
  {
   "cell_type": "code",
   "execution_count": null,
   "id": "66309310-2a98-42d5-82ed-e6ea59bc8900",
   "metadata": {},
   "outputs": [],
   "source": [
    "#Q5. How are measures of dispersion such as range, variance, and standard deviation used to describe the spread of a dataset? Provide an example.\n",
    "#Ans.\n",
    "#These measures provide information about how much the individual data points vary from the central tendency, which can help to provide a more complete understanding of the dataset.\n",
    "#For example, consider two datasets:\n",
    "#Dataset 1: [5, 10, 15, 20, 25]\n",
    "#Dataset 2: [5, 5, 15, 25, 25]\n",
    "#Both datasets have the same mean of 15, but they have different measures of dispersion. The range of Dataset 1 is 20 (25 - 5), while the range of Dataset 2 is 20 (25 - 5), so the range does not provide any additional information about the spread of the data. \n",
    "#However, the variance and standard deviation of the datasets are different. The variance of Dataset 1 is 50, while the variance of Dataset 2 is only 50/3. \n",
    "#The standard deviation of Dataset 1 is the square root of 50, which is approximately 7.07, while the standard deviation of Dataset 2 is the square root of 50/3, which is approximately 3.06.\n",
    "#These measures show that Dataset 1 has more variability or spread than Dataset 2, even though they have the same range and mean. "
   ]
  },
  {
   "cell_type": "code",
   "execution_count": null,
   "id": "22193c65-d4b4-4fad-a079-9a10606f1935",
   "metadata": {},
   "outputs": [],
   "source": [
    "#Q6. What is a Venn diagram?\n",
    "#Ans.\n",
    "#A Venn diagram is a graphical representation of set theory that uses circles or other closed curves to represent sets and their relationships. \n",
    "#The sets are usually represented as circles that overlap to show the common elements or differences between them. \n",
    "#Each circle represents a set, and the area where the circles overlap represents the elements that are common to both sets."
   ]
  },
  {
   "cell_type": "code",
   "execution_count": null,
   "id": "6cdf1a21-1d6e-4af6-a47e-7f919cb73089",
   "metadata": {},
   "outputs": [],
   "source": [
    "#Q7. For the two given sets A = (2,3,4,5,6,7) & B = (0,2,6,8,10). Find: A ⋂ B , A ⋃ B\n",
    "#Ans.\n",
    "#A ⋂ B: (2,6)\n",
    "#A ⋃ B: (0,2,3,4,5,6,7,8,10)"
   ]
  },
  {
   "cell_type": "code",
   "execution_count": null,
   "id": "acd19494-f5e0-4173-92cd-04e81d816903",
   "metadata": {},
   "outputs": [],
   "source": [
    "#Q8. What do you understand about skewness in data?\n",
    "#Ans.\n",
    "#Skewness in data refers to the extent to which the distribution of values in a dataset is asymmetric. \n",
    "#A distribution is considered symmetric if its values are evenly distributed around its mean.\n",
    "#There are two types of skewness:\n",
    "#Positive skewness: A distribution is positively skewed if its tail extends towards the right, meaning that there are more values on the left side of the distribution and fewer on the right side. \n",
    "#In other words, the mean is greater than the median.\n",
    "#Negative skewness: A distribution is negatively skewed if its tail extends towards the left, meaning that there are more values on the right side of the distribution and fewer on the left side. \n",
    "#In other words, the mean is less than the median."
   ]
  },
  {
   "cell_type": "code",
   "execution_count": null,
   "id": "e9371186-7478-4a4d-8905-83684bca8bbd",
   "metadata": {},
   "outputs": [],
   "source": [
    "#Q9. If a data is right skewed then what will be the position of median with respect to mean?\n",
    "#Ans.\n",
    "#If a dataset is right-skewed, meaning it has a long tail to the right side, then the median will be less than the mean."
   ]
  },
  {
   "cell_type": "code",
   "execution_count": null,
   "id": "8598762a-e8cf-4148-81f8-1624e635ea44",
   "metadata": {},
   "outputs": [],
   "source": [
    "#Q10. Explain the difference between covariance and correlation. How are these measures used in statistical analysis?\n",
    "#Ans.\n",
    "#Covariance and correlation are two measures used in statistical analysis to describe the relationship between two variables. \n",
    "\n",
    "#Covariance measures the degree to which two variables vary together. \n",
    "#It is a measure of the joint variability of two random variables, and it is calculated as the expected value of the product of their deviations from their respective means.\n",
    "#Correlation, on the other hand, measures the strength and direction of the relationship between two variables. \n",
    "#It is a standardized measure of covariance that ranges from -1 to 1, with a correlation coefficient of 1 indicating a perfect positive relationship, a correlation coefficient of -1 indicating a perfect negative relationship, and a correlation coefficient of 0 indicating no relationship between the two variables.\n",
    "\n",
    "#In statistical analysis, covariance and correlation are used to identify and quantify the relationship between two variables. \n",
    "#They are often used in regression analysis, where the relationship between an independent variable and a dependent variable is modeled, or in exploratory data analysis to identify patterns or trends in the data. \n",
    "#Correlation is also used to test hypotheses about the strength and direction of the relationship between two variables, and to select variables for inclusion in predictive models."
   ]
  },
  {
   "cell_type": "code",
   "execution_count": null,
   "id": "03fbf7bb-7b9c-4f1c-824e-3b205d65d1f7",
   "metadata": {},
   "outputs": [],
   "source": [
    "#Q11. What is the formula for calculating the sample mean? Provide an example calculation for a dataset.\n",
    "#Ans.\n",
    "#The formula for calculating the sample mean is: \n",
    "Sample Mean = (Sum of all values in the sample) / (Number of values in the sample)\n",
    "\n",
    "#Example:\n",
    "Dataset=(3, 5, 8, 12, 15)\n",
    "#To calculate the sample mean, we first add up all the values in the sample:\n",
    "3 + 5 + 8 + 12 + 15 = 43\n",
    "#Then, we divide by the number of values in the sample, which is 5:\n",
    "43 / 5 = 8.6\n",
    "#Therefore, the sample mean for this dataset is 8.6."
   ]
  },
  {
   "cell_type": "code",
   "execution_count": null,
   "id": "50aab017-3a82-4e65-bb0f-ec35ec5319f7",
   "metadata": {},
   "outputs": [],
   "source": [
    "#Q12. For a normal distribution data what is the relationship between its measure of central tendency?\n",
    "#Ans.\n",
    "#For a normal distribution, the three measures of central tendency, namely the mean, median, and mode, are equal to each other.\n",
    "#The normal distribution is symmetrical, the mean and median will be located at the center of the distribution, and they will be equal. \n",
    "#Additionally, the mode of the normal distribution will be the same as the mean and median because the distribution is unimodal, meaning it has a single peak."
   ]
  },
  {
   "cell_type": "code",
   "execution_count": null,
   "id": "f249e22e-d9a8-4b23-8d0f-2632b7c303b2",
   "metadata": {},
   "outputs": [],
   "source": [
    "#Q13. How is covariance different from correlation?\n",
    "#Ans.\n",
    "#Covariance and correlation are both measures of the relationship between two variables, but they differ in a few important ways:\n",
    "#Scale: Covariance can take on any value, positive or negative, while correlation is always between -1 and 1, inclusive.\n",
    "#Units: Covariance is measured in units that are the product of the units of the two variables being compared, while correlation is unitless.\n",
    "#Standardization: Correlation is a standardized measure of covariance, calculated by dividing the covariance by the product of the standard deviations of the two variables."
   ]
  },
  {
   "cell_type": "code",
   "execution_count": null,
   "id": "941d638c-949e-4aa7-ba94-a934fbf3e628",
   "metadata": {},
   "outputs": [],
   "source": [
    "#Q14. How do outliers affect measures of central tendency and dispersion? Provide an example.\n",
    "#Ans.\n",
    "#Outliers are data points that are significantly different from the other values in a dataset. \n",
    "#Outliers can have a significant impact on measures of central tendency and dispersion, such as the mean, median, mode, range, variance, and standard deviation.\n",
    "\n",
    "#If a dataset has one or more outliers, the measures of central tendency can be skewed towards the outlier(s), and may not be representative of the rest of the data. \n",
    "#For example, if we have a dataset of exam scores and one student scored significantly higher than the rest of the students, the mean score will be higher than the median score, because the outlier will pull the mean upwards. "
   ]
  }
 ],
 "metadata": {
  "kernelspec": {
   "display_name": "Python 3 (ipykernel)",
   "language": "python",
   "name": "python3"
  },
  "language_info": {
   "codemirror_mode": {
    "name": "ipython",
    "version": 3
   },
   "file_extension": ".py",
   "mimetype": "text/x-python",
   "name": "python",
   "nbconvert_exporter": "python",
   "pygments_lexer": "ipython3",
   "version": "3.10.8"
  }
 },
 "nbformat": 4,
 "nbformat_minor": 5
}
