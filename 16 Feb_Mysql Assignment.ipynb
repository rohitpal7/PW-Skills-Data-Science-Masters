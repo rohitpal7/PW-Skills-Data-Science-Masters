{
 "cells": [
  {
   "cell_type": "code",
   "execution_count": null,
   "id": "c4b2bf3c-4c1c-443c-81cd-28b1fa4ad610",
   "metadata": {},
   "outputs": [],
   "source": [
    "#Q1. What is a database? Differentiate between SQL and NoSQL databases.\n",
    "#Ans. \n",
    "#A database is a collection of data that is organized in a specific way to allow for efficient storage, retrieval, and management of that data.\n",
    "\n",
    "#SQL databases, also known as Relational Database Management Systems (RDBMS), are based on the relational model of data, which organizes data into tables with predefined relationships between them. \n",
    "#SQL databases use Structured Query Language (SQL) to manipulate and query data, which is a standardized language used to interact with the database\n",
    "\n",
    "#NoSQL databases, on the other hand, are not based on the relational model of data and do not use SQL for data manipulation and querying. \n",
    "#Instead, NoSQL databases use a variety of data models, including document-oriented, key-value, graph, and column-family, among others."
   ]
  },
  {
   "cell_type": "code",
   "execution_count": null,
   "id": "1fd471f2-f9e2-4103-bb13-30a7ffa2c800",
   "metadata": {},
   "outputs": [],
   "source": [
    "#Q2. What is DDL? Explain why CREATE, DROP, ALTER, and TRUNCATE are used with an example.\n",
    "#Ans.\n",
    "#DDL stands for Data Definition Language, which is a subset of SQL that is used to define and manipulate the structure of a database. \n",
    "#DDL commands are used to create, modify, and delete database objects, such as tables, indexes, views, and stored procedures.\n",
    "\n",
    "#1. CREATE: The CREATE command is used to create new database objects, such as tables, indexes, and views\n",
    "CREATE TABLE employees (\n",
    "    id INT PRIMARY KEY,\n",
    "    name VARCHAR(50),\n",
    "    salary DECIMAL(10,2)\n",
    ");\n",
    "\n",
    "#2. DROP: The DROP command is used to delete existing database objects, such as tables, indexes, and views. \n",
    "DROP TABLE employees;\n",
    "\n",
    "#3. ALTER: The ALTER command is used to modify the structure of an existing database object, such as a table, index, or view. \n",
    "ALTER TABLE employees ADD COLUMN department VARCHAR(50);\n",
    "\n",
    "#4. TRUNCATE: The TRUNCATE command is used to delete all data from a table, but does not delete the table structure itself.\n",
    "TRUNCATE TABLE employees;\n"
   ]
  },
  {
   "cell_type": "code",
   "execution_count": null,
   "id": "e2de9a42-de44-49d6-9aa5-b8b26ffbc6d9",
   "metadata": {},
   "outputs": [],
   "source": [
    "#Q3. What is DML? Explain INSERT, UPDATE, and DELETE with an example.\n",
    "#Ans.\n",
    "#DML stands for Data Manipulation Language, which is a subset of SQL that is used to manipulate the data in a database. \n",
    "#DML commands are used to insert, update, and delete data in a table, and are essential for managing the content of a database.\n",
    "\n",
    "#1. INSERT: The INSERT command is used to add new rows of data to a table.\n",
    "INSERT INTO employees (id, name, salary)\n",
    "VALUES (1001, 'Rohit Pal', 50000);\n",
    "\n",
    "#2. UPDATE: The UPDATE command is used to modify existing data in a table.\n",
    "UPDATE employees\n",
    "SET salary = 60000\n",
    "WHERE id = 1001;\n",
    "\n",
    "#3. DELETE: The DELETE command is used to remove rows of data from a table.\n",
    "DELETE FROM employees\n",
    "WHERE id = 1001;\n"
   ]
  },
  {
   "cell_type": "code",
   "execution_count": null,
   "id": "90b08861-0cec-4734-97e9-a22ecada65b6",
   "metadata": {},
   "outputs": [],
   "source": [
    "#Q4. What is DQL? Explain SELECT with an example.\n",
    "#Ans:\n",
    "#DQL stands for Data Query Language, which is a subset of SQL that is used to retrieve data from a database. DQL commands are used to specify the criteria for selecting data from one or more tables.\n",
    "#The most commonly used DQL command is SELECT, which is used to retrieve data from one or more tables based on specified criteria.\n",
    "SELECT * FROM employees WHERE department = 'Sales';\n"
   ]
  },
  {
   "cell_type": "code",
   "execution_count": null,
   "id": "858e7813-6067-4851-8994-03c497d9bba4",
   "metadata": {},
   "outputs": [],
   "source": [
    "#Q5. Explain Primary Key and Foreign Key.\n",
    "#Ans.\n",
    "#a primary key is used to uniquely identify rows in a table, while a foreign key is used to establish relationships between tables and ensure data consistency.\n",
    "\n",
    "#Primary Key: A primary key is a column or group of columns in a table that uniquely identifies each row. \n",
    "#A primary key must be unique and not null, and can be made up of one or more columns.\n",
    "\n",
    "#Foreign Key: A foreign key is a column or group of columns in one table that refers to the primary key of another table. \n",
    "#It is used to establish a relationship between the tables and ensure data consistency."
   ]
  },
  {
   "cell_type": "code",
   "execution_count": 5,
   "id": "7e272043-3485-4bb5-b408-75205ced0da5",
   "metadata": {},
   "outputs": [],
   "source": [
    "#Q6. Write a python code to connect MySQL to python. Explain the cursor() and execute() method.\n",
    "#Ans.\n",
    "#\n",
    "import mysql.connector\n",
    "mydb = mysql.connector.connect(\n",
    "  host=\"localhost\",\n",
    "  user=\"abc\",\n",
    "  password=\"password\"\n",
    ")\n",
    "print(mydb)\n",
    "mycursor = mydb.cursor()\n",
    "mycursor.execute(\"SHOW DATABASES\")\n",
    "for x in mycursor:\n",
    "  print(x)\n",
    "\n",
    "#cursor(): The cursor() method is used to create a cursor object, which is used to execute SQL commands and retrieve data from a database.\n",
    "\n",
    "#The execute() method is used to execute a SQL query. \n",
    "#It takes a SQL query as its first argument and a tuple of values as its second argument."
   ]
  },
  {
   "cell_type": "code",
   "execution_count": null,
   "id": "87d16b70-5dae-486c-b623-cbedd17d8e2a",
   "metadata": {},
   "outputs": [],
   "source": [
    "#Q7. Give the order of execution of SQL clauses in an SQL query.\n",
    "#Ans.\n",
    "#In a SQL query, the clauses are executed in the following order:\n",
    "#1. SELECT: This clause is used to specify the columns to retrieve from one or more tables. It is the first clause executed in a query.\n",
    "#2. FROM: This clause is used to specify the tables from which to retrieve data. It is executed after the SELECT clause.\n",
    "#3. WHERE: This clause is used to filter the data based on specified criteria. It is executed after the FROM clause.\n",
    "#4. GROUP BY: This clause is used to group the results based on specified columns. It is executed after the WHERE clause.\n",
    "#5. HAVING: This clause is used to filter the groups based on specified criteria. It is executed after the GROUP BY clause.\n",
    "#6. ORDER BY: This clause is used to sort the results based on specified columns. It is executed after the HAVING clause."
   ]
  }
 ],
 "metadata": {
  "kernelspec": {
   "display_name": "Python 3 (ipykernel)",
   "language": "python",
   "name": "python3"
  },
  "language_info": {
   "codemirror_mode": {
    "name": "ipython",
    "version": 3
   },
   "file_extension": ".py",
   "mimetype": "text/x-python",
   "name": "python",
   "nbconvert_exporter": "python",
   "pygments_lexer": "ipython3",
   "version": "3.10.8"
  }
 },
 "nbformat": 4,
 "nbformat_minor": 5
}
