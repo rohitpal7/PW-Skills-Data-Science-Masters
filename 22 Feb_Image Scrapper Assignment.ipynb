{
 "cells": [
  {
   "cell_type": "code",
   "execution_count": 1,
   "id": "ca79e457-910e-460d-b6db-b6c78cdf01a6",
   "metadata": {},
   "outputs": [
    {
     "name": "stdout",
     "output_type": "stream",
     "text": [
      "[]\n"
     ]
    }
   ],
   "source": [
    "#Q1. Write a python program to extract the video URL of the first five videos.\n",
    "#Ans.\n",
    "import requests\n",
    "from bs4 import BeautifulSoup\n",
    "\n",
    "# Specify the URL of the YouTube channel\n",
    "url = \"https://www.youtube.com/@PW-Foundation/videos\"\n",
    "\n",
    "# Send a GET request to the URL and get the HTML content\n",
    "response = requests.get(url)\n",
    "html_content = response.content\n",
    "\n",
    "# Create a BeautifulSoup object to parse the HTML content\n",
    "soup = BeautifulSoup(html_content, \"html.parser\")\n",
    "\n",
    "# Find the first five video links on the page\n",
    "video_links = soup.find_all(\"a\", {\"class\": \"yt-simple-endpoint style-scope ytd-grid-video-renderer\"})\n",
    "video_urls = [\"https://www.youtube.com\" + link[\"href\"] for link in video_links][:5]\n",
    "\n",
    "# Print the video URLs\n",
    "print(video_urls)\n"
   ]
  },
  {
   "cell_type": "code",
   "execution_count": 2,
   "id": "48cd8e1f-5a65-436f-98e1-3423b8b77b89",
   "metadata": {},
   "outputs": [
    {
     "name": "stdout",
     "output_type": "stream",
     "text": [
      "[]\n"
     ]
    }
   ],
   "source": [
    "#Q2. Write a python program to extract the URL of the video thumbnails of the first five videos.\n",
    "#Ans.\n",
    "import requests\n",
    "from bs4 import BeautifulSoup\n",
    "\n",
    "# Set the URL of the YouTube channel page\n",
    "url = \"https://www.youtube.com/@PW-Foundation/videos\"\n",
    "\n",
    "# Make a GET request to the URL and parse the HTML content with BeautifulSoup\n",
    "response = requests.get(url)\n",
    "soup = BeautifulSoup(response.content, \"html.parser\")\n",
    "\n",
    "# Find the thumbnail links for the first five videos on the page\n",
    "thumbnails = soup.find_all(\"img\", {\"class\": \"style-scope yt-img-shadow\"})\n",
    "thumbnail_urls = [thumb[\"src\"] for thumb in thumbnails[:5]]\n",
    "\n",
    "# Print the thumbnail URLs\n",
    "print(thumbnail_urls)\n"
   ]
  },
  {
   "cell_type": "code",
   "execution_count": 16,
   "id": "9e97a5e8-ba37-4500-bda4-87c42074b0a2",
   "metadata": {},
   "outputs": [],
   "source": [
    "#Q3. Write a python program to extract the title of the first five videos.\n",
    "#Ans.\n",
    "import requests\n",
    "from bs4 import BeautifulSoup\n",
    "\n",
    "# Define the URL of the YouTube channel\n",
    "url = \"https://www.youtube.com/@PW-Foundation/videos\"\n",
    "\n",
    "# Send a GET request to the URL\n",
    "response = requests.get(url)\n",
    "\n",
    "# Parse the HTML content of the webpage using BeautifulSoup\n",
    "soup = BeautifulSoup(response.content, 'html.parser')\n",
    "\n",
    "# Find all the <a> tags that contain video titles\n",
    "title_tags = soup.find_all('a', {'class': 'yt-uix-tile-link'})\n",
    "\n",
    "# Extract the titles of the first five videos\n",
    "titles = [tag['title'] for tag in title_tags[:5]]\n",
    "\n",
    "# Print the titles\n",
    "for title in titles:\n",
    "    print(title)\n"
   ]
  },
  {
   "cell_type": "code",
   "execution_count": 14,
   "id": "4f71c4b6-6f30-458e-9604-6d61b17dd896",
   "metadata": {},
   "outputs": [],
   "source": [
    "#Q4. Write a python program to extract the number of views of the first five videos.\n",
    "#Ans.\n",
    "import requests\n",
    "from bs4 import BeautifulSoup\n",
    "\n",
    "# Send a GET request to the YouTube channel URL\n",
    "url = \"https://www.youtube.com/c/PW-Foundation/videos\"\n",
    "response = requests.get(url)\n",
    "\n",
    "# Parse the HTML content of the response using BeautifulSoup\n",
    "soup = BeautifulSoup(response.content, 'html.parser')\n",
    "\n",
    "# Find the first five video links and extract the number of views for each video\n",
    "video_links = soup.find_all('a', {'class': 'yt-simple-endpoint style-scope ytd-grid-video-renderer'})\n",
    "for link in video_links[:5]:\n",
    "    video_url = \"https://www.youtube.com\" + link['href']\n",
    "    video_response = requests.get(video_url)\n",
    "    video_soup = BeautifulSoup(video_response.content, 'html.parser')\n",
    "    views_element = video_soup.find('span', {'class': 'view-count'})\n",
    "    views = views_element.text if views_element else \"Not available\"\n",
    "    print(\"Number of views for {}: {}\".format(link.text.strip(), views))\n"
   ]
  },
  {
   "cell_type": "code",
   "execution_count": 12,
   "id": "718f0182-ac96-499d-ad71-06beb7f8a208",
   "metadata": {},
   "outputs": [
    {
     "name": "stdout",
     "output_type": "stream",
     "text": [
      "[]\n"
     ]
    }
   ],
   "source": [
    "#Q5. Write a python program to extract the time of posting of video for the first five videos.\n",
    "#Ans.\n",
    "import requests\n",
    "from bs4 import BeautifulSoup\n",
    "\n",
    "# Set the URL of the YouTube channel page\n",
    "url = \"https://www.youtube.com/@PW-Foundation/videos\"\n",
    "\n",
    "# Make a GET request to the URL and parse the HTML content with BeautifulSoup\n",
    "response = requests.get(url)\n",
    "soup = BeautifulSoup(response.content, \"html.parser\")\n",
    "\n",
    "# Find the thumbnail links for the first five videos on the page\n",
    "time_posts = soup.find_all(\"span\", {\"class\": \"style-scope ytd-grid-video-renderer\"})\n",
    "video_times = [time.get_text() for time in time_posts[:10] if \"ago\" in time.get_text()][:5]\n",
    "\n",
    "# Print the thumbnail URLs\n",
    "print(video_times)"
   ]
  }
 ],
 "metadata": {
  "kernelspec": {
   "display_name": "Python 3 (ipykernel)",
   "language": "python",
   "name": "python3"
  },
  "language_info": {
   "codemirror_mode": {
    "name": "ipython",
    "version": 3
   },
   "file_extension": ".py",
   "mimetype": "text/x-python",
   "name": "python",
   "nbconvert_exporter": "python",
   "pygments_lexer": "ipython3",
   "version": "3.10.8"
  }
 },
 "nbformat": 4,
 "nbformat_minor": 5
}
