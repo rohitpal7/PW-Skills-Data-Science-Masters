{
 "cells": [
  {
   "cell_type": "code",
   "execution_count": null,
   "id": "643c5408-8fed-4f8d-81b2-06061205fba6",
   "metadata": {},
   "outputs": [],
   "source": [
    "#Q1. What are the characteristics of the tuples? Is tuple immutable?\n",
    "#Ans. \n",
    "#Tuples are ordered, immutable, heterogeneous, fixed-size collections of elements that can be used to group multiple values together. And tuple are immutable."
   ]
  },
  {
   "cell_type": "code",
   "execution_count": 4,
   "id": "301ea89e-3a39-4720-b3b6-1be511590d50",
   "metadata": {},
   "outputs": [
    {
     "name": "stdout",
     "output_type": "stream",
     "text": [
      "2\n",
      "1\n"
     ]
    }
   ],
   "source": [
    "#Q2. What are the two tuple methods in python? Give an example of each method. Give a reason why tuples have only two in-built methods as compared to Lists.\n",
    "#Ans. In Python, tuples have two built-in methods:count() and index()\n",
    "#count()\n",
    "t = (1, 2, 3, 4, 1, 2)\n",
    "count = t.count(1)\n",
    "print(count)\n",
    "\n",
    "#index()\n",
    "t = (1, 2, 3, 4, 1, 2)\n",
    "index = t.index(2)\n",
    "print(index)"
   ]
  },
  {
   "cell_type": "code",
   "execution_count": 2,
   "id": "351e5a53-4b7f-4acb-b707-98f74ca943ac",
   "metadata": {},
   "outputs": [
    {
     "name": "stdout",
     "output_type": "stream",
     "text": [
      "[1, 2, 3, 4]\n"
     ]
    }
   ],
   "source": [
    "#Q3. Which collection datatypes in python do not allow duplicate items? Write a code using a set to remove duplicates from the given list.\n",
    "#Ans. In Python, the set datatype does not allow duplicate items. To remove duplicates from a list, you can convert the list to a set, then back to a list:\n",
    "#Example\n",
    "List = [1, 1, 1, 2, 1, 3, 1, 4, 2, 1, 2, 2, 2, 3, 2, 4, 3, 1, 3, 2, 3, 3, 3, 4, 4, 1, 4, 2, 4, 3, 4, 4]\n",
    "List = list(set(List))\n",
    "print(List)"
   ]
  },
  {
   "cell_type": "code",
   "execution_count": 6,
   "id": "6fd723de-dc6e-4a71-afd6-98c9666612c7",
   "metadata": {},
   "outputs": [
    {
     "name": "stdout",
     "output_type": "stream",
     "text": [
      "{1, 2, 3, 4, 5}\n",
      "{1, 2, 3, 4, 5}\n"
     ]
    }
   ],
   "source": [
    "#Q4. Explain the difference between the union() and update() methods for a set. Give an example of each method.\n",
    "#Ans.\n",
    "#In Python, sets have two built-in methods for combining sets: union() and update().\n",
    "#the union() method returns a new set that contains the elements of both sets, while the update() method modifies one set to contain the elements of both sets.\n",
    "#union()\n",
    "set1 = {1, 2, 3}\n",
    "set2 = {3, 4, 5}\n",
    "result = set1.union(set2)\n",
    "print(result)\n",
    "\n",
    "set1 = {1, 2, 3}\n",
    "set2 = {3, 4, 5}\n",
    "set1.update(set2)\n",
    "print(set1)"
   ]
  },
  {
   "cell_type": "code",
   "execution_count": 7,
   "id": "85f24a0f-cc51-4398-ab48-98a1adb3d537",
   "metadata": {},
   "outputs": [
    {
     "name": "stdout",
     "output_type": "stream",
     "text": [
      "{'name': 'John', 'age': 32, 'city': 'New York'}\n"
     ]
    }
   ],
   "source": [
    "#Q5. What is a dictionary? Give an example. Also, state whether a dictionary is ordered or unordered.\n",
    "#Ans.\n",
    "#a dictionary in Python is an unordered collection of key-value pairs, where each key is associated with a value, and the keys are unique within the dictionary.\n",
    "#Example\n",
    "person = {'name': 'John', 'age': 32, 'city': 'New York'}\n",
    "print(person)"
   ]
  },
  {
   "cell_type": "code",
   "execution_count": 3,
   "id": "843b769b-831f-4548-92fb-8faa850f5982",
   "metadata": {},
   "outputs": [
    {
     "name": "stdout",
     "output_type": "stream",
     "text": [
      "{'dict1': {'key1': 'value1', 'key2': 'value2'}, 'dict2': {'key3': 'value3', 'key4': 'value4'}}\n"
     ]
    }
   ],
   "source": [
    "#Q6. Can we create a nested dictionary? If so, please give an example by creating a simple one-level nested dictionary.\n",
    "#Ans. \n",
    "#Yes, we can create a nested dictionary in Python. A nested dictionary is a dictionary within another dictionary. \n",
    "#Here is an example of a simple one-level nested dictionary:\n",
    "nested_dict = {'dict1': {'key1': 'value1', 'key2': 'value2'},\n",
    "               'dict2': {'key3': 'value3', 'key4': 'value4'}}\n",
    "print(nested_dict)"
   ]
  },
  {
   "cell_type": "code",
   "execution_count": 5,
   "id": "50531030-794c-4897-a7ac-50ca8d36ae90",
   "metadata": {},
   "outputs": [
    {
     "name": "stdout",
     "output_type": "stream",
     "text": [
      "{'language': 'Python', 'course': 'Data Science Masters', 'topics': ['Python', 'Machine Learning', 'Deep Learning']}\n"
     ]
    }
   ],
   "source": [
    "#Q7. Using setdefault() method, create key named topics in the given dictionary and also add the value of the key as this \n",
    "#list ['Python', 'Machine Learning’, 'Deep Learning']\n",
    "#dict1 = {'language' : 'Python', 'course': 'Data Science Masters'}\n",
    "#Ans.\n",
    "dict1 = {'language' : 'Python', 'course': 'Data Science Masters'}\n",
    "dict1.setdefault(\"topics\", ['Python', 'Machine Learning', 'Deep Learning'])\n",
    "print(dict1)"
   ]
  },
  {
   "cell_type": "code",
   "execution_count": 6,
   "id": "4107e69f-cda7-4afb-b2f8-aa6a18402ce1",
   "metadata": {},
   "outputs": [
    {
     "name": "stdout",
     "output_type": "stream",
     "text": [
      "Keys view object: dict_keys(['Sport', 'Teams'])\n",
      "Values view object: dict_values(['Cricket', ['India', 'Australia', 'England', 'South Africa', 'Sri Lanka', 'New Zealand']])\n",
      "Items view object: dict_items([('Sport', 'Cricket'), ('Teams', ['India', 'Australia', 'England', 'South Africa', 'Sri Lanka', 'New Zealand'])])\n"
     ]
    }
   ],
   "source": [
    "#Q8. What are the three view objects in dictionaries? Use the three in-built methods in python to display these three view objects for the given dictionary.\n",
    "#dict1 = {'Sport': 'Cricket' , 'Teams': ['India', 'Australia', 'England', 'South Africa', 'Sri Lanka', 'New Zealand']}\n",
    "#Ans.\n",
    "#In Python, dictionaries have three view objects:\n",
    "#keys(): returns a view object that displays a list of all the keys in the dictionary.\n",
    "#values(): returns a view object that displays a list of all the values in the dictionary.\n",
    "#items(): returns a view object that displays a list of all the items (keys and values) in the dictionary as a tuple.\n",
    "dict1 = {'Sport': 'Cricket' , 'Teams': ['India', 'Australia', 'England', 'South Africa', 'Sri Lanka', 'New Zealand']}\n",
    "keys = dict1.keys()\n",
    "print(\"Keys view object:\", keys)\n",
    "values = dict1.values()\n",
    "print(\"Values view object:\", values)\n",
    "items = dict1.items()\n",
    "print(\"Items view object:\", items)"
   ]
  },
  {
   "cell_type": "code",
   "execution_count": null,
   "id": "7d687084-3659-4e2b-baac-92d4eb498b3a",
   "metadata": {},
   "outputs": [],
   "source": []
  }
 ],
 "metadata": {
  "kernelspec": {
   "display_name": "Python 3 (ipykernel)",
   "language": "python",
   "name": "python3"
  },
  "language_info": {
   "codemirror_mode": {
    "name": "ipython",
    "version": 3
   },
   "file_extension": ".py",
   "mimetype": "text/x-python",
   "name": "python",
   "nbconvert_exporter": "python",
   "pygments_lexer": "ipython3",
   "version": "3.10.8"
  }
 },
 "nbformat": 4,
 "nbformat_minor": 5
}
