{
 "cells": [
  {
   "cell_type": "code",
   "execution_count": null,
   "id": "e97946c9-3131-4f73-ab2e-4f3cdffba43d",
   "metadata": {},
   "outputs": [],
   "source": [
    "#Q1. Which keyword is used to create a function? Create a function to return a list of odd numbers in the range of 1 to 25.\n",
    "#Ans. In Python, the def keyword is used to create a function.\n",
    "\n",
    "def odd_numbers():\n",
    "    odd_list = []\n",
    "    for i in range(1, 26):\n",
    "        if i % 2 != 0:\n",
    "            odd_list.append(i)\n",
    "    return odd_list\n",
    "print(odd_numbers())"
   ]
  },
  {
   "cell_type": "code",
   "execution_count": 2,
   "id": "81295e7e-1f7b-409b-ad7c-5d681ed3bc2b",
   "metadata": {},
   "outputs": [
    {
     "name": "stdout",
     "output_type": "stream",
     "text": [
      "1\n",
      "2\n",
      "3\n",
      "4\n",
      "5\n",
      "name : John\n",
      "age : 32\n",
      "country : USA\n"
     ]
    }
   ],
   "source": [
    "#Q2. Why *args and **kwargs is used in some functions? Create a function each for *args and **kwargs to demonstrate their use.\n",
    "#Ans. In Python, the syntax *args and **kwargs are used in a function to pass a variable number of arguments to the function.\n",
    "# *args is used to pass a non-keyworded, variable length argument list to the function.\n",
    "# **kwargs is used to pass keyworded, variable length argument dictionary to the function.\n",
    "\n",
    "def my_function(*args):\n",
    "    for arg in args:\n",
    "        print(arg)\n",
    "my_function(1, 2, 3, 4, 5)\n",
    "\n",
    "def my_function(**kwargs):\n",
    "    for key, value in kwargs.items():\n",
    "        print(f\"{key} : {value}\")\n",
    "my_function(name=\"John\", age=32, country=\"USA\")"
   ]
  },
  {
   "cell_type": "code",
   "execution_count": 3,
   "id": "8ea4fa58-b79d-438f-b30c-fa3666304036",
   "metadata": {},
   "outputs": [
    {
     "name": "stdout",
     "output_type": "stream",
     "text": [
      "2\n",
      "4\n",
      "6\n",
      "8\n",
      "10\n"
     ]
    }
   ],
   "source": [
    "#Q3. What is an iterator in python? Name the method used to initialise the iterator object and the method used for iteration. Use these methods to print the first five elements of the given \n",
    "#list [2, 4, 6, 8, 10, 12, 14, 16, 18, 20].\n",
    "#Ans.  An iterator in Python is an object that can be iterated (looped) upon. It implements two methods:\n",
    "#__iter__() which is used to initialize the iterator object.\n",
    "#__next__() which is used to iterate over the elements of the object.\n",
    "\n",
    "list = [2, 4, 6, 8, 10, 12, 14, 16, 18, 20]\n",
    "# initializing the iterator object\n",
    "list = iter(list)\n",
    "# printing the first 5 elements of the list\n",
    "for i in range(5):\n",
    "    print(next(list))"
   ]
  },
  {
   "cell_type": "code",
   "execution_count": 7,
   "id": "106137d9-5a63-41e9-a387-e2201f09b038",
   "metadata": {},
   "outputs": [
    {
     "name": "stdout",
     "output_type": "stream",
     "text": [
      "1\n",
      "4\n",
      "9\n",
      "16\n",
      "25\n"
     ]
    }
   ],
   "source": [
    "#Q4. What is a generator function in python? Why yield keyword is used? Give an example of a generator function.\n",
    "#Ans. A generator function in Python is a special type of function that generates an iterator. \n",
    "#It uses the yield keyword instead of return. \n",
    "#When a function contains the yield keyword, it becomes a generator function, and when it is called, it returns a generator object, which can be iterated over.\n",
    "\n",
    "def squares(numbers):\n",
    "    for num in numbers:\n",
    "        yield num**2\n",
    "# using the generator function\n",
    "numbers = [1, 2, 3, 4, 5]\n",
    "squared_numbers = squares(numbers)\n",
    "for num in squared_numbers:\n",
    "    print(num)"
   ]
  },
  {
   "cell_type": "code",
   "execution_count": 8,
   "id": "749d4321-7bb1-4822-9e01-e8df5eb13e97",
   "metadata": {},
   "outputs": [
    {
     "name": "stdout",
     "output_type": "stream",
     "text": [
      "2\n",
      "3\n",
      "5\n",
      "7\n",
      "11\n",
      "13\n",
      "17\n",
      "19\n",
      "23\n",
      "29\n",
      "31\n",
      "37\n",
      "41\n",
      "43\n",
      "47\n",
      "53\n",
      "59\n",
      "61\n",
      "67\n",
      "71\n"
     ]
    }
   ],
   "source": [
    "#Q5. Create a generator function for prime numbers less than 1000. Use the next() method to print the first 20 prime numbers.\n",
    "#Ans. \n",
    "\n",
    "def prime_numbers():\n",
    "    primes = []\n",
    "    n = 2\n",
    "    while n < 1000:\n",
    "        is_prime = True\n",
    "        for i in range(2, n):\n",
    "            if n % i == 0:\n",
    "                is_prime = False\n",
    "                break\n",
    "        if is_prime:\n",
    "            primes.append(n)\n",
    "        n += 1\n",
    "    for prime in primes:\n",
    "        yield prime\n",
    "\n",
    "# using the generator function\n",
    "prime_gen = prime_numbers()\n",
    "\n",
    "# printing the first 20 prime numbers\n",
    "for i in range(20):\n",
    "    print(next(prime_gen))"
   ]
  },
  {
   "cell_type": "code",
   "execution_count": null,
   "id": "3cc67337-13e7-46d5-b45c-081d4e176336",
   "metadata": {},
   "outputs": [],
   "source": []
  }
 ],
 "metadata": {
  "kernelspec": {
   "display_name": "Python 3 (ipykernel)",
   "language": "python",
   "name": "python3"
  },
  "language_info": {
   "codemirror_mode": {
    "name": "ipython",
    "version": 3
   },
   "file_extension": ".py",
   "mimetype": "text/x-python",
   "name": "python",
   "nbconvert_exporter": "python",
   "pygments_lexer": "ipython3",
   "version": "3.10.8"
  }
 },
 "nbformat": 4,
 "nbformat_minor": 5
}
