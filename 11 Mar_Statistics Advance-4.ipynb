{
 "cells": [
  {
   "cell_type": "code",
   "execution_count": null,
   "id": "73e23951-0327-4478-b25b-b8c60d10c93d",
   "metadata": {},
   "outputs": [],
   "source": [
    "#Q1: What is the difference between a t-test and a z-test? Provide an example scenario where you would use each type of test.\n",
    "#Ans.\n",
    "#A t-test and a z-test are both statistical hypothesis tests used to make inferences about a population parameter based on a sample of data.\n",
    "#The main difference between a t-test and a z-test is that the z-test is used when the population standard deviation is known, while the t-test is used when the population standard deviation is unknown and must be estimated from the sample data.\n",
    "#An example scenario where a z-test might be used is in a study of the average height of adult men in the United States. \n",
    "#an example scenario where a t-test might be used is in a study of the effectiveness of a new pain medication. "
   ]
  },
  {
   "cell_type": "code",
   "execution_count": null,
   "id": "21342133-47d0-4a39-bd64-caa54b4d7c0b",
   "metadata": {},
   "outputs": [],
   "source": [
    "#Q2: Differentiate between one-tailed and two-tailed tests.\n",
    "#Ans.\n",
    "#The choice of a one-tailed or two-tailed test depends on the research question being asked and the hypotheses being tested. \n",
    "#A one-tailed test is more powerful than a two-tailed test because it focuses on a specific direction of the difference, but it is also more prone to type I errors (rejecting the null hypothesis when it is actually true) if the direction is chosen incorrectly. \n",
    "#On the other hand, a two-tailed test is more conservative and is appropriate when there is no specific hypothesis about the direction of the difference or relationship."
   ]
  },
  {
   "cell_type": "code",
   "execution_count": null,
   "id": "3fec98ba-230b-4dbf-8223-e2f7e889e238",
   "metadata": {},
   "outputs": [],
   "source": [
    "#Q3: Explain the concept of Type 1 and Type 2 errors in hypothesis testing. Provide an example scenario for each type of error.\n",
    "#Ans.\n",
    "#In hypothesis testing, a Type 1 error and a Type 2 error are two different types of mistakes that can be made when making a decision about the null hypothesis.\n",
    "#A Type 1 error occurs when the null hypothesis is rejected when it is actually true. Type 1 errors are sometimes called \"false positives.\"\n",
    "#A Type 2 error occurs when the null hypothesis is not rejected when it is actually false. Type 2 errors are sometimes called \"false negatives.\"\n",
    "#The probability of making a Type 1 error is denoted by alpha (α) and is typically set at 0.05 or 0.01, which means that there is a 5% or 1% chance of making a Type 1 error, respectively. \n",
    "#The probability of making a Type 2 error is denoted by beta (β) and depends on several factors, including the sample size, the effect size, and the level of statistical power."
   ]
  },
  {
   "cell_type": "code",
   "execution_count": null,
   "id": "00dad085-74c9-4afd-9a76-b727a9ce674c",
   "metadata": {},
   "outputs": [],
   "source": [
    "#Q4: Explain Bayes's theorem with an example.\n",
    "#Ans.\n",
    "#Bayes's theorem is a mathematical formula used in probability theory and statistics to update the probability of an event occurring based on new information.\n",
    "#Bayes's theorem states that the probability of an event A occurring given some observed evidence B can be calculated as follows:\n",
    "P(A|B) = P(B|A) * P(A) / P(B)\n",
    "\n",
    "#let's consider an example. Suppose that we want to diagnose a patient with a certain disease. \n",
    "#The prevalence of the disease in the population is 5%, which means that the prior probability of the patient having the disease is P(A) = 0.05.\n",
    "#We conduct a diagnostic test with a sensitivity of 90% and a specificity of 80%. This means that the likelihood of testing positive (B) given that the patient has the disease (A) is P(B|A) = 0.9, and the likelihood of testing negative (not B) given that the patient does not have the disease (not A) is P(not B|not A) = 0.8.\n",
    "#If the patient tests positive (B), we can use Bayes's theorem to calculate the probability of the patient actually having the disease (A) as follows:\n",
    "P(A|B) = P(B|A) * P(A) / P(B)\n",
    "P(A|B) = 0.9 * 0.05 / [(0.9 * 0.05) + (0.2 * 0.95)]\n",
    "P(A|B) = 0.214\n",
    "#Therefore, the posterior probability of the patient having the disease given the positive test result is 21.4%."
   ]
  },
  {
   "cell_type": "code",
   "execution_count": null,
   "id": "73722822-e654-4818-af6a-d78453bd6995",
   "metadata": {},
   "outputs": [],
   "source": [
    "#Q5: What is a confidence interval? How to calculate the confidence interval, explain with an example.\n",
    "#Ans.\n",
    "#A confidence interval is a range of values that is likely to contain the true value of a population parameter with a certain degree of confidence or probability. It is a statistical measure used to estimate the precision of a sample estimate of a population parameter.\n",
    "#The formula to calculate a confidence interval is:\n",
    "#Confidence interval = sample statistic +/- margin of error"
   ]
  },
  {
   "cell_type": "code",
   "execution_count": null,
   "id": "e27e4e1a-0a21-4cf3-9b82-0fb7efce6587",
   "metadata": {},
   "outputs": [],
   "source": [
    "#Q6. Use Bayes' Theorem to calculate the probability of an event occurring given prior knowledge of the event's probability and new evidence. Provide a sample problem and solution.\n",
    "#Ans.\n",
    "#Bayes' Theorem is a mathematical formula used to calculate the probability of an event occurring based on prior knowledge of the event's probability and new evidence. The formula is as follows:\n",
    "P(A|B) = P(B|A) x P(A) / P(B)\n",
    "\n",
    "#Sample problem:\n",
    "#Suppose that there is a certain medical test that can detect a rare disease, and that the test has a false positive rate of 5%, meaning that 5% of people who don't have the disease will test positive. The disease affects 1 in 1000 people. If a person tests positive, what is the probability that they actually have the disease?\n",
    "\n",
    "#Solution:\n",
    "#Let A be the event that a person has the disease, and B be the event that a person tests positive.\n",
    "\n",
    "P(A) = 0.001 (given in the problem)\n",
    "P(B|A) = 1 (if a person has the disease, the test will always be positive)\n",
    "P(B|not A) = 0.05 (5% false positive rate)\n",
    "P(not A) = 0.999 (complement of P(A))\n",
    "\n",
    "#We can now use Bayes' Theorem to calculate the probability that a person has the disease given that they tested positive:\n",
    "P(A|B) = P(B|A) x P(A) / P(B|A) x P(A) + P(B|not A) x P(not A)\n",
    "= 1 x 0.001 / (1 x 0.001 + 0.05 x 0.999)\n",
    "= 0.019\n",
    "\n",
    "#Therefore, the probability that a person who tests positive actually has the disease is only 1.9%"
   ]
  },
  {
   "cell_type": "code",
   "execution_count": null,
   "id": "f952e2be-8c77-40df-8bcc-5e94025c18ad",
   "metadata": {},
   "outputs": [],
   "source": [
    "#Q7. Calculate the 95% confidence interval for a sample of data with a mean of 50 and a standard deviation  of 5. Interpret the results.\n",
    "#Ans.\n",
    "#To calculate the 95% confidence interval for a sample of data with a mean of 50 and a standard deviation of 5, we use the following formula:\n",
    "95% confidence interval = sample mean ± (critical value x standard error)\n",
    "#Where the critical value is obtained from a standard normal distribution table or calculator and corresponds to the desired level of confidence (in this case, 95%), and the standard error is calculated as:\n",
    "standard error = standard deviation / sqrt(sample size)"
   ]
  },
  {
   "cell_type": "code",
   "execution_count": null,
   "id": "8f59b09a-3d6f-4cd4-af74-adedbbb0c0c5",
   "metadata": {},
   "outputs": [],
   "source": [
    "#Q8. What is the margin of error in a confidence interval? How does sample size affect the margin of error? Provide an example of a scenario where a larger sample size would result in a smaller margin of error.\n",
    "#Ans.\n",
    "#The margin of error is a measure of the precision of an estimated population parameter in a confidence interval. It represents the maximum amount of error that is expected in the estimate, given the level of confidence and the sample size. A larger margin of error indicates less precision in the estimate, while a smaller margin of error indicates greater precision.\n",
    "#The margin of error is calculated as: Margin of error = critical value x standard error\n",
    "#where the critical value depends on the desired level of confidence and the standard error depends on the sample size and the variability of the population.\n",
    "#First, as the sample size increases, the standard error decreases, leading to a smaller margin of error. \n",
    "#Second, as the sample size increases, the critical value decreases, leading to a smaller margin of error. "
   ]
  },
  {
   "cell_type": "code",
   "execution_count": null,
   "id": "dcb81b08-b584-461b-b493-24a747ace64c",
   "metadata": {},
   "outputs": [],
   "source": [
    "#Q9. Calculate the z-score for a data point with a value of 75, a population mean of 70, and a population  standard deviation of 5. Interpret the results.\n",
    "#Ans.\n",
    "z-score = (data point - population mean) / population standard deviation\n",
    "z-score = (75 - 70) / 5\n",
    "= 1\n",
    "#Therefore, the z-score for this data point is 1.\n",
    "#Interpreting the z-score, we can say that the data point of 75 is one standard deviation above the mean of its population. This probability is approximately 0.1587 or 15.87%."
   ]
  },
  {
   "cell_type": "code",
   "execution_count": null,
   "id": "e92808a1-c500-4a25-9b48-b5969e6cb8e5",
   "metadata": {},
   "outputs": [],
   "source": [
    "#Q10. In a study of the effectiveness of a new weight loss drug, a sample of 50 participants lost an average of 6 pounds with a standard deviation of 2.5 pounds. Conduct a hypothesis test to determine if the drug is significantly effective at a 95% confidence level using a t-test.\n",
    "#Ans.\n",
    "#To conduct the hypothesis test, we can use a one-sample t-test. The null hypothesis is that the mean weight loss is equal to 0 (i.e., the drug is not effective), and the alternative hypothesis is that the mean weight loss is greater than 0 (i.e., the drug is effective).\n",
    "#Null Hypothesis (H0): µ = 0 (The drug is not effective)\n",
    "#Alternative Hypothesis (Ha): µ > 0 (The drug is effective)\n",
    "#The confidence level is 95%, which corresponds to a significance level (α) of 0.05.\n",
    "#The test statistic for a one-sample t-test is:\n",
    "t = (x̄ - µ) / (s / √n)\n",
    "\n",
    "#where x̄ is the sample mean, µ is the hypothesized population mean, s is the sample standard deviation, and n is the sample size.\n",
    "#Plugging in the values, we get:\n",
    "t = (6 - 0) / (2.5 / √50)\n",
    "\n",
    "#Simplifying:\n",
    "t = 12\n",
    "\n",
    "#The degrees of freedom for the t-test is n-1= 49.\n",
    "#The critical value for a one-tailed t-test with 49 degrees of freedom at a 0.05 significance level is 1.676.\n",
    "#Since the calculated t-value (12) is greater than the critical value (1.676), we can reject the null hypothesis.\n",
    "#Therefore, we can conclude that the new weight loss drug is significantly effective at a 95% confidence level."
   ]
  },
  {
   "cell_type": "code",
   "execution_count": null,
   "id": "00726179-142f-433a-a64e-35c598839676",
   "metadata": {},
   "outputs": [],
   "source": [
    "#Q11. In a survey of 500 people, 65% reported being satisfied with their current job. Calculate the 95%  confidence interval for the true proportion of people who are satisfied with their job.\n",
    "#Ans.\n",
    "#To calculate the 95% confidence interval for the true proportion of people who are satisfied with their job, we can use the following formula:\n",
    "CI = p ± z*(sqrt((p*(1-p))/n))\n",
    "\n",
    "#Where:\n",
    "p = sample proportion (0.65)\n",
    "n = sample size (500)\n",
    "z = critical value of the standard normal distribution for a 95% confidence interval (1.96)\n",
    "\n",
    "#Substituting the values, we get:\n",
    "CI = 0.65 ± 1.96*(sqrt((0.65*(1-0.65))/500))\n",
    "CI = 0.65 ± 0.045\n",
    "CI = (0.605, 0.695)\n",
    "\n",
    "#Therefore, we can say with 95% confidence that the true proportion of people who are satisfied with their job lies between 60.5% and 69.5%."
   ]
  },
  {
   "cell_type": "code",
   "execution_count": null,
   "id": "8e91d201-4a64-4d04-b75a-85776fe507c3",
   "metadata": {},
   "outputs": [],
   "source": [
    "#Q12. A researcher is testing the effectiveness of two different teaching methods on student performance. Sample A has a mean score of 85 with a standard deviation of 6, while sample B has a mean score of 82 with a standard deviation of 5. Conduct a hypothesis test to determine if the two teaching methods have a significant difference in student performance using a t-test with a significance level of 0.01.\n",
    "#Ans.\n",
    "#To conduct the hypothesis test, we can use an independent samples t-test. The null hypothesis is that the two teaching methods have no significant difference in student performance, and the alternative hypothesis is that there is a significant difference.\n",
    "#Null Hypothesis (H0): µA - µB = 0 (There is no significant difference between the means of the two teaching methods)\n",
    "#Alternative Hypothesis (Ha): µA - µB ≠ 0 (There is a significant difference between the means of the two teaching methods)\n",
    "#The significance level (α) is 0.01.\n",
    "#The test statistic for an independent samples t-test is:\n",
    "t = (x̄A - x̄B) / √(s²A/nA + s²B/nB)\n",
    "\n",
    "#where x̄A and x̄B are the sample means, s²A and s²B are the sample variances, and nA and nB are the sample sizes.\n",
    "#Plugging in the values, we get:\n",
    "t = (85 - 82) / √(6²/ nA + 5²/nB)\n",
    "\n",
    "#To calculate the degrees of freedom for the t-test, we use the following formula:\n",
    "df = (s²A/nA + s²B/nB)² / [((s²A/nA)² / (nA - 1)) + ((s²B/nB)² / (nB - 1))]\n",
    "\n",
    "#Plugging in the values, we get:\n",
    "df = (6²/nA + 5²/nB)² / [((6²/nA)² / (nA - 1)) + ((5²/nB)² / (nB - 1))]\n",
    "\n",
    "#Assuming equal sample sizes (nA = nB), we get:\n",
    "df = 36\n",
    "\n",
    "#The critical value for a two-tailed t-test with 36 degrees of freedom at a 0.01 significance level is ±2.718.\n",
    "#Calculating t-value:\n",
    "t = (85 - 82) / √(6²/nA + 5²/nB)\n",
    "\n",
    "#Assuming the sample sizes are equal, we can combine the sample variances as follows:\n",
    "s²p = [(nA - 1)s²A + (nB - 1)s²B] / (nA + nB - 2)\n",
    "s²p = [(29)(6²) + (29)(5²)] / (58)\n",
    "s²p = 35.24\n",
    "t = (85 - 82) / √(s²p/nA + s²p/nB)\n",
    "t = 2.71\n",
    "\n",
    "#Since 2.71 is greater than 2.718, we can reject the null hypothesis.\n",
    "#Therefore, we can conclude that there is a significant difference between the means of the two teaching methods at a 0.01 significance level."
   ]
  },
  {
   "cell_type": "code",
   "execution_count": null,
   "id": "e7a47117-20ad-447d-98a9-a2b22064159f",
   "metadata": {},
   "outputs": [],
   "source": [
    "#Q13. A population has a mean of 60 and a standard deviation of 8. A sample of 50 observations has a mean of 65. Calculate the 90% confidence interval for the true population mean\n",
    "#Ans.\n",
    "#To calculate the confidence interval for the population mean, we can use the formula:\n",
    "CI = x̄ ± z* (σ/√n)\n",
    "#where x̄ is the sample mean, σ is the population standard deviation, n is the sample size, and z* is the critical value from the standard normal distribution corresponding to the desired confidence level.\n",
    "#First, we need to find the critical value for a 90% confidence level. From the standard normal distribution table, the z-value for a 90% confidence level is 1.645.\n",
    "#Next, we can plug in the values:\n",
    "CI = 65 ± 1.645 * (8/√50)\n",
    "CI = 65 ± 2.915\n",
    "#The confidence interval for the true population mean is (62.085, 67.915) with a 90% confidence level."
   ]
  },
  {
   "cell_type": "code",
   "execution_count": null,
   "id": "8d3fc727-b623-4350-8ba5-e5de08056c5c",
   "metadata": {},
   "outputs": [],
   "source": [
    "#Q14. In a study of the effects of caffeine on reaction time, a sample of 30 participants had an average  reaction time of 0.25 seconds with a standard deviation of 0.05 seconds. Conduct a hypothesis test to  determine if the caffeine has a significant effect on reaction time at a 90% confidence level using a t-test.\n",
    "#Ans.\n",
    "#To conduct the hypothesis test, we can use a one-sample t-test. The null hypothesis is that caffeine has no significant effect on reaction time, and the alternative hypothesis is that caffeine has a significant effect on reaction time.\n",
    "#Null Hypothesis (H0): µ = 0.25 (Caffeine has no effect on reaction time)\n",
    "#Alternative Hypothesis (Ha): µ ≠ 0.25 (Caffeine has a significant effect on reaction time)\n",
    "#The significance level (α) is 0.10, which corresponds to a 90% confidence level. Since the sample size is large (n=30), we can assume that the distribution of sample means is approximately normal.\n",
    "#The test statistic for a one-sample t-test is:\n",
    "t = (x̄ - µ) / (s / √n)\n",
    "\n",
    "#where x̄ is the sample mean, µ is the hypothesized population mean, s is the sample standard deviation, and n is the sample size.\n",
    "#Plugging in the values, we get:\n",
    "t = (0.25 - µ) / (0.05 / √30)\n",
    "\n",
    "#The critical value for a two-tailed t-test with 29 degrees of freedom at a 90% confidence level is ±1.699.\n",
    "#If the calculated t-value is outside the critical value range, then we reject the null hypothesis.\n",
    "#Calculating t-value:\n",
    "t = (0.25 - µ) / (0.05 / √30)\n",
    "\n",
    "#Let's assume that caffeine reduces the reaction time by 0.02 seconds.\n",
    "t = (0.25 - 0.02 - 0.25) / (0.05 / √30)\n",
    "t = -2.8284\n",
    "\n",
    "#Since -2.8284 is less than -1.699, we can reject the null hypothesis.\n",
    "#Therefore, we can conclude that caffeine has a significant effect on reaction time at a 90% confidence level."
   ]
  }
 ],
 "metadata": {
  "kernelspec": {
   "display_name": "Python 3 (ipykernel)",
   "language": "python",
   "name": "python3"
  },
  "language_info": {
   "codemirror_mode": {
    "name": "ipython",
    "version": 3
   },
   "file_extension": ".py",
   "mimetype": "text/x-python",
   "name": "python",
   "nbconvert_exporter": "python",
   "pygments_lexer": "ipython3",
   "version": "3.10.8"
  }
 },
 "nbformat": 4,
 "nbformat_minor": 5
}
