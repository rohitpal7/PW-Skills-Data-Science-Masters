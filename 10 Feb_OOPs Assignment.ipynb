{
 "cells": [
  {
   "cell_type": "code",
   "execution_count": null,
   "id": "0d45dd09-21e5-4f16-9000-ebf20bed2f76",
   "metadata": {},
   "outputs": [],
   "source": [
    "\"\"\"\n",
    "Q1. Which function is used to open a file? What are the different modes of opening a file? Explain each mode of file opening.\n",
    "Ans.\n",
    "In Python, the built-in open function is used to open a file.\n",
    "The open function takes two arguments: the name of the file and the mode in which to open the file.\n",
    "\n",
    "1. 'r' (read mode): This is the default mode and is used to read the contents of an existing file. \n",
    "If the file does not exist, an error is raised.\n",
    "\n",
    "2. 'w' (write mode): This mode is used to write to a file. If the file already exists, its contents are truncated and a new file is created. \n",
    "If the file does not exist, a new file is created.\n",
    "\n",
    "3. 'a' (append mode): This mode is used to append data to an existing file. \n",
    "If the file does not exist, a new file is created. \n",
    "\n",
    "4. 'x' (exclusive creation mode): This mode is used to create a new file for writing. \n",
    "If the file already exists, an error is raised.\n",
    "\n",
    "5. 'b' (binary mode): This mode is used to read and write binary data, such as images and audio files. \n",
    "\"\"\""
   ]
  },
  {
   "cell_type": "code",
   "execution_count": null,
   "id": "7c4811a2-a4a0-4d7a-8775-f444da107439",
   "metadata": {},
   "outputs": [],
   "source": [
    "#Q2. Why close() function is used? Why is it important to close a file?\n",
    "#Ans.\n",
    "#The close() function is used to close a file that was opened with the open function. \n",
    "#Closing a file is an important step in the file-handling process because it ensures that all changes made to the file are saved and the resources used by the file are released."
   ]
  },
  {
   "cell_type": "code",
   "execution_count": 4,
   "id": "cecdb175-ebe4-4623-ac02-e06ee4e3b946",
   "metadata": {},
   "outputs": [
    {
     "name": "stdout",
     "output_type": "stream",
     "text": [
      "I want to become a Data Scientist\n"
     ]
    }
   ],
   "source": [
    "#Q3. Write a python program to create a text file. Write ‘I want to become a Data Scientist’ in that file. Then close the file. Open this file and read the content of the file.\n",
    "#Ans.\n",
    "f=open(\"ds.txt\", \"w\")\n",
    "f.write(\"I want to become a Data Scientist\")\n",
    "f.close()\n",
    "\n",
    "f=open(\"ds.txt\", \"r\")\n",
    "data=f.read()\n",
    "print(data)\n"
   ]
  },
  {
   "cell_type": "code",
   "execution_count": 16,
   "id": "c143899c-a5a5-4e34-b474-5de422bf441d",
   "metadata": {},
   "outputs": [
    {
     "name": "stdout",
     "output_type": "stream",
     "text": [
      "This is DS batch\n",
      "This is Python code\n",
      "This is File topic\n",
      "This is DS batch\n",
      "\n",
      "['This is DS batch\\n', 'This is Python code\\n', 'This is File topic']\n"
     ]
    }
   ],
   "source": [
    "#Q4. Explain the following with python code: read(), readline() and readlines().\n",
    "#Ans.\n",
    "#The read(), readline(), and readlines() functions are used to read data from a file in Python.\n",
    "#The read() function reads the entire contents of a file and returns it as a string.\n",
    "\n",
    "f = open(\"example.txt\", \"w\")\n",
    "f.write(\"This is DS batch\\n\")\n",
    "f.write(\"This is Python code\\n\")\n",
    "f.write(\"This is File topic\")\n",
    "f.close()\n",
    "\n",
    "f = open(\"example.txt\", \"r\")\n",
    "content = f.read()\n",
    "print(content)\n",
    "f.close()\n",
    "\n",
    "#The readline() function reads a single line from a file and returns it as a string.\n",
    "f = open(\"example.txt\", \"r\")\n",
    "line = f.readline()\n",
    "print(line)\n",
    "f.close()\n",
    "\n",
    "#The readlines() function reads all the lines from a file and returns them as a list of strings, where each element in the list represents a single line from the file\n",
    "f = open(\"example.txt\", \"r\")\n",
    "lines = f.readlines()\n",
    "print(lines)\n",
    "f.close()"
   ]
  },
  {
   "cell_type": "code",
   "execution_count": 17,
   "id": "1750a895-22f6-4592-b021-899095b6b206",
   "metadata": {},
   "outputs": [],
   "source": [
    "#Q5. Explain why with statement is used with open(). What is the advantage of using with statement and open() together?\n",
    "#Ans.\n",
    "#The with statement is used in Python to simplify working with resources that need to be properly managed, such as file objects. \n",
    "#When working with files, it's important to make sure that the file is closed after you have finished reading or writing to it, otherwise it can cause problems such as data loss or corruption.\n",
    "\n",
    "#The advantage of using the with statement with the open() function is that it automatically takes care of closing the file after the block of code within the with statement has been executed. \n",
    "#This means that you don't have to explicitly close the file using the close() function, which can help reduce the risk of forgetting to close the file and causing problems."
   ]
  },
  {
   "cell_type": "code",
   "execution_count": 22,
   "id": "2eb377f6-781f-4d1e-9943-660d82b993ab",
   "metadata": {},
   "outputs": [],
   "source": [
    "#Q6. Explain the write() and writelines() functions. Give a suitable example.\n",
    "#Ans.\n",
    "# write() and writelines() functions are used to write data to a file in Python.\n",
    "\n",
    "#The write() function writes a string to a file.\n",
    "f = open(\"examples.txt\", \"w\")\n",
    "f.write(\"Hello World!\")\n",
    "f.close()\n",
    "\n",
    "#The writelines() function writes a list of strings to a file.\n",
    "f = open(\"examples.txt\", \"w\")\n",
    "lines = [\"Hello\", \"World\", \"!\"]\n",
    "f.writelines(lines)\n",
    "f.close()"
   ]
  }
 ],
 "metadata": {
  "kernelspec": {
   "display_name": "Python 3 (ipykernel)",
   "language": "python",
   "name": "python3"
  },
  "language_info": {
   "codemirror_mode": {
    "name": "ipython",
    "version": 3
   },
   "file_extension": ".py",
   "mimetype": "text/x-python",
   "name": "python",
   "nbconvert_exporter": "python",
   "pygments_lexer": "ipython3",
   "version": "3.10.8"
  }
 },
 "nbformat": 4,
 "nbformat_minor": 5
}
