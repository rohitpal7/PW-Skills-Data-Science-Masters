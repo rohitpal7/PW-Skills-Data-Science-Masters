{
 "cells": [
  {
   "cell_type": "code",
   "execution_count": null,
   "id": "fe2020d5-f8cd-45da-8bef-12fdeb2fdabe",
   "metadata": {},
   "outputs": [],
   "source": [
    "#Q1. What is the Probability density function?\n",
    "#Ans.\n",
    "#The Probability density function (PDF) is a mathematical function used to describe the likelihood of observing a continuous random variable within a given range of values."
   ]
  },
  {
   "cell_type": "code",
   "execution_count": null,
   "id": "aec5b473-1763-47d9-9b83-43215279b5c6",
   "metadata": {},
   "outputs": [],
   "source": [
    "#Q2. What are the types of Probability distribution?\n",
    "#Ans.\n",
    "#There are many types of probability distributions, but some of the most commonly used ones are:\n",
    "#Bernoulli Distribution: A discrete probability distribution that describes the likelihood of obtaining a single success or failure in a single trial.\n",
    "#Binomial distribution: Used to model the probability of a certain number of successes in a fixed number of independent trials.\n",
    "#Poisson distribution: Used to model the probability of a certain number of events occurring in a fixed interval of time or space.\n",
    "#Normal distribution: A continuous distribution that is symmetric and bell-shaped, commonly used to model data in natural and social sciences."
   ]
  },
  {
   "cell_type": "code",
   "execution_count": 5,
   "id": "62cea976-4503-49c0-a8d1-9fa77a32a594",
   "metadata": {},
   "outputs": [
    {
     "name": "stdout",
     "output_type": "stream",
     "text": [
      "The Result is: 0.05399096651318806\n"
     ]
    }
   ],
   "source": [
    "#Q3. Write a Python function to calculate the probability density function of a normal distribution with given mean and standard deviation at a given point.\n",
    "#Ans.\n",
    "import math\n",
    "\n",
    "def normal_pdf(x, mu, sigma):\n",
    "    #Calculates the PDF of a normal distribution at a given point x, with mean mu and standard deviation sigma.\n",
    "    coeff = 1 / (sigma * math.sqrt(2 * math.pi))\n",
    "    exponent = -((x - mu) ** 2) / (2 * (sigma ** 2))\n",
    "    return coeff * math.exp(exponent)\n",
    "\n",
    "result = normal_pdf(2, 0, 1)\n",
    "print(\"The Result is:\", result)"
   ]
  },
  {
   "cell_type": "code",
   "execution_count": null,
   "id": "56aa83cc-2eee-4ab1-ad02-8c8d90abd6a7",
   "metadata": {},
   "outputs": [],
   "source": [
    "#Q4. What are the properties of Binomial distribution? Give two examples of events where binomial distribution can be applied.\n",
    "#Ans.\n",
    "#The properties of a binomial distribution are:\n",
    "#The number of trials is fixed.\n",
    "#Each trial is independent.\n",
    "#There are only two possible outcomes for each trial (success or failure).\n",
    "#The probability of success is constant for each trial.\n",
    "#The trials are identical.\n",
    "\n",
    "#Two examples of events where binomial distribution can be applied are:\n",
    "#A company is launching a new product and wants to determine the likelihood of making a sale. \n",
    "#They randomly select 100 potential customers and record whether each customer made a purchase or not. \n",
    "\n",
    "#An epidemiologist is studying the spread of a disease within a population. \n",
    "#They randomly select 500 people and test each person for the disease. "
   ]
  },
  {
   "cell_type": "code",
   "execution_count": 6,
   "id": "f74eddba-4c7a-4b38-aa28-0257ea5019ca",
   "metadata": {},
   "outputs": [
    {
     "data": {
      "image/png": "[encoded data removed]",
      "text/plain": [
       "<Figure size 640x480 with 1 Axes>"
      ]
     },
     "metadata": {},
     "output_type": "display_data"
    }
   ],
   "source": [
    "#Q5. Generate a random sample of size 1000 from a binomial distribution with probability of success 0.4 and plot a histogram of the results using matplotlib.\n",
    "#Ans.\n",
    "import numpy as np\n",
    "import matplotlib.pyplot as plt\n",
    "\n",
    "# Generate random sample of size 1000 from a binomial distribution\n",
    "n = 1000\n",
    "p = 0.4\n",
    "sample = np.random.binomial(n, p, size=1000)\n",
    "\n",
    "# Plot histogram of the results\n",
    "plt.hist(sample, bins=20)\n",
    "plt.title(\"Histogram of Random Sample from Binomial Distribution\")\n",
    "plt.xlabel(\"Number of Successes\")\n",
    "plt.ylabel(\"Frequency\")\n",
    "plt.show()\n"
   ]
  },
  {
   "cell_type": "code",
   "execution_count": 8,
   "id": "4cf0ee08-7915-463d-b72e-2aead6fb76b6",
   "metadata": {},
   "outputs": [
    {
     "name": "stdout",
     "output_type": "stream",
     "text": [
      "P(X <= 4) = 0.9473\n"
     ]
    }
   ],
   "source": [
    "#Q6. Write a Python function to calculate the cumulative distribution function of a Poisson distribution with given mean at a given point.\n",
    "#Ans.\n",
    "import math\n",
    "\n",
    "def poisson_cdf(mean, k):\n",
    "    cdf = 0.0\n",
    "    for i in range(k+1):\n",
    "        cdf += math.pow(mean, i) * math.exp(-mean) / math.factorial(i)\n",
    "    return cdf\n",
    "\n",
    "mean = 2\n",
    "k = 4\n",
    "cdf = poisson_cdf(mean, k)\n",
    "print(\"P(X <= %d) = %.4f\" % (k, cdf))\n"
   ]
  },
  {
   "cell_type": "code",
   "execution_count": null,
   "id": "1462bc76-4137-4ffd-ac6a-3a7a346a312b",
   "metadata": {},
   "outputs": [],
   "source": [
    "#Q7. How Binomial distribution different from Poisson distribution?\n",
    "#Ans.\n",
    "#The key differences between the Binomial and Poisson distributions are as follows:\n",
    "#Number of Trials: In a Binomial distribution, the number of trials is fixed and finite, whereas in a Poisson distribution, the number of events can be any non-negative integer.\n",
    "#Probability of Success: In a Binomial distribution, the probability of success is constant for each trial, whereas in a Poisson distribution, the probability of observing an event varies according to the mean rate of events per unit time or space.\n",
    "#Shape: The Binomial distribution is a discrete probability distribution, while the Poisson distribution is also a discrete probability distribution, but it is used to model rare events that occur in continuous time or space.\n",
    "#Assumptions: The Binomial distribution assumes that the trials are independent, while the Poisson distribution assumes that the events occur independently of each other and at a constant rate."
   ]
  },
  {
   "cell_type": "code",
   "execution_count": 9,
   "id": "a7a88c3d-5878-45f9-9298-47223783d8be",
   "metadata": {},
   "outputs": [
    {
     "name": "stdout",
     "output_type": "stream",
     "text": [
      "Sample Mean: 4.959\n",
      "Sample Variance: 5.157318999999999\n"
     ]
    }
   ],
   "source": [
    "#Q8. Generate a random sample of size 1000 from a Poisson distribution with mean 5 and calculate the sample mean and variance.\n",
    "#Ans.\n",
    "import numpy as np\n",
    "\n",
    "# Generate random sample of size 1000 from Poisson distribution with mean 5\n",
    "sample = np.random.poisson(lam=5, size=1000)\n",
    "\n",
    "# Calculate sample mean and variance\n",
    "sample_mean = np.mean(sample)\n",
    "sample_variance = np.var(sample)\n",
    "\n",
    "print(\"Sample Mean:\", sample_mean)\n",
    "print(\"Sample Variance:\", sample_variance)\n"
   ]
  },
  {
   "cell_type": "code",
   "execution_count": null,
   "id": "35b9e786-5c44-482c-ae36-02a13c9c1fa9",
   "metadata": {},
   "outputs": [],
   "source": [
    "#Q9. How mean and variance are related in Binomial distribution and Poisson distribution?\n",
    "#Ans.\n",
    "#In both Binomial distribution and Poisson distribution, the mean and variance are related in a similar way. \n",
    "#The mean of a Binomial distribution is equal to the product of the number of trials and the probability of success in each trial, while the mean of a Poisson distribution is equal to the rate parameter lambda."
   ]
  },
  {
   "cell_type": "code",
   "execution_count": null,
   "id": "5f2d1870-3916-40fc-9fc0-f20c0ab5d9fe",
   "metadata": {},
   "outputs": [],
   "source": [
    "#Q10. In normal distribution with respect to mean position, where does the least frequent data appear?\n",
    "#Ans.\n",
    "#In a normal distribution, the least frequent data appears at the tails of the distribution, which are the regions farthest away from the mean. \n"
   ]
  }
 ],
 "metadata": {
  "kernelspec": {
   "display_name": "Python 3 (ipykernel)",
   "language": "python",
   "name": "python3"
  },
  "language_info": {
   "codemirror_mode": {
    "name": "ipython",
    "version": 3
   },
   "file_extension": ".py",
   "mimetype": "text/x-python",
   "name": "python",
   "nbconvert_exporter": "python",
   "pygments_lexer": "ipython3",
   "version": "3.10.8"
  }
 },
 "nbformat": 4,
 "nbformat_minor": 5
}
