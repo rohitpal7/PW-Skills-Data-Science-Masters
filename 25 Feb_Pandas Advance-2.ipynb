{
 "cells": [
  {
   "cell_type": "code",
   "execution_count": 8,
   "id": "268d6b15-1d3d-4a06-a792-4d6bb64e5f2b",
   "metadata": {},
   "outputs": [
    {
     "name": "stdout",
     "output_type": "stream",
     "text": [
      "course_name    Machine Learning\n",
      "duration                      3\n",
      "Name: 1, dtype: object\n"
     ]
    }
   ],
   "source": [
    "#Q1. Write a code to print the data present in the second row of the dataframe, df.\n",
    "#Ans.\n",
    "import pandas as pd\n",
    "course_name = [\"Data Science\", \"Machine Learning\", \"Big Data\", \"Data Engineer\"]\n",
    "duration = [2,3,6,4]\n",
    "df = pd.DataFrame(data = {\"course_name\" : course_name, \"duration\" : duration})\n",
    "\n",
    "print(df.iloc[1])\n"
   ]
  },
  {
   "cell_type": "code",
   "execution_count": null,
   "id": "e1bb4df8-16d7-4948-bf3d-3fe0b4eb0dc8",
   "metadata": {},
   "outputs": [],
   "source": [
    "#Q2. What is the difference between the functions loc and iloc in pandas.DataFrame?\n",
    "#Ans.\n",
    "#In Pandas, loc and iloc are two methods used for indexing and selecting data from a DataFrame.\n",
    "#loc is used for selecting data based on the label/index of the rows or columns.\n",
    "#iloc is used for selecting data based on the integer location of the rows or columns. "
   ]
  },
  {
   "cell_type": "code",
   "execution_count": 16,
   "id": "cf82c4b0-a442-48a5-adf1-dee806769f71",
   "metadata": {},
   "outputs": [
    {
     "name": "stdout",
     "output_type": "stream",
     "text": [
      "course_name    Big Data\n",
      "duration              6\n",
      "Name: 2, dtype: object\n",
      "course_name    Machine Learning\n",
      "duration                      3\n",
      "Name: 1, dtype: object\n"
     ]
    }
   ],
   "source": [
    "#Q3. Reindex the given dataframe using a variable, reindex = [3,0,1,2] and store it in the variable, new_df then find the output for both new_df.loc[2] and new_df.iloc[2].\n",
    "#Ans.\n",
    "import pandas as pd\n",
    "course_name = [\"Data Science\", \"Machine Learning\", \"Big Data\", \"Data Engineer\"]\n",
    "duration = [2,3,6,4]\n",
    "df = pd.DataFrame(data = {\"course_name\" : course_name, \"duration\" : duration})\n",
    "\n",
    "reindex = [3, 0, 1, 2]\n",
    "\n",
    "new_df = df.reindex(index=reindex)\n",
    "\n",
    "print(new_df.loc[2])\n",
    "print(new_df.iloc[2])\n",
    "\n",
    "#The difference in the output is because loc and iloc use different methods to select rows. \n",
    "#loc uses labels to select rows, while iloc uses integer indices to select rows."
   ]
  },
  {
   "cell_type": "code",
   "execution_count": 25,
   "id": "8f6c87e0-6f71-40d5-96ce-66b071e3842b",
   "metadata": {},
   "outputs": [
    {
     "name": "stdout",
     "output_type": "stream",
     "text": [
      "Mean of each column:\n",
      " column_1    0.653203\n",
      "column_2    0.666465\n",
      "column_3    0.680937\n",
      "column_4    0.539685\n",
      "column_5    0.634026\n",
      "column_6    0.614575\n",
      "dtype: float64\n",
      "Standard deviation of column_2:\n",
      " 0.2644546131874181\n"
     ]
    }
   ],
   "source": [
    "#Q4. Write a code to find the following statistical measurements for the above dataframe df1:\n",
    "#(i) mean of each and every column present in the dataframe.\n",
    "#(ii) standard deviation of column, ‘column_2’\n",
    "#Ans.\n",
    "import pandas as pd\n",
    "import numpy as np\n",
    "columns = ['column_1', 'column_2', 'column_3', 'column_4', 'column_5', 'column_6']\n",
    "indices = [1,2,3,4,5,6]\n",
    "#Creating a dataframe:\n",
    "df1 = pd.DataFrame(np.random.rand(6,6), columns = columns, index = indices)\n",
    "\n",
    "# Mean of each column\n",
    "column_means = df1.mean()\n",
    "print(\"Mean of each column:\\n\", column_means)\n",
    "\n",
    "# Standard deviation of column_2\n",
    "column_2_std = df1['column_2'].std()\n",
    "print(\"Standard deviation of column_2:\\n\", column_2_std)"
   ]
  },
  {
   "cell_type": "code",
   "execution_count": 27,
   "id": "d5f5b489-4a6d-464d-9032-1a4250494dd9",
   "metadata": {},
   "outputs": [
    {
     "name": "stdout",
     "output_type": "stream",
     "text": [
      "Error: unsupported operand type(s) for +: 'float' and 'str'\n",
      "Mean of column_2:\n",
      " 0.34606893225655044\n"
     ]
    }
   ],
   "source": [
    "#Q5. Replace the data present in the second row of column, ‘column_2’ by a string variable then find the mean of column, column_2.\n",
    "#If you are getting errors in executing it then explain why.[Hint: To replace the data use df1.loc[] and equate this to string data of your choice.]\n",
    "#Ans.\n",
    "import pandas as pd\n",
    "import numpy as np\n",
    "\n",
    "columns = ['column_1', 'column_2', 'column_3', 'column_4', 'column_5', 'column_6']\n",
    "indices = [1,2,3,4,5,6]\n",
    "\n",
    "df1 = pd.DataFrame(np.random.rand(6,6), columns=columns, index=indices)\n",
    "\n",
    "# Replacing the data in the second row of 'column_2' with a string variable\n",
    "df1.loc[2, 'column_2'] = 'string_data'\n",
    "\n",
    "# Finding the mean of 'column_2'\n",
    "try:\n",
    "    column_2_mean = df1['column_2'].mean()\n",
    "    print(\"Mean of column_2:\\n\", column_2_mean)\n",
    "except TypeError as e:\n",
    "    print(\"Error:\", e)\n",
    "\n",
    "\n",
    "# Replacing the data in the second row of 'column_2' with a string variable\n",
    "df1.loc[2, 'column_2'] = 'string_data'\n",
    "\n",
    "# Converting 'column_2' to a numeric data type\n",
    "df1['column_2'] = pd.to_numeric(df1['column_2'], errors='coerce')\n",
    "\n",
    "# Finding the mean of 'column_2'\n",
    "column_2_mean = df1['column_2'].mean()\n",
    "print(\"Mean of column_2:\\n\", column_2_mean)"
   ]
  },
  {
   "cell_type": "code",
   "execution_count": null,
   "id": "eadf5e62-9efc-4885-ae4c-ca0bf925f0bf",
   "metadata": {},
   "outputs": [],
   "source": [
    "#Q6. What do you understand about the windows function in pandas and list the types of windows functions?\n",
    "#Ans.\n",
    "#In pandas, window functions (also known as rolling or moving functions) are used to perform calculations on a sliding window of data. \n",
    "#1. Rolling Functions\n",
    "#2. Expanding Functions\n",
    "#3. Exponentially Weighted Moving Average (EWMA) Functions\n",
    "#4. Binary Window Functions\n",
    "#5. Rolling Apply Functions\n",
    "#6. Rolling Correlation and Covariance Functions\n",
    "#7. Rolling Regression Functions"
   ]
  },
  {
   "cell_type": "code",
   "execution_count": 1,
   "id": "3171db0b-fc54-44e2-b1ba-ea2ce85644af",
   "metadata": {},
   "outputs": [
    {
     "name": "stdout",
     "output_type": "stream",
     "text": [
      "February 2023\n"
     ]
    }
   ],
   "source": [
    "#Q7. Write a code to print only the current month and year at the time of answering this question. [Hint: Use pandas.datetime function]\n",
    "#And.\n",
    "import pandas as pd\n",
    "from datetime import datetime\n",
    "\n",
    "current_month_year = datetime.now().strftime('%B %Y')\n",
    "print(current_month_year)\n"
   ]
  },
  {
   "cell_type": "code",
   "execution_count": 2,
   "id": "4f10c080-7eb6-448e-9067-42814b9c9ea5",
   "metadata": {},
   "outputs": [
    {
     "name": "stdin",
     "output_type": "stream",
     "text": [
      "Enter the first date (YYYY-MM-DD):  1998-01-09\n",
      "Enter the second date (YYYY-MM-DD):  2023-02-28\n"
     ]
    },
    {
     "name": "stdout",
     "output_type": "stream",
     "text": [
      "The difference between 1998-01-09 and 2023-02-28 is:\n",
      "9181 days\n",
      "0 hours\n",
      "0 minutes\n"
     ]
    }
   ],
   "source": [
    "#Q8. Write a Python program that takes in two dates as input (in the format YYYY-MM-DD) and calculates the difference between them in days, hours, and minutes using Pandas time delta. \n",
    "#The program should prompt the user to enter the dates and display the result.\n",
    "#Ans.\n",
    "import pandas as pd\n",
    "\n",
    "# Prompt the user to enter the first date\n",
    "date1_str = input(\"Enter the first date (YYYY-MM-DD): \")\n",
    "date1 = pd.to_datetime(date1_str)\n",
    "\n",
    "# Prompt the user to enter the second date\n",
    "date2_str = input(\"Enter the second date (YYYY-MM-DD): \")\n",
    "date2 = pd.to_datetime(date2_str)\n",
    "\n",
    "# Calculate the difference between the two dates\n",
    "diff = date2 - date1\n",
    "\n",
    "# Print the result\n",
    "print(\"The difference between\", date1_str, \"and\", date2_str, \"is:\")\n",
    "print(diff.days, \"days\")\n",
    "print(diff.seconds // 3600, \"hours\")\n",
    "print((diff.seconds // 60) % 60, \"minutes\")\n"
   ]
  },
  {
   "cell_type": "code",
   "execution_count": 9,
   "id": "fc1f6b94-68fe-4393-bde9-3e3d8b80c65d",
   "metadata": {},
   "outputs": [
    {
     "name": "stdin",
     "output_type": "stream",
     "text": [
      "Enter the file path:  sales_data.csv\n",
      "Enter the column name to convert to categorical data:  Category\n",
      "Enter the category order (comma-separated):  1\n"
     ]
    },
    {
     "name": "stdout",
     "output_type": "stream",
     "text": [
      "  Category      Date\n",
      "0      NaN  1-Jan-23\n",
      "1      NaN  2-Jan-23\n",
      "2      NaN  3-Jan-23\n",
      "3      NaN  4-Jan-23\n",
      "4      NaN  5-Jan-23\n"
     ]
    }
   ],
   "source": [
    "#Q9. Write a Python program that reads a CSV file containing categorical data and converts a specified column to a categorical data type. \n",
    "#The program should prompt the user to enter the file path, column name, and category order, and then display the sorted data.\n",
    "#Ans.\n",
    "import pandas as pd\n",
    "\n",
    "# Prompt the user to enter the file path\n",
    "file_path = input(\"Enter the file path: \")\n",
    "\n",
    "# Read the CSV file into a Pandas DataFrame\n",
    "df = pd.read_csv(file_path)\n",
    "\n",
    "# Prompt the user to enter the column name and category order\n",
    "col_name = input(\"Enter the column name to convert to categorical data: \")\n",
    "cat_order = input(\"Enter the category order (comma-separated): \").split(\",\")\n",
    "\n",
    "# Convert the specified column to categorical data type with the specified category order\n",
    "df[col_name] = pd.Categorical(df[col_name], categories=cat_order, ordered=True)\n",
    "\n",
    "# Sort the DataFrame by the specified column\n",
    "df = df.sort_values(col_name)\n",
    "\n",
    "# Display the sorted data\n",
    "print(df)\n"
   ]
  },
  {
   "cell_type": "code",
   "execution_count": 12,
   "id": "ab3bc46f-07ce-49de-ae1d-cab1bcf65a81",
   "metadata": {},
   "outputs": [
    {
     "name": "stdin",
     "output_type": "stream",
     "text": [
      "Enter the file path:  sales_data.csv\n"
     ]
    },
    {
     "data": {
      "image/png": "[encoded data removed]",
      "text/plain": [
       "<Figure size 640x480 with 1 Axes>"
      ]
     },
     "metadata": {},
     "output_type": "display_data"
    }
   ],
   "source": [
    "#Q10. Write a Python program that reads a CSV file containing sales data for different products and visualizes the data using a stacked bar chart to show the sales of each product category over time. \n",
    "#Theprogram should prompt the user to enter the file path and display the chart.\n",
    "#Ans.\n",
    "import pandas as pd\n",
    "import matplotlib.pyplot as plt\n",
    "\n",
    "# Prompt user for file path\n",
    "file_path = input(\"Enter the file path: \")\n",
    "\n",
    "# Read CSV file into a pandas dataframe\n",
    "sales_df = pd.read_csv(file_path)\n",
    "\n",
    "# Convert date column to datetime format\n",
    "sales_df['date'] = pd.to_datetime(sales_df['date'])\n",
    "\n",
    "# Group sales by product category and date\n",
    "grouped_sales = sales_df.groupby(['category', 'date'])['sales'].sum().unstack()\n",
    "\n",
    "# Create stacked bar chart\n",
    "grouped_sales.plot(kind='bar', stacked=True)\n",
    "\n",
    "# Set chart title and axis labels\n",
    "plt.title('Sales by Product Category over Time')\n",
    "plt.xlabel('Date')\n",
    "plt.ylabel('Sales')\n",
    "\n",
    "# Display chart\n",
    "plt.show()\n"
   ]
  },
  {
   "cell_type": "code",
   "execution_count": 13,
   "id": "86e880a9-bb09-412f-992b-54a961e020b0",
   "metadata": {},
   "outputs": [
    {
     "name": "stdout",
     "output_type": "stream",
     "text": [
      "Requirement already satisfied: tabulate in /opt/conda/lib/python3.10/site-packages (0.9.0)\n",
      "Note: you may need to restart the kernel to use updated packages.\n"
     ]
    }
   ],
   "source": [
    "pip install tabulate"
   ]
  },
  {
   "cell_type": "code",
   "execution_count": 15,
   "id": "be9e9329-7e1e-4f47-bcc2-5a26c748a77c",
   "metadata": {},
   "outputs": [
    {
     "name": "stdin",
     "output_type": "stream",
     "text": [
      "Enter the file path of the CSV file containing the student data:  student_data.csv\n"
     ]
    },
    {
     "name": "stdout",
     "output_type": "stream",
     "text": [
      "Statistic      Value\n",
      "-----------  -------\n",
      "Mean            83.5\n",
      "Median          85\n",
      "Mode            85\n"
     ]
    }
   ],
   "source": [
    "#Q11. You are given a CSV file containing student data that includes the student ID and their test score. \n",
    "#Write a Python program that reads the CSV file, calculates the mean, median, and mode of the test scores, and displays the results in a table.\n",
    "#Ans.\n",
    "\n",
    "import pandas as pd\n",
    "from tabulate import tabulate\n",
    "\n",
    "# Prompt user for file path\n",
    "file_path = input(\"Enter the file path of the CSV file containing the student data: \")\n",
    "\n",
    "# Read CSV file into a pandas dataframe\n",
    "student_df = pd.read_csv(file_path)\n",
    "\n",
    "# Calculate mean, median, and mode of test scores\n",
    "mean_score = student_df['Test Score'].mean()\n",
    "median_score = student_df['Test Score'].median()\n",
    "mode_score = student_df['Test Score'].mode()\n",
    "\n",
    "# Create table of results\n",
    "results_table = [[\"Mean\", mean_score], [\"Median\", median_score], [\"Mode\", ', '.join(map(str, mode_score.tolist()))]]\n",
    "\n",
    "# Display table\n",
    "print(tabulate(results_table, headers=[\"Statistic\", \"Value\"]))\n"
   ]
  }
 ],
 "metadata": {
  "kernelspec": {
   "display_name": "Python 3 (ipykernel)",
   "language": "python",
   "name": "python3"
  },
  "language_info": {
   "codemirror_mode": {
    "name": "ipython",
    "version": 3
   },
   "file_extension": ".py",
   "mimetype": "text/x-python",
   "name": "python",
   "nbconvert_exporter": "python",
   "pygments_lexer": "ipython3",
   "version": "3.10.8"
  }
 },
 "nbformat": 4,
 "nbformat_minor": 5
}
