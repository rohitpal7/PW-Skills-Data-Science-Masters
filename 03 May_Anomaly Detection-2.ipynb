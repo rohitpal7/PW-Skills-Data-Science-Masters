{
 "cells": [
  {
   "cell_type": "code",
   "execution_count": null,
   "id": "d24ab841-e18a-4906-951d-b6a6193d5bf8",
   "metadata": {},
   "outputs": [],
   "source": [
    "#Q1. What is the role of feature selection in anomaly detection?\n",
    "#Ans.\n",
    "#Feature selection in anomaly detection is the process of identifying a subset of relevant features that can effectively distinguish normal data from anomalous data. \n",
    "#The main goal of feature selection is to improve the accuracy of anomaly detection algorithms by reducing the dimensionality of the data and removing irrelevant or redundant features that may add noise to the model."
   ]
  },
  {
   "cell_type": "code",
   "execution_count": null,
   "id": "6694db21-2963-45ee-a2c4-8f6531306221",
   "metadata": {},
   "outputs": [],
   "source": [
    "#Q2. What are some common evaluation metrics for anomaly detection algorithms and how are they computed?\n",
    "#Ans.\n",
    "#There are several evaluation metrics used to assess the performance of anomaly detection algorithms. \n",
    "#The most common ones include: Precision, Recall, F1-score, Area under the Receiver Operating Characteristic (ROC) curve, Area under the Precision-Recall (PR) curve"
   ]
  },
  {
   "cell_type": "code",
   "execution_count": null,
   "id": "1c521272-2733-4584-aa64-2bf517fe5baf",
   "metadata": {},
   "outputs": [],
   "source": [
    "#Q3. What is DBSCAN and how does it work for clustering?\n",
    "#Ans.\n",
    "#DBSCAN (Density-Based Spatial Clustering of Applications with Noise) is a clustering algorithm used for grouping together similar data points based on their density. \n",
    "#DBSCAN works by identifying core points, border points, and noise points.\n",
    "#DBSCAN is advantageous because it can identify clusters of arbitrary shapes and can handle noisy data."
   ]
  },
  {
   "cell_type": "code",
   "execution_count": null,
   "id": "07aef723-4446-4fab-b2e4-921550f856b5",
   "metadata": {},
   "outputs": [],
   "source": [
    "#Q4. How does the epsilon parameter affect the performance of DBSCAN in detecting anomalies?\n",
    "#Ans.\n",
    "#In DBSCAN, the epsilon parameter determines the radius of the neighborhood around each data point. \n",
    "#This parameter affects the performance of DBSCAN in detecting anomalies because it determines the sensitivity of the algorithm to the density of the data. \n",
    "#A smaller epsilon value will result in a higher density of clusters and potentially fewer anomalies"
   ]
  },
  {
   "cell_type": "code",
   "execution_count": null,
   "id": "f8d88c5e-435b-4ca6-8361-153736443c15",
   "metadata": {},
   "outputs": [],
   "source": [
    "#Q5. What are the differences between the core, border, and noise points in DBSCAN, and how do they relate to anomaly detection?\n",
    "#Ans.\n",
    "#In DBSCAN, points can be classified as core, border, or noise points based on their relationship to the neighboring points. Core points, Border points, Noise points. \n",
    "#anomalies may be detected by looking for groups of points that are all classified as noise, as this suggests the presence of a distinct cluster or subpopulation that may be anomalous."
   ]
  }
 ],
 "metadata": {
  "kernelspec": {
   "display_name": "Python 3 (ipykernel)",
   "language": "python",
   "name": "python3"
  },
  "language_info": {
   "codemirror_mode": {
    "name": "ipython",
    "version": 3
   },
   "file_extension": ".py",
   "mimetype": "text/x-python",
   "name": "python",
   "nbconvert_exporter": "python",
   "pygments_lexer": "ipython3",
   "version": "3.10.8"
  }
 },
 "nbformat": 4,
 "nbformat_minor": 5
}
