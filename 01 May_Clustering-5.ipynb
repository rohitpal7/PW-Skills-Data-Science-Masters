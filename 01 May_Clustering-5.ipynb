{
 "cells": [
  {
   "cell_type": "code",
   "execution_count": null,
   "id": "6ca77727-ee1a-4d09-b950-999f9dbc35cb",
   "metadata": {},
   "outputs": [],
   "source": [
    "#Q1. What is a contingency matrix, and how is it used to evaluate the performance of a classification model?\n",
    "#Ans.\n",
    "#A contingency matrix, also known as a confusion matrix, is a table that summarizes the performance of a classification model by comparing its predictions to the actual values of the target variable. \n",
    "#It is a useful tool for evaluating the accuracy, precision, recall, and other performance metrics of a classification model.\n",
    "#A contingency matrix consists of four cells, each representing a combination of predicted and actual values. \n",
    "#The cells are: True Positive (TP), False Positive (FP), True Negative (TN), False Negative (FN)"
   ]
  },
  {
   "cell_type": "code",
   "execution_count": null,
   "id": "53699ec4-c447-455b-9477-8bc3dada20d2",
   "metadata": {},
   "outputs": [],
   "source": [
    "#Q2. How is a pair confusion matrix different from a regular confusion matrix, and why might it be useful in certain situations?\n",
    "#Ans.\n",
    "#A pair confusion matrix is a variant of the regular confusion matrix that is used to evaluate the performance of multi-class classification models. \n",
    "#While a regular confusion matrix is used for binary classification problems, a pair confusion matrix is used for multi-class classification problems."
   ]
  },
  {
   "cell_type": "code",
   "execution_count": null,
   "id": "d72f21b4-6e9a-40f7-bf27-c871e9e56ca2",
   "metadata": {},
   "outputs": [],
   "source": [
    "#Q3. What is an extrinsic measure in the context of natural language processing, and how is it typically used to evaluate the performance of language models?\n",
    "#Ans.\n",
    "#In the context of natural language processing (NLP), an extrinsic measure is a method of evaluating the performance of a language model based on how well it performs a specific task or set of tasks. \n",
    "#Unlike intrinsic measures, which evaluate the performance of a language model based on its ability to predict the structure or properties of language, extrinsic measures evaluate the performance of a language model based on its ability to solve real-world problems.\n",
    "#Extrinsic measures are useful because they provide a more realistic assessment of a language model's performance in real-world applications."
   ]
  },
  {
   "cell_type": "code",
   "execution_count": null,
   "id": "c7bce58c-9975-4ca9-8004-af3dbd3e3342",
   "metadata": {},
   "outputs": [],
   "source": [
    "#Q4. What is an intrinsic measure in the context of machine learning, and how does it differ from an extrinsic measure?\n",
    "#Ans.\n",
    "#In the context of machine learning, an intrinsic measure is a method of evaluating the performance of a model based on its ability to learn and generalize patterns within the training data. \n",
    "#Intrinsic measures are typically used to evaluate the performance of machine learning models in a more general and abstract sense, without being tied to any specific real-world application.\n",
    "#In summary, intrinsic measures are used to evaluate the performance of machine learning models in a more general and abstract sense, while extrinsic measures are used to evaluate the performance of machine learning models in specific real-world applications. \n",
    "#Both types of measures are important for assessing the overall performance of machine learning models."
   ]
  },
  {
   "cell_type": "code",
   "execution_count": null,
   "id": "b0f6a759-553d-4199-92c1-848e0cc0b2b3",
   "metadata": {},
   "outputs": [],
   "source": [
    "#Q5. What is the purpose of a confusion matrix in machine learning, and how can it be used to identify strengths and weaknesses of a model?\n",
    "#Ans.\n",
    "#A confusion matrix is a table used to evaluate the performance of a classification model by comparing its predicted labels to the actual labels of a test dataset. \n",
    "#The matrix is a square table with the actual class labels on one axis and the predicted class labels on the other axis, and the cells of the matrix contain the number of data points that fall into each combination of actual and predicted labels.\n",
    "#These metrics can be used to identify the following: True Positive (TP), False Positive (FP), True Negative (TN), False Negative (FN)"
   ]
  },
  {
   "cell_type": "code",
   "execution_count": null,
   "id": "8f9a6e26-14f6-4721-bd32-6f79eab2ec5d",
   "metadata": {},
   "outputs": [],
   "source": [
    "#Q6. What are some common intrinsic measures used to evaluate the performance of unsupervised learning algorithms, and how can they be interpreted?\n",
    "#Ans.\n",
    "#Unsupervised learning algorithms are used to identify patterns and structure in unlabeled data.\n",
    "#Some common intrinsic measures used to evaluate the performance of unsupervised learning algorithms are: Silhouette score, Calinski-Harabasz index, Davies-Bouldin index"
   ]
  },
  {
   "cell_type": "code",
   "execution_count": null,
   "id": "29fc6146-6556-4340-97a4-b9284348bd7c",
   "metadata": {},
   "outputs": [],
   "source": [
    "#Q7. What are some limitations of using accuracy as a sole evaluation metric for classification tasks, and how can these limitations be addressed?\n",
    "#Ans.\n",
    "#Accuracy is a common evaluation metric used in classification tasks to measure the proportion of correctly classified instances out of the total number of instances in a dataset. \n",
    "#These limitations include: Class imbalance, Cost sensitivity, Error types"
   ]
  }
 ],
 "metadata": {
  "kernelspec": {
   "display_name": "Python 3 (ipykernel)",
   "language": "python",
   "name": "python3"
  },
  "language_info": {
   "codemirror_mode": {
    "name": "ipython",
    "version": 3
   },
   "file_extension": ".py",
   "mimetype": "text/x-python",
   "name": "python",
   "nbconvert_exporter": "python",
   "pygments_lexer": "ipython3",
   "version": "3.10.8"
  }
 },
 "nbformat": 4,
 "nbformat_minor": 5
}
