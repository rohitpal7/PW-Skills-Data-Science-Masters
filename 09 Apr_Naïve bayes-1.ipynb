{
 "cells": [
  {
   "cell_type": "code",
   "execution_count": null,
   "id": "f567037e-4b05-46ea-916d-3700b0dce08c",
   "metadata": {},
   "outputs": [],
   "source": [
    "#Q1. What is Bayes' theorem?\n",
    "#Ans.\n",
    "#Bayes' theorem is a mathematical formula that describes the probability of an event, based on prior knowledge of conditions that might be related to the event. \n",
    "#It is named after the Reverend Thomas Bayes, an 18th-century British statistician and theologian. Bayes' theorem provides a way to update or revise our beliefs or probabilities about an event in light of new evidence or information.\n",
    "#The formula for Bayes' theorem is:\n",
    "P(A|B) = P(B|A) * P(A) / P(B)"
   ]
  },
  {
   "cell_type": "code",
   "execution_count": null,
   "id": "d83a5035-f85c-460e-836a-08a9c6a104bc",
   "metadata": {},
   "outputs": [],
   "source": [
    "#Q2. What is the formula for Bayes' theorem?\n",
    "#Ans.\n",
    "#The formula for Bayes' theorem is:\n",
    "P(A|B) = P(B|A) * P(A) / P(B)\n",
    "\n",
    "#where:\n",
    "P(A|B) is the posterior probability of event A given evidence B.\n",
    "P(B|A) is the likelihood probability of evidence B given event A.\n",
    "P(A) is the prior probability of event A.\n",
    "P(B) is the marginal probability of evidence B."
   ]
  },
  {
   "cell_type": "code",
   "execution_count": null,
   "id": "d8bbdf80-8bee-441f-b426-b3ec70e31c84",
   "metadata": {},
   "outputs": [],
   "source": [
    "#Q3. How is Bayes' theorem used in practice?\n",
    "#Ans.\n",
    "#Bayes' theorem is used in many practical applications in various fields, including:\n",
    "#Medical diagnosis: Bayes' theorem is used to calculate the probability of a patient having a disease based on their symptoms and other medical information.\n",
    "#Spam filtering: Bayes' theorem is used to classify emails as spam or non-spam based on the probability of certain words or phrases occurring in the message.\n",
    "#Speech recognition: Bayes' theorem is used to recognize spoken words based on their acoustic features.\n",
    "#Image and object recognition: Bayes' theorem is used to classify images or objects based on their features or characteristics.\n",
    "#Recommendation systems: Bayes' theorem is used to recommend products or services to users based on their past behavior or preferences."
   ]
  },
  {
   "cell_type": "code",
   "execution_count": null,
   "id": "045d3080-68fd-44f8-8ac4-40e206679873",
   "metadata": {},
   "outputs": [],
   "source": [
    "#Q4. What is the relationship between Bayes' theorem and conditional probability?\n",
    "#Ans.\n",
    "#Bayes' theorem is closely related to conditional probability. In fact, Bayes' theorem is a way to calculate conditional probabilities in reverse order.\n",
    "#Bayes' theorem provides a way to calculate conditional probabilities, but it also allows us to revise or update our prior beliefs or knowledge about an event based on new evidence, \n",
    "#which is a very powerful tool in many fields such as machine learning, natural language processing, and data science."
   ]
  },
  {
   "cell_type": "code",
   "execution_count": null,
   "id": "6d5f66b3-dcb5-4902-8c84-a26526e3748f",
   "metadata": {},
   "outputs": [],
   "source": [
    "#Q5. How do you choose which type of Naive Bayes classifier to use for any given problem?\n",
    "#Ans.\n",
    "#Choosing the appropriate type of Naive Bayes classifier for a specific problem depends on the nature and characteristics of the data being used. \n",
    "#The three most commonly used types of Naive Bayes classifiers are: Bernoulli Naive Bayes, Multinomial Naive Bayes, Gaussian Naive Bayes"
   ]
  }
 ],
 "metadata": {
  "kernelspec": {
   "display_name": "Python 3 (ipykernel)",
   "language": "python",
   "name": "python3"
  },
  "language_info": {
   "codemirror_mode": {
    "name": "ipython",
    "version": 3
   },
   "file_extension": ".py",
   "mimetype": "text/x-python",
   "name": "python",
   "nbconvert_exporter": "python",
   "pygments_lexer": "ipython3",
   "version": "3.10.8"
  }
 },
 "nbformat": 4,
 "nbformat_minor": 5
}
