{
 "cells": [
  {
   "cell_type": "code",
   "execution_count": null,
   "id": "e3767d6d-9184-448a-99d1-0b0c0369c917",
   "metadata": {},
   "outputs": [],
   "source": [
    "#Q1. What is the difference between Ordinal Encoding and Label Encoding? Provide an example of when you might choose one over the other.\n",
    "#Ans.\n",
    "#Ordinal Encoding and Label Encoding are both techniques used to encode categorical variables into numerical values.\n",
    "#Ordinal Encoding assigns numerical values to categories based on their order or rank, while Label Encoding assigns numerical values to categories arbitrarily. \n",
    "\n",
    "#In terms of when to use one over the other, it depends on the nature of the categorical variable and the problem at hand.\n",
    "#If there is a natural ordering of the categories, then Ordinal Encoding may be preferred as it can preserve the order of the categories. \n",
    "#If there is no natural ordering of the categories, then Label Encoding may be used. "
   ]
  },
  {
   "cell_type": "code",
   "execution_count": null,
   "id": "164cd47d-4007-418b-91d2-dd99fb3a363c",
   "metadata": {},
   "outputs": [],
   "source": [
    "#Q2. Explain how Target Guided Ordinal Encoding works and provide an example of when you might use it in a machine learning project.\n",
    "#Ans.\n",
    "#Target Guided Ordinal Encoding is a technique used to encode categorical variables into numerical values based on the relationship between the categories and the target variable.\n",
    "#The basic idea behind Target Guided Ordinal Encoding is to assign numerical values to the categories based on their relationship with the target variable.\n",
    "\n",
    "#Target Guided Ordinal Encoding can be useful in machine learning projects when there is a strong correlation between the categories of a categorical variable and the target variable. "
   ]
  },
  {
   "cell_type": "code",
   "execution_count": null,
   "id": "ee6fde5f-f3b3-47c2-a0b5-457a78dbceff",
   "metadata": {},
   "outputs": [],
   "source": [
    "#Q3. Define covariance and explain why it is important in statistical analysis. How is covariance calculated?\n",
    "#Ans.\n",
    "#Covariance is a measure of the joint variability between two random variables. It measures the degree to which two variables vary together. \n",
    "#If two variables have a positive covariance, it means that they tend to increase or decrease together. \n",
    "#If they have a negative covariance, it means that one variable tends to increase when the other decreases.\n",
    "\n",
    "#Covariance is an important measure in statistical analysis because it helps us understand the relationship between two variables.\n",
    "#Covariance can be calculated using the following formula:\n",
    "cov(X,Y) = E[(X - E[X])(Y - E[Y])]"
   ]
  },
  {
   "cell_type": "code",
   "execution_count": 1,
   "id": "aad2ef81-049c-470f-af11-d291e3cabca7",
   "metadata": {},
   "outputs": [
    {
     "name": "stdout",
     "output_type": "stream",
     "text": [
      "   Color  Size  Material\n",
      "0      2     2         2\n",
      "1      1     1         0\n",
      "2      0     0         1\n",
      "3      2     1         0\n",
      "4      0     2         2\n"
     ]
    }
   ],
   "source": [
    "#Q4. For a dataset with the following categorical variables: Color (red, green, blue), Size (small, medium, large), and Material (wood, metal, plastic), perform label encoding using Python's scikit-learn library. Show your code and explain the output.\n",
    "#Ans.\n",
    "from sklearn.preprocessing import LabelEncoder\n",
    "import pandas as pd\n",
    "\n",
    "# Create a sample dataset\n",
    "data = {'Color': ['red', 'green', 'blue', 'red', 'blue'],\n",
    "        'Size': ['small', 'medium', 'large', 'medium', 'small'],\n",
    "        'Material': ['wood', 'metal', 'plastic', 'metal', 'wood']}\n",
    "df = pd.DataFrame(data)\n",
    "\n",
    "# Initialize the label encoder\n",
    "le = LabelEncoder()\n",
    "\n",
    "# Encode the categorical variables\n",
    "df['Color'] = le.fit_transform(df['Color'])\n",
    "df['Size'] = le.fit_transform(df['Size'])\n",
    "df['Material'] = le.fit_transform(df['Material'])\n",
    "\n",
    "print(df)"
   ]
  },
  {
   "cell_type": "code",
   "execution_count": 2,
   "id": "f38cd29c-06b9-455d-81bc-8bf071b27952",
   "metadata": {},
   "outputs": [
    {
     "name": "stdout",
     "output_type": "stream",
     "text": [
      "[[1.195e+02 2.075e+05 3.350e+01]\n",
      " [2.075e+05 4.250e+08 6.000e+04]\n",
      " [3.350e+01 6.000e+04 1.000e+01]]\n"
     ]
    }
   ],
   "source": [
    "#Q5. Calculate the covariance matrix for the following variables in a dataset: Age, Income, and Education level. Interpret the results.\n",
    "#Ans.\n",
    "import numpy as np\n",
    "\n",
    "# Define the variables as numpy arrays\n",
    "age = np.array([25, 32, 45, 28, 50])\n",
    "income = np.array([50000, 75000, 100000, 60000, 90000])\n",
    "education = np.array([12, 16, 18, 14, 20])\n",
    "\n",
    "# Stack the variables into a single 2D array\n",
    "data = np.vstack((age, income, education)).T\n",
    "\n",
    "# Calculate the covariance matrix\n",
    "cov_matrix = np.cov(data, rowvar=False)\n",
    "\n",
    "# Print the covariance matrix\n",
    "print(cov_matrix)"
   ]
  },
  {
   "cell_type": "code",
   "execution_count": null,
   "id": "371313b0-2fec-4eb7-a264-12381b1e4b27",
   "metadata": {},
   "outputs": [],
   "source": [
    "#Q6. You are working on a machine learning project with a dataset containing several categorical variables, including \"Gender\" (Male/Female), \"Education Level\" (High School/Bachelor's/Master's/PhD), and \"Employment Status\" (Unemployed/Part-Time/Full-Time). Which encoding method would you use for each variable, and why?\n",
    "#Ans.\n",
    "#For categorical variables, there are various encoding methods to represent them in numerical format to be used in machine learning models. \n",
    "#The choice of encoding method depends on the nature of the data and the specific requirements of the problem."
   ]
  },
  {
   "cell_type": "code",
   "execution_count": null,
   "id": "dde6ed5c-4eaf-4ed0-8aa3-439e24c74d68",
   "metadata": {},
   "outputs": [],
   "source": [
    "#Q7. You are analyzing a dataset with two continuous variables, \"Temperature\" and \"Humidity\", and two categorical variables, \"Weather Condition\" (Sunny/Cloudy/Rainy) and \"Wind Direction\" (North/South/ East/West). Calculate the covariance between each pair of variables and interpret the results.\n",
    "#Ans.\n",
    "#To calculate the covariance between each pair of variables, we can use the following formula:\n",
    "Covariance(X,Y) = (1/N) * Σ((Xi - Xmean) * (Yi - Ymean))\n",
    "\n",
    "#To interpret the results, a positive covariance indicates that the two variables tend to move in the same direction,while a negative covariance indicates that the two variables tend to move in opposite directions.\n",
    "#A covariance of zero indicates that there is no linear relationship between the two variables.\n",
    "\n",
    "#Here are the covariances between each pair of variables:\n",
    "#Covariance(Temperature, Humidity): This will tell us how the two continuous variables, Temperature and Humidity, are related to each other.\n",
    "#Covariance(Temperature, Weather Condition): This will tell us how the temperature varies with different weather conditions. \n",
    "#Covariance(Temperature, Wind Direction): This will tell us how the temperature varies with different wind directions.\n",
    "#Covariance(Humidity, Weather Condition): This will tell us how humidity varies with different weather conditions. \n",
    "#Covariance(Humidity, Wind Direction): This will tell us how humidity varies with different wind directions.\n",
    "#Covariance(Weather Condition, Wind Direction): This will tell us how the two categorical variables, Weather Condition and Wind Direction, are related to each other."
   ]
  }
 ],
 "metadata": {
  "kernelspec": {
   "display_name": "Python 3 (ipykernel)",
   "language": "python",
   "name": "python3"
  },
  "language_info": {
   "codemirror_mode": {
    "name": "ipython",
    "version": 3
   },
   "file_extension": ".py",
   "mimetype": "text/x-python",
   "name": "python",
   "nbconvert_exporter": "python",
   "pygments_lexer": "ipython3",
   "version": "3.10.8"
  }
 },
 "nbformat": 4,
 "nbformat_minor": 5
}
