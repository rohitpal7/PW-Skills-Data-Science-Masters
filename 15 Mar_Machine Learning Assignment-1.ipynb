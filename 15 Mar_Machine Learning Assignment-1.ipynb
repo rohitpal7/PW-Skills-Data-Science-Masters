{
 "cells": [
  {
   "cell_type": "code",
   "execution_count": null,
   "id": "97e86081-2a50-4e00-a9a8-3fa28c721d41",
   "metadata": {},
   "outputs": [],
   "source": [
    "#Q1. Explain the following with an example: Artificial Intelligence, Machine Learning and Deep Learning\n",
    "#Ans.\n",
    "#1. Artificial Intelligence (AI) is a broad field that involves developing computer systems that can perform tasks that typically require human intelligence, such as perception, reasoning, learning, and decision-making.\n",
    "#AI systems can be applied to a wide range of domains, such as natural language processing, computer vision, robotics, and expert systems.\n",
    "#2. Machine Learning (ML) is a subset of AI that involves developing algorithms that can learn from data and make predictions or decisions based on that data. \n",
    "#ML algorithms can be categorized into three main types: supervised learning, unsupervised learning, and reinforcement learning.\n",
    "#3. Deep Learning (DL) is a subset of ML that involves developing artificial neural networks that can learn from large amounts of data. \n",
    "#DL algorithms are used in tasks such as image recognition, speech recognition, natural language processing, and autonomous driving."
   ]
  },
  {
   "cell_type": "code",
   "execution_count": null,
   "id": "615e8bbb-006b-4eb0-8c85-32a14fe98af5",
   "metadata": {},
   "outputs": [],
   "source": [
    "#Q2. What is supervised learning? List some examples of supervised learning.\n",
    "#Ans.\n",
    "#Supervised learning is a type of machine learning in which an algorithm is trained on a labeled dataset, where each example in the dataset includes both an input (also called features) and an output label (also called target).\n",
    "#Some examples of supervised learning tasks include:\n",
    "#Image classification: Given an image, the algorithm predicts the object or scene category of the image (e.g., cat, dog, car, etc.).\n",
    "#Speech recognition: Given an audio recording of speech, the algorithm predicts the text transcript of the speech.\n",
    "#Fraud detection: Given information about a transaction, such as amount, location, and time, the algorithm predicts whether the transaction is fraudulent or not."
   ]
  },
  {
   "cell_type": "code",
   "execution_count": null,
   "id": "aff46195-f2fd-41f3-80df-2d0a41d7e285",
   "metadata": {},
   "outputs": [],
   "source": [
    "#Q3. What is Unsupervised learning? List some examples of Unsupervised learning.\n",
    "#Ans.\n",
    "#Unsupervised learning is a type of machine learning in which the algorithm is trained on an unlabeled dataset, meaning that the data has no predefined output labels or target variable. \n",
    "#Some examples of unsupervised learning tasks include:\n",
    "#Clustering: Grouping similar data points together based on their similarity in feature space.\n",
    "#Anomaly detection: Identifying data points that are significantly different from the majority of the data, which can be useful in detecting fraud or detecting defective products in manufacturing.\n",
    "#Generative models: Generating new data points that are similar to the training data, which can be useful in creating new artwork or in synthesizing realistic images or audio."
   ]
  },
  {
   "cell_type": "code",
   "execution_count": null,
   "id": "af0298d4-acf4-42ae-a487-a48db500ad67",
   "metadata": {},
   "outputs": [],
   "source": [
    "#Q4. What is the difference between AI, ML, DL, and DS?\n",
    "#Ans.\n",
    "#AI (Artificial Intelligence), ML (Machine Learning), DL (Deep Learning), and DS (Data Science) are related but distinct fields in computer science.\n",
    "#AI is a broad field that aims to create intelligent machines that can perform tasks that typically require human-level intelligence, such as recognizing images, understanding natural language, and making decisions.\n",
    "#ML is a subset of AI that focuses on the development of algorithms and statistical models that can learn from and make predictions or decisions based on data. \n",
    "#DL is a subset of ML that uses deep neural networks, which are artificial neural networks with multiple layers, to model complex patterns and relationships in data. \n",
    "#DS is a field that encompasses the entire process of collecting, cleaning, analyzing, and visualizing data to extract insights and inform decision-making.\n",
    "#In summary, AI is a broad field that includes ML, which in turn includes DL as a specialized subfield. DS is a separate field that overlaps with ML and AI but has a broader focus on the entire data pipeline."
   ]
  },
  {
   "cell_type": "code",
   "execution_count": null,
   "id": "561b8305-224c-46ba-afef-0d9b73ead75b",
   "metadata": {},
   "outputs": [],
   "source": [
    "#Q5. What are the main difference between supervised, unsupervised and semi-supervised learning?\n",
    "#Ans.\n",
    "#Labeled vs. Unlabeled Data: \n",
    "#Supervised learning requires labeled data, where the input data is accompanied by corresponding output labels or target variables. \n",
    "#Unsupervised learning, on the other hand, uses unlabeled data, where the algorithm is not provided with any predefined output labels. \n",
    "#Semi-supervised learning is a combination of both, where a small amount of labeled data is used in conjunction with a larger amount of unlabeled data.\n",
    "\n",
    "#Goal: \n",
    "#The goal of supervised learning is to predict or classify new input data based on the labeled training data. \n",
    "#The goal of unsupervised learning is to find structure or patterns in the input data without any explicit guidance. \n",
    "#The goal of semi-supervised learning is to improve the performance of an unsupervised learning algorithm by using a small amount of labeled data.\n",
    "\n",
    "#Examples: \n",
    "#Some examples of supervised learning tasks include image classification, speech recognition, and sentiment analysis. \n",
    "#Some examples of unsupervised learning tasks include clustering, anomaly detection, and dimensionality reduction. \n",
    "#Some examples of semi-supervised learning tasks include image and speech recognition, where a small amount of labeled data can improve the accuracy of an unsupervised algorithm."
   ]
  },
  {
   "cell_type": "code",
   "execution_count": null,
   "id": "7a851d2c-c8e4-4895-a24b-bd3bf82a8b47",
   "metadata": {},
   "outputs": [],
   "source": [
    "#Q6. What is train, test and validation split? Explain the importance of each term.\n",
    "#Ans.\n",
    "#In machine learning, the process of training a model involves splitting a dataset into three parts: training set, validation set, and test set. \n",
    "#The purpose of this split is to evaluate the performance of the model during training and to estimate its performance on new, unseen data.\n",
    "\n",
    "#The training set is used to train the model by adjusting its parameters or weights based on the input data and corresponding output labels.\n",
    "#The validation set is used to evaluate the performance of the model during training and to tune its hyperparameters.\n",
    "#The test set is used to evaluate the final performance of the model after training is complete. "
   ]
  },
  {
   "cell_type": "code",
   "execution_count": null,
   "id": "7058f765-a47b-4446-9fc8-a467101b6cec",
   "metadata": {},
   "outputs": [],
   "source": [
    "#Q7. How can unsupervised learning be used in anomaly detection?\n",
    "#Ans.\n",
    "#Unsupervised learning can be used in anomaly detection by identifying patterns or structures in the input data that are different or unusual compared to the majority of the data. \n",
    "#Anomaly detection is the process of identifying rare or unexpected events or observations in a dataset that deviate from the norm.\n",
    "\n",
    "#There are several approaches to using unsupervised learning for anomaly detection:\n",
    "#Clustering\n",
    "#Density estimation\n",
    "#Dimensionality reduction\n",
    "#Autoencoders"
   ]
  },
  {
   "cell_type": "code",
   "execution_count": null,
   "id": "12743665-e5bb-40bf-933a-f322a4299f5a",
   "metadata": {},
   "outputs": [],
   "source": [
    "#Q8. List down some commonly used supervised learning algorithms and unsupervised learning algorithms.\n",
    "#Ans.\n",
    "#Commonly used supervised learning algorithms:\n",
    "#Linear Regression\n",
    "#Logistic Regression\n",
    "#Decision Trees\n",
    "#Random Forests\n",
    "#Support Vector Machines (SVM)\n",
    "#Naive Bayes\n",
    "#k-Nearest Neighbors (k-NN)\n",
    "#Neural Networks (Multi-layer Perceptron, Convolutional Neural Networks, etc.)\n",
    "\n",
    "#Commonly used unsupervised learning algorithms:\n",
    "#k-Means Clustering\n",
    "#Hierarchical Clustering\n",
    "#Principal Component Analysis (PCA)\n",
    "#t-Distributed Stochastic Neighbor Embedding (t-SNE)\n",
    "#Gaussian Mixture Models (GMM)\n",
    "#Self-Organizing Maps (SOM)\n",
    "#Association Rule Learning (Apriori)\n",
    "#Autoencoders."
   ]
  }
 ],
 "metadata": {
  "kernelspec": {
   "display_name": "Python 3 (ipykernel)",
   "language": "python",
   "name": "python3"
  },
  "language_info": {
   "codemirror_mode": {
    "name": "ipython",
    "version": 3
   },
   "file_extension": ".py",
   "mimetype": "text/x-python",
   "name": "python",
   "nbconvert_exporter": "python",
   "pygments_lexer": "ipython3",
   "version": "3.10.8"
  }
 },
 "nbformat": 4,
 "nbformat_minor": 5
}
