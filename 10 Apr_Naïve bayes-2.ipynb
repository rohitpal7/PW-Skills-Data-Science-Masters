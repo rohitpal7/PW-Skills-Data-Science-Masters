{
 "cells": [
  {
   "cell_type": "code",
   "execution_count": null,
   "id": "62ac8052-ef04-428a-899f-fce03385f685",
   "metadata": {},
   "outputs": [],
   "source": [
    "#Q1. A company conducted a survey of its employees and found that 70% of the employees use the company's health insurance plan, while 40% of the employees who use the plan are smokers. What is the probability that an employee is a smoker given that he/she uses the health insurance plan?\n",
    "#Ans.\n",
    "To solve this problem, we can use Bayes' theorem:\n",
    "P(Smoker|Uses plan) = P(Uses plan|Smoker) * P(Smoker) / P(Uses plan)\n",
    "\n",
    "We can start by calculating P(Smoker) using the law of total probability:\n",
    "P(Smoker) = P(Smoker and Uses plan) + P(Smoker and Does not use plan)\n",
    "= P(Uses plan|Smoker) * P(Smoker) + P(Does not use plan|Smoker) * P(Smoker)\n",
    "= 0.4 * P(Smoker) + 0.6 * P(Smoker)\n",
    "= 1 * P(Smoker)\n",
    "\n",
    "Simplifying, we get:\n",
    "P(Smoker) = 1/3\n",
    "\n",
    "Now we can substitute the values in Bayes' theorem:\n",
    "P(Smoker|Uses plan) = P(Uses plan|Smoker) * P(Smoker) / P(Uses plan)\n",
    "= 0.4 * (1/3) / 0.7\n",
    "= 0.19 or 19%\n",
    "\n",
    "Therefore, the probability that an employee is a smoker given that he/she uses the health insurance plan is 19%."
   ]
  },
  {
   "cell_type": "code",
   "execution_count": null,
   "id": "1751dc8b-1dcf-4e4c-901b-309ca457335a",
   "metadata": {},
   "outputs": [],
   "source": [
    "#Q2. What is the difference between Bernoulli Naive Bayes and Multinomial Naive Bayes?\n",
    "#Ans.\n",
    "#Bernoulli Naive Bayes is used for binary data, while Multinomial Naive Bayes is used for count data.\n",
    "#Bernoulli Naive Bayes is typically used for binary data, where each feature can only take on one of two possible values (e.g., 0 or 1, yes or no).\n",
    "#Multinomial Naive Bayes, on the other hand, is typically used for discrete count data, where each feature represents the number of times a particular word or term appears in a document or text. "
   ]
  },
  {
   "cell_type": "code",
   "execution_count": null,
   "id": "495a4ee3-689c-438e-b05b-59bd3094a680",
   "metadata": {},
   "outputs": [],
   "source": [
    "#Q3. How does Bernoulli Naive Bayes handle missing values?\n",
    "#Ans.\n",
    "#Bernoulli Naive Bayes assumes that each feature is conditionally independent given the class. \n",
    "#Therefore, when handling missing values, the algorithm simply ignores the missing values and assumes that the feature is not present in the document or sample being classified.\n",
    "\n",
    "#For example, if a binary feature has a missing value for a particular sample, the algorithm will assume that the feature is not present in that sample, \n",
    "#and will not consider it when calculating the probability of the sample belonging to a particular class."
   ]
  },
  {
   "cell_type": "code",
   "execution_count": null,
   "id": "a886b6d9-f3b6-47d4-b92b-e88ea1d682c0",
   "metadata": {},
   "outputs": [],
   "source": [
    "#Q4. Can Gaussian Naive Bayes be used for multi-class classification?\n",
    "#Ans.\n",
    "#Yes, Gaussian Naive Bayes can be used for multi-class classification by extending it to the multi-class case. \n",
    "#One common approach is the one-vs-all (OvA) or one-vs-rest (OvR) strategy, where the classifier is trained for each class versus the rest of the classes. \n",
    "#The class with the highest probability is then assigned to the input sample."
   ]
  }
 ],
 "metadata": {
  "kernelspec": {
   "display_name": "Python 3 (ipykernel)",
   "language": "python",
   "name": "python3"
  },
  "language_info": {
   "codemirror_mode": {
    "name": "ipython",
    "version": 3
   },
   "file_extension": ".py",
   "mimetype": "text/x-python",
   "name": "python",
   "nbconvert_exporter": "python",
   "pygments_lexer": "ipython3",
   "version": "3.10.8"
  }
 },
 "nbformat": 4,
 "nbformat_minor": 5
}
