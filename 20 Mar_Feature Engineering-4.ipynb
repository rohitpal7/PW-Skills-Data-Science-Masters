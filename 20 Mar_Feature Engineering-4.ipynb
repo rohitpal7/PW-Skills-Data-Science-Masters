{
 "cells": [
  {
   "cell_type": "code",
   "execution_count": null,
   "id": "102ea906-7496-4cde-9b83-a4c07a0848aa",
   "metadata": {},
   "outputs": [],
   "source": [
    "#Q1. What is data encoding? How is it useful in data science?\n",
    "#Ans.\n",
    "#Data encoding is the process of converting data from one format or representation to another, in order to facilitate its storage, transmission, and processing.\n",
    "#In data science, data encoding is a fundamental concept that plays a key role in various data-related tasks, such as data preparation, feature engineering, data modeling, and machine learning.\n",
    "\n",
    "#Here are some ways in which data encoding is useful in data science: Data compression, Data normalization, Feature extraction, Machine learning"
   ]
  },
  {
   "cell_type": "code",
   "execution_count": null,
   "id": "b878d584-2eff-4f9e-ae03-1a821a3ecde2",
   "metadata": {},
   "outputs": [],
   "source": [
    "#Q2. What is nominal encoding? Provide an example of how you would use it in a real-world scenario.\n",
    "#Ans.\n",
    "#Nominal encoding, also known as one-hot encoding, is a data encoding technique that is used to convert categorical variables into numerical features. "
   ]
  },
  {
   "cell_type": "code",
   "execution_count": null,
   "id": "9acce61d-baf6-460f-9c20-6b21c37cff38",
   "metadata": {},
   "outputs": [],
   "source": [
    "#Q3. In what situations is nominal encoding preferred over one-hot encoding? Provide a practical example.\n",
    "#Ans.\n",
    "#Nominal encoding and one-hot encoding are two common techniques used for encoding categorical variables into numerical features. \n",
    "#Nominal encoding may be preferred over one-hot encoding in certain situations where the number of categories is large, and one-hot encoding would result in a large number of columns or features. \n",
    "\n",
    "#For example, consider a data set with a categorical variable representing countries. If there are only a few countries in the data set, one-hot encoding would be appropriate, as it would only create a few new columns. "
   ]
  },
  {
   "cell_type": "code",
   "execution_count": null,
   "id": "fc7388d7-22fc-4373-a3ee-4bb76007c942",
   "metadata": {},
   "outputs": [],
   "source": [
    "#Q4. Suppose you have a dataset containing categorical data with 5 unique values. Which encoding technique would you use to transform this data into a format suitable for machine learning algorithms? Explain why you made this choice.\n",
    "#Ans.\n",
    "#If the dataset contains categorical data with 5 unique values, I would most likely use one-hot encoding to transform this data into a format suitable for machine learning algorithms. \n",
    "#Here's why:\n",
    "#One-hot encoding is a common technique used for encoding categorical data into numerical features. \n",
    "#In one-hot encoding, each unique category value is represented by a binary column or feature, where a value of 1 indicates the presence of that category and a value of 0 indicates the absence of that category."
   ]
  },
  {
   "cell_type": "code",
   "execution_count": null,
   "id": "20dc0051-26cb-4e38-9731-c5b1857ef570",
   "metadata": {},
   "outputs": [],
   "source": [
    "#Q5. In a machine learning project, you have a dataset with 1000 rows and 5 columns. Two of the columnsare categorical, and the remaining three columns are numerical. If you were to use nominal encoding totransform the categorical data, how many new columns would be created? Show your calculations.\n",
    "#Ans.\n",
    "#If we were to use nominal encoding to transform the categorical data in the given dataset, we would create a new column for each unique category value in each categorical variable.\n",
    "#Assuming that the two categorical columns have unique values as follows:\n",
    "\n",
    "#Categorical Column 1: 4 unique values\n",
    "#Categorical Column 2: 6 unique values\n",
    "#Then, using nominal encoding, we would create 4 + 6 = 10 new columns, one for each unique category value in each categorical column.\n",
    "\n",
    "#Therefore, the total number of columns in the transformed dataset would be:\n",
    "#3 original numerical columns + 10 new columns for nominal encoding = 13 columns in total."
   ]
  },
  {
   "cell_type": "code",
   "execution_count": null,
   "id": "8b9c3a3f-4382-483b-b46a-2d1924e356d1",
   "metadata": {},
   "outputs": [],
   "source": [
    "#Q6. You are working with a dataset containing information about different types of animals, including theirspecies, habitat, and diet. Which encoding technique would you use to transform the categorical data intoa format suitable for machine learning algorithms? Justify your answer.\n",
    "#Ans.\n",
    "#The choice of encoding technique for transforming categorical data into a format suitable for machine learning algorithms depends on the nature of the categorical variables and the specific requirements of the machine learning model being used."
   ]
  },
  {
   "cell_type": "code",
   "execution_count": null,
   "id": "e5c92062-aceb-4e02-86f7-f0bc432c6f06",
   "metadata": {},
   "outputs": [],
   "source": [
    "#Q7. You are working on a project that involves predicting customer churn for a telecommunicationscompany. You have a dataset with 5 features, including the customer's gender, age, contract type,monthly charges, and tenure. Which encoding technique(s) would you use to transform the categoricaldata into numerical data? Provide a step-by-step explanation of how you would implement the encoding.\n",
    "#Ans.\n",
    "#In this scenario, the categorical feature is the \"contract type\" and we need to encode it into numerical data. \n",
    "#There are several encoding techniques that we can use, such as one-hot encoding, ordinal encoding, target encoding, or binary encoding.\n",
    "\n",
    "#Here's a step-by-step explanation of how to implement each of these techniques: One-hot encoding, Ordinal encoding, Target encoding, Binary encoding"
   ]
  }
 ],
 "metadata": {
  "kernelspec": {
   "display_name": "Python 3 (ipykernel)",
   "language": "python",
   "name": "python3"
  },
  "language_info": {
   "codemirror_mode": {
    "name": "ipython",
    "version": 3
   },
   "file_extension": ".py",
   "mimetype": "text/x-python",
   "name": "python",
   "nbconvert_exporter": "python",
   "pygments_lexer": "ipython3",
   "version": "3.10.8"
  }
 },
 "nbformat": 4,
 "nbformat_minor": 5
}
