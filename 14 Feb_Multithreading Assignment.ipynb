{
 "cells": [
  {
   "cell_type": "code",
   "execution_count": null,
   "id": "c4a3d5dd-e825-41f4-b35a-84ffb51bbf7b",
   "metadata": {},
   "outputs": [],
   "source": [
    "#Q1. What is multithreading in python? why is it used? Name the module used to handle threads in python.\n",
    "#Ans.\n",
    "#Multithreading in Python is a programming concept where multiple threads of execution run concurrently within a single process. \n",
    "#It is used to improve the performance of a program by allowing it to execute multiple tasks simultaneously. \n",
    "#The \"threading\" module is used to handle threads in Python."
   ]
  },
  {
   "cell_type": "code",
   "execution_count": null,
   "id": "37add139-8eb6-478a-a4df-b1efbdecda3b",
   "metadata": {},
   "outputs": [],
   "source": [
    "#Q2. Why threading module used? write the use of the following functions: activeCount(), currentThread(), enumerate()\n",
    "#Ans.\n",
    "#The threading module in Python is used to create, manage, and interact with threads in a Python program.\n",
    "#1. activeCount(): The activeCount() function returns the number of currently active threads in the program. \n",
    "#It can be used to monitor the current status of the threads and ensure that they are executing as expected.\n",
    "\n",
    "#2. currentThread(): The currentThread() function returns a reference to the current thread object. \n",
    "#It can be used to get information about the current thread, such as its name and ID.\n",
    "\n",
    "#3. enumerate(): The enumerate() function returns a list of all currently active thread objects. \n",
    "#It can be used to get information about all threads in the program, such as their names and IDs, and to iterate over them to perform actions such as joining them or terminating them."
   ]
  },
  {
   "cell_type": "code",
   "execution_count": null,
   "id": "3010ae00-ce31-4240-96a4-74e518d11c9d",
   "metadata": {},
   "outputs": [],
   "source": [
    "#Q3. Explain the following functions: run(), start(), join(), isAlive()\n",
    "#Ans.\n",
    "#1. run(): The run() function is the entry point for the thread's activity. When a new thread is created, its run() method is called and the thread begins executing.\n",
    "#2. start(): The start() function starts a new thread of execution by calling the thread's run() method in a separate thread. It initializes the thread's internal data structures and starts the thread's execution. \n",
    "#3. join(): The join() function waits for a thread to complete its execution before continuing. It is used to synchronize the main thread with the completion of a child thread.  \n",
    "#4. isAlive(): The isAlive() function is used to check whether a thread is currently executing. It returns True if the thread is currently running, and False otherwise."
   ]
  },
  {
   "cell_type": "code",
   "execution_count": 3,
   "id": "e614cd45-c2ae-4c56-97af-6e69520e701a",
   "metadata": {},
   "outputs": [
    {
     "name": "stdout",
     "output_type": "stream",
     "text": [
      "List of Squares: [1, 4, 9, 16, 25, 36, 49, 64, 81, 100]\n",
      "List of Cubes: [1, 8, 27, 64, 125, 216, 343, 512, 729, 1000]\n"
     ]
    }
   ],
   "source": [
    "#Q4. Write a python program to create two threads. Thread one must print the list of squares and thread two must print the list of cubes.\n",
    "#Ans.\n",
    "import threading\n",
    "\n",
    "def sqr():\n",
    "    squares = [i*i for i in range(1, 11)]\n",
    "    print(\"List of Squares:\", squares)\n",
    "\n",
    "def cube():\n",
    "    cubes = [i*i*i for i in range(1, 11)]\n",
    "    print(\"List of Cubes:\", cubes)\n",
    "\n",
    "t1 = threading.Thread(target=sqr)\n",
    "t2 = threading.Thread(target=cube)\n",
    "\n",
    "t1.start()\n",
    "t2.start()"
   ]
  },
  {
   "cell_type": "code",
   "execution_count": 4,
   "id": "0eea1112-6682-46b4-b4e9-108b8d62480a",
   "metadata": {},
   "outputs": [],
   "source": [
    "#Q5. State advantages and disadvantages of multithreading.\n",
    "#Ans.\n",
    "#Advantages:\n",
    "#1. Improved performance\n",
    "#2. Resource sharing\n",
    "#3. Responsiveness\n",
    "#4. Scalability\n",
    "\n",
    "#Disadvantages:\n",
    "#1. Complexity\n",
    "#2. Debugging\n",
    "#3. Overhead\n",
    "#4. Resource contention"
   ]
  },
  {
   "cell_type": "code",
   "execution_count": null,
   "id": "12aea3c3-3405-4b27-9d68-01a808cf8441",
   "metadata": {},
   "outputs": [],
   "source": [
    "#Q6. Explain deadlocks and race conditions.\n",
    "#Ans.\n",
    "#A deadlock occurs when two or more processes are unable to proceed because each is waiting for the other to do something. \n",
    "#A race condition occurs when the behavior of a system or program depends on the timing or sequence of events, and the outcome of the system is dependent on the order in which events occur. "
   ]
  }
 ],
 "metadata": {
  "kernelspec": {
   "display_name": "Python 3 (ipykernel)",
   "language": "python",
   "name": "python3"
  },
  "language_info": {
   "codemirror_mode": {
    "name": "ipython",
    "version": 3
   },
   "file_extension": ".py",
   "mimetype": "text/x-python",
   "name": "python",
   "nbconvert_exporter": "python",
   "pygments_lexer": "ipython3",
   "version": "3.10.8"
  }
 },
 "nbformat": 4,
 "nbformat_minor": 5
}
